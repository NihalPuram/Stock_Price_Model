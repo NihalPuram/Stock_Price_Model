{
 "cells": [
  {
   "cell_type": "code",
   "execution_count": 1,
   "metadata": {},
   "outputs": [],
   "source": [
    "from sklearn.model_selection import train_test_split\n",
    "from sklearn.tree import DecisionTreeRegressor\n",
    "from sklearn.linear_model import LinearRegression\n",
    "from sklearn import metrics"
   ]
  },
  {
   "cell_type": "code",
   "execution_count": 2,
   "metadata": {},
   "outputs": [],
   "source": [
    "import pandas as pd\n",
    "import matplotlib.pyplot as plt\n",
    "import numpy as np"
   ]
  },
  {
   "cell_type": "code",
   "execution_count": 3,
   "metadata": {},
   "outputs": [],
   "source": [
    "import pandas_datareader as pdr\n",
    "stock = \"NFLX\"\n",
    "dataset = pdr.get_data_tiingo(stock,api_key='01242f1841e2df26cc68cb4785d24b58cc1e60c8')\n",
    "dataset.to_csv('DATA.csv')"
   ]
  },
  {
   "cell_type": "code",
   "execution_count": 4,
   "metadata": {},
   "outputs": [],
   "source": [
    "dataset = pd.read_csv(\"DATA.csv\")"
   ]
  },
  {
   "cell_type": "code",
   "execution_count": 5,
   "metadata": {},
   "outputs": [
    {
     "data": {
      "text/html": [
       "<div>\n",
       "<style scoped>\n",
       "    .dataframe tbody tr th:only-of-type {\n",
       "        vertical-align: middle;\n",
       "    }\n",
       "\n",
       "    .dataframe tbody tr th {\n",
       "        vertical-align: top;\n",
       "    }\n",
       "\n",
       "    .dataframe thead th {\n",
       "        text-align: right;\n",
       "    }\n",
       "</style>\n",
       "<table border=\"1\" class=\"dataframe\">\n",
       "  <thead>\n",
       "    <tr style=\"text-align: right;\">\n",
       "      <th></th>\n",
       "      <th>symbol</th>\n",
       "      <th>date</th>\n",
       "      <th>close</th>\n",
       "      <th>high</th>\n",
       "      <th>low</th>\n",
       "      <th>open</th>\n",
       "      <th>volume</th>\n",
       "      <th>adjClose</th>\n",
       "      <th>adjHigh</th>\n",
       "      <th>adjLow</th>\n",
       "      <th>adjOpen</th>\n",
       "      <th>adjVolume</th>\n",
       "      <th>divCash</th>\n",
       "      <th>splitFactor</th>\n",
       "    </tr>\n",
       "  </thead>\n",
       "  <tbody>\n",
       "    <tr>\n",
       "      <th>0</th>\n",
       "      <td>NFLX</td>\n",
       "      <td>2015-09-14 00:00:00+00:00</td>\n",
       "      <td>95.69</td>\n",
       "      <td>97.91</td>\n",
       "      <td>94.33</td>\n",
       "      <td>96.84</td>\n",
       "      <td>15545991</td>\n",
       "      <td>95.69</td>\n",
       "      <td>97.91</td>\n",
       "      <td>94.33</td>\n",
       "      <td>96.84</td>\n",
       "      <td>15545991</td>\n",
       "      <td>0.0</td>\n",
       "      <td>1.0</td>\n",
       "    </tr>\n",
       "    <tr>\n",
       "      <th>1</th>\n",
       "      <td>NFLX</td>\n",
       "      <td>2015-09-15 00:00:00+00:00</td>\n",
       "      <td>99.16</td>\n",
       "      <td>99.65</td>\n",
       "      <td>93.61</td>\n",
       "      <td>95.22</td>\n",
       "      <td>22591084</td>\n",
       "      <td>99.16</td>\n",
       "      <td>99.65</td>\n",
       "      <td>93.61</td>\n",
       "      <td>95.22</td>\n",
       "      <td>22591084</td>\n",
       "      <td>0.0</td>\n",
       "      <td>1.0</td>\n",
       "    </tr>\n",
       "    <tr>\n",
       "      <th>2</th>\n",
       "      <td>NFLX</td>\n",
       "      <td>2015-09-16 00:00:00+00:00</td>\n",
       "      <td>104.08</td>\n",
       "      <td>104.48</td>\n",
       "      <td>99.33</td>\n",
       "      <td>99.70</td>\n",
       "      <td>28058216</td>\n",
       "      <td>104.08</td>\n",
       "      <td>104.48</td>\n",
       "      <td>99.33</td>\n",
       "      <td>99.70</td>\n",
       "      <td>28058216</td>\n",
       "      <td>0.0</td>\n",
       "      <td>1.0</td>\n",
       "    </tr>\n",
       "    <tr>\n",
       "      <th>3</th>\n",
       "      <td>NFLX</td>\n",
       "      <td>2015-09-17 00:00:00+00:00</td>\n",
       "      <td>104.21</td>\n",
       "      <td>107.50</td>\n",
       "      <td>101.83</td>\n",
       "      <td>103.67</td>\n",
       "      <td>25817651</td>\n",
       "      <td>104.21</td>\n",
       "      <td>107.50</td>\n",
       "      <td>101.83</td>\n",
       "      <td>103.67</td>\n",
       "      <td>25817651</td>\n",
       "      <td>0.0</td>\n",
       "      <td>1.0</td>\n",
       "    </tr>\n",
       "    <tr>\n",
       "      <th>4</th>\n",
       "      <td>NFLX</td>\n",
       "      <td>2015-09-18 00:00:00+00:00</td>\n",
       "      <td>102.62</td>\n",
       "      <td>104.36</td>\n",
       "      <td>100.71</td>\n",
       "      <td>102.00</td>\n",
       "      <td>21715034</td>\n",
       "      <td>102.62</td>\n",
       "      <td>104.36</td>\n",
       "      <td>100.71</td>\n",
       "      <td>102.00</td>\n",
       "      <td>21715034</td>\n",
       "      <td>0.0</td>\n",
       "      <td>1.0</td>\n",
       "    </tr>\n",
       "  </tbody>\n",
       "</table>\n",
       "</div>"
      ],
      "text/plain": [
       "  symbol                       date   close    high     low    open    volume  \\\n",
       "0   NFLX  2015-09-14 00:00:00+00:00   95.69   97.91   94.33   96.84  15545991   \n",
       "1   NFLX  2015-09-15 00:00:00+00:00   99.16   99.65   93.61   95.22  22591084   \n",
       "2   NFLX  2015-09-16 00:00:00+00:00  104.08  104.48   99.33   99.70  28058216   \n",
       "3   NFLX  2015-09-17 00:00:00+00:00  104.21  107.50  101.83  103.67  25817651   \n",
       "4   NFLX  2015-09-18 00:00:00+00:00  102.62  104.36  100.71  102.00  21715034   \n",
       "\n",
       "   adjClose  adjHigh  adjLow  adjOpen  adjVolume  divCash  splitFactor  \n",
       "0     95.69    97.91   94.33    96.84   15545991      0.0          1.0  \n",
       "1     99.16    99.65   93.61    95.22   22591084      0.0          1.0  \n",
       "2    104.08   104.48   99.33    99.70   28058216      0.0          1.0  \n",
       "3    104.21   107.50  101.83   103.67   25817651      0.0          1.0  \n",
       "4    102.62   104.36  100.71   102.00   21715034      0.0          1.0  "
      ]
     },
     "execution_count": 5,
     "metadata": {},
     "output_type": "execute_result"
    }
   ],
   "source": [
    "dataset.head()"
   ]
  },
  {
   "cell_type": "code",
   "execution_count": 6,
   "metadata": {},
   "outputs": [
    {
     "data": {
      "text/html": [
       "<div>\n",
       "<style scoped>\n",
       "    .dataframe tbody tr th:only-of-type {\n",
       "        vertical-align: middle;\n",
       "    }\n",
       "\n",
       "    .dataframe tbody tr th {\n",
       "        vertical-align: top;\n",
       "    }\n",
       "\n",
       "    .dataframe thead th {\n",
       "        text-align: right;\n",
       "    }\n",
       "</style>\n",
       "<table border=\"1\" class=\"dataframe\">\n",
       "  <thead>\n",
       "    <tr style=\"text-align: right;\">\n",
       "      <th></th>\n",
       "      <th>close</th>\n",
       "      <th>high</th>\n",
       "      <th>low</th>\n",
       "      <th>open</th>\n",
       "      <th>volume</th>\n",
       "      <th>adjClose</th>\n",
       "      <th>adjHigh</th>\n",
       "      <th>adjLow</th>\n",
       "      <th>adjOpen</th>\n",
       "      <th>adjVolume</th>\n",
       "      <th>divCash</th>\n",
       "      <th>splitFactor</th>\n",
       "    </tr>\n",
       "  </thead>\n",
       "  <tbody>\n",
       "    <tr>\n",
       "      <th>count</th>\n",
       "      <td>1256.000000</td>\n",
       "      <td>1256.000000</td>\n",
       "      <td>1256.000000</td>\n",
       "      <td>1256.000000</td>\n",
       "      <td>1.256000e+03</td>\n",
       "      <td>1256.000000</td>\n",
       "      <td>1256.000000</td>\n",
       "      <td>1256.000000</td>\n",
       "      <td>1256.000000</td>\n",
       "      <td>1.256000e+03</td>\n",
       "      <td>1256.0</td>\n",
       "      <td>1256.0</td>\n",
       "    </tr>\n",
       "    <tr>\n",
       "      <th>mean</th>\n",
       "      <td>248.179053</td>\n",
       "      <td>251.969500</td>\n",
       "      <td>243.948426</td>\n",
       "      <td>248.019801</td>\n",
       "      <td>9.857578e+06</td>\n",
       "      <td>248.179053</td>\n",
       "      <td>251.969500</td>\n",
       "      <td>243.948426</td>\n",
       "      <td>248.019801</td>\n",
       "      <td>9.857578e+06</td>\n",
       "      <td>0.0</td>\n",
       "      <td>1.0</td>\n",
       "    </tr>\n",
       "    <tr>\n",
       "      <th>std</th>\n",
       "      <td>120.929866</td>\n",
       "      <td>122.956641</td>\n",
       "      <td>118.595482</td>\n",
       "      <td>120.806220</td>\n",
       "      <td>6.534482e+06</td>\n",
       "      <td>120.929866</td>\n",
       "      <td>122.956641</td>\n",
       "      <td>118.595482</td>\n",
       "      <td>120.806220</td>\n",
       "      <td>6.534482e+06</td>\n",
       "      <td>0.0</td>\n",
       "      <td>0.0</td>\n",
       "    </tr>\n",
       "    <tr>\n",
       "      <th>min</th>\n",
       "      <td>82.790000</td>\n",
       "      <td>84.700000</td>\n",
       "      <td>79.950000</td>\n",
       "      <td>80.570000</td>\n",
       "      <td>3.862200e+04</td>\n",
       "      <td>82.790000</td>\n",
       "      <td>84.700000</td>\n",
       "      <td>79.950000</td>\n",
       "      <td>80.570000</td>\n",
       "      <td>3.862200e+04</td>\n",
       "      <td>0.0</td>\n",
       "      <td>1.0</td>\n",
       "    </tr>\n",
       "    <tr>\n",
       "      <th>25%</th>\n",
       "      <td>125.547500</td>\n",
       "      <td>127.677900</td>\n",
       "      <td>124.282500</td>\n",
       "      <td>126.010000</td>\n",
       "      <td>5.504314e+06</td>\n",
       "      <td>125.547500</td>\n",
       "      <td>127.677900</td>\n",
       "      <td>124.282500</td>\n",
       "      <td>126.010000</td>\n",
       "      <td>5.504314e+06</td>\n",
       "      <td>0.0</td>\n",
       "      <td>1.0</td>\n",
       "    </tr>\n",
       "    <tr>\n",
       "      <th>50%</th>\n",
       "      <td>267.480000</td>\n",
       "      <td>272.715000</td>\n",
       "      <td>262.770000</td>\n",
       "      <td>266.830000</td>\n",
       "      <td>7.860330e+06</td>\n",
       "      <td>267.480000</td>\n",
       "      <td>272.715000</td>\n",
       "      <td>262.770000</td>\n",
       "      <td>266.830000</td>\n",
       "      <td>7.860330e+06</td>\n",
       "      <td>0.0</td>\n",
       "      <td>1.0</td>\n",
       "    </tr>\n",
       "    <tr>\n",
       "      <th>75%</th>\n",
       "      <td>351.172500</td>\n",
       "      <td>356.112500</td>\n",
       "      <td>344.957500</td>\n",
       "      <td>351.057500</td>\n",
       "      <td>1.205153e+07</td>\n",
       "      <td>351.172500</td>\n",
       "      <td>356.112500</td>\n",
       "      <td>344.957500</td>\n",
       "      <td>351.057500</td>\n",
       "      <td>1.205153e+07</td>\n",
       "      <td>0.0</td>\n",
       "      <td>1.0</td>\n",
       "    </tr>\n",
       "    <tr>\n",
       "      <th>max</th>\n",
       "      <td>556.550000</td>\n",
       "      <td>575.370000</td>\n",
       "      <td>537.369000</td>\n",
       "      <td>567.980000</td>\n",
       "      <td>5.841036e+07</td>\n",
       "      <td>556.550000</td>\n",
       "      <td>575.370000</td>\n",
       "      <td>537.369000</td>\n",
       "      <td>567.980000</td>\n",
       "      <td>5.841036e+07</td>\n",
       "      <td>0.0</td>\n",
       "      <td>1.0</td>\n",
       "    </tr>\n",
       "  </tbody>\n",
       "</table>\n",
       "</div>"
      ],
      "text/plain": [
       "             close         high          low         open        volume  \\\n",
       "count  1256.000000  1256.000000  1256.000000  1256.000000  1.256000e+03   \n",
       "mean    248.179053   251.969500   243.948426   248.019801  9.857578e+06   \n",
       "std     120.929866   122.956641   118.595482   120.806220  6.534482e+06   \n",
       "min      82.790000    84.700000    79.950000    80.570000  3.862200e+04   \n",
       "25%     125.547500   127.677900   124.282500   126.010000  5.504314e+06   \n",
       "50%     267.480000   272.715000   262.770000   266.830000  7.860330e+06   \n",
       "75%     351.172500   356.112500   344.957500   351.057500  1.205153e+07   \n",
       "max     556.550000   575.370000   537.369000   567.980000  5.841036e+07   \n",
       "\n",
       "          adjClose      adjHigh       adjLow      adjOpen     adjVolume  \\\n",
       "count  1256.000000  1256.000000  1256.000000  1256.000000  1.256000e+03   \n",
       "mean    248.179053   251.969500   243.948426   248.019801  9.857578e+06   \n",
       "std     120.929866   122.956641   118.595482   120.806220  6.534482e+06   \n",
       "min      82.790000    84.700000    79.950000    80.570000  3.862200e+04   \n",
       "25%     125.547500   127.677900   124.282500   126.010000  5.504314e+06   \n",
       "50%     267.480000   272.715000   262.770000   266.830000  7.860330e+06   \n",
       "75%     351.172500   356.112500   344.957500   351.057500  1.205153e+07   \n",
       "max     556.550000   575.370000   537.369000   567.980000  5.841036e+07   \n",
       "\n",
       "       divCash  splitFactor  \n",
       "count   1256.0       1256.0  \n",
       "mean       0.0          1.0  \n",
       "std        0.0          0.0  \n",
       "min        0.0          1.0  \n",
       "25%        0.0          1.0  \n",
       "50%        0.0          1.0  \n",
       "75%        0.0          1.0  \n",
       "max        0.0          1.0  "
      ]
     },
     "execution_count": 6,
     "metadata": {},
     "output_type": "execute_result"
    }
   ],
   "source": [
    "dataset.describe()"
   ]
  },
  {
   "cell_type": "code",
   "execution_count": 7,
   "metadata": {},
   "outputs": [
    {
     "data": {
      "text/plain": [
       "(1256, 14)"
      ]
     },
     "execution_count": 7,
     "metadata": {},
     "output_type": "execute_result"
    }
   ],
   "source": [
    "dataset.shape"
   ]
  },
  {
   "cell_type": "code",
   "execution_count": 8,
   "metadata": {},
   "outputs": [
    {
     "data": {
      "image/png": "[encoded data removed]",
      "text/plain": [
       "<Figure size 432x288 with 1 Axes>"
      ]
     },
     "metadata": {
      "needs_background": "light"
     },
     "output_type": "display_data"
    }
   ],
   "source": [
    "plt.plot(dataset['close'])\n",
    "plt.show()"
   ]
  },
  {
   "cell_type": "code",
   "execution_count": 9,
   "metadata": {},
   "outputs": [],
   "source": [
    "df = dataset[['close']]"
   ]
  },
  {
   "cell_type": "code",
   "execution_count": 10,
   "metadata": {},
   "outputs": [
    {
     "data": {
      "text/html": [
       "<div>\n",
       "<style scoped>\n",
       "    .dataframe tbody tr th:only-of-type {\n",
       "        vertical-align: middle;\n",
       "    }\n",
       "\n",
       "    .dataframe tbody tr th {\n",
       "        vertical-align: top;\n",
       "    }\n",
       "\n",
       "    .dataframe thead th {\n",
       "        text-align: right;\n",
       "    }\n",
       "</style>\n",
       "<table border=\"1\" class=\"dataframe\">\n",
       "  <thead>\n",
       "    <tr style=\"text-align: right;\">\n",
       "      <th></th>\n",
       "      <th>close</th>\n",
       "    </tr>\n",
       "  </thead>\n",
       "  <tbody>\n",
       "    <tr>\n",
       "      <th>0</th>\n",
       "      <td>95.69</td>\n",
       "    </tr>\n",
       "    <tr>\n",
       "      <th>1</th>\n",
       "      <td>99.16</td>\n",
       "    </tr>\n",
       "    <tr>\n",
       "      <th>2</th>\n",
       "      <td>104.08</td>\n",
       "    </tr>\n",
       "    <tr>\n",
       "      <th>3</th>\n",
       "      <td>104.21</td>\n",
       "    </tr>\n",
       "    <tr>\n",
       "      <th>4</th>\n",
       "      <td>102.62</td>\n",
       "    </tr>\n",
       "  </tbody>\n",
       "</table>\n",
       "</div>"
      ],
      "text/plain": [
       "    close\n",
       "0   95.69\n",
       "1   99.16\n",
       "2  104.08\n",
       "3  104.21\n",
       "4  102.62"
      ]
     },
     "execution_count": 10,
     "metadata": {},
     "output_type": "execute_result"
    }
   ],
   "source": [
    "df.head()"
   ]
  },
  {
   "cell_type": "code",
   "execution_count": 11,
   "metadata": {},
   "outputs": [
    {
     "name": "stderr",
     "output_type": "stream",
     "text": [
      "/Library/Frameworks/Python.framework/Versions/3.7/lib/python3.7/site-packages/ipykernel_launcher.py:2: SettingWithCopyWarning: \n",
      "A value is trying to be set on a copy of a slice from a DataFrame.\n",
      "Try using .loc[row_indexer,col_indexer] = value instead\n",
      "\n",
      "See the caveats in the documentation: https://pandas.pydata.org/pandas-docs/stable/user_guide/indexing.html#returning-a-view-versus-a-copy\n",
      "  \n"
     ]
    }
   ],
   "source": [
    "days = 25\n",
    "df['prediction'] = df[['close']].shift(-days)"
   ]
  },
  {
   "cell_type": "code",
   "execution_count": 12,
   "metadata": {},
   "outputs": [
    {
     "data": {
      "text/html": [
       "<div>\n",
       "<style scoped>\n",
       "    .dataframe tbody tr th:only-of-type {\n",
       "        vertical-align: middle;\n",
       "    }\n",
       "\n",
       "    .dataframe tbody tr th {\n",
       "        vertical-align: top;\n",
       "    }\n",
       "\n",
       "    .dataframe thead th {\n",
       "        text-align: right;\n",
       "    }\n",
       "</style>\n",
       "<table border=\"1\" class=\"dataframe\">\n",
       "  <thead>\n",
       "    <tr style=\"text-align: right;\">\n",
       "      <th></th>\n",
       "      <th>close</th>\n",
       "      <th>prediction</th>\n",
       "    </tr>\n",
       "  </thead>\n",
       "  <tbody>\n",
       "    <tr>\n",
       "      <th>1251</th>\n",
       "      <td>556.55</td>\n",
       "      <td>NaN</td>\n",
       "    </tr>\n",
       "    <tr>\n",
       "      <th>1252</th>\n",
       "      <td>552.84</td>\n",
       "      <td>NaN</td>\n",
       "    </tr>\n",
       "    <tr>\n",
       "      <th>1253</th>\n",
       "      <td>525.75</td>\n",
       "      <td>NaN</td>\n",
       "    </tr>\n",
       "    <tr>\n",
       "      <th>1254</th>\n",
       "      <td>516.05</td>\n",
       "      <td>NaN</td>\n",
       "    </tr>\n",
       "    <tr>\n",
       "      <th>1255</th>\n",
       "      <td>507.02</td>\n",
       "      <td>NaN</td>\n",
       "    </tr>\n",
       "  </tbody>\n",
       "</table>\n",
       "</div>"
      ],
      "text/plain": [
       "       close  prediction\n",
       "1251  556.55         NaN\n",
       "1252  552.84         NaN\n",
       "1253  525.75         NaN\n",
       "1254  516.05         NaN\n",
       "1255  507.02         NaN"
      ]
     },
     "execution_count": 12,
     "metadata": {},
     "output_type": "execute_result"
    }
   ],
   "source": [
    "df.tail()"
   ]
  },
  {
   "cell_type": "code",
   "execution_count": 13,
   "metadata": {},
   "outputs": [],
   "source": [
    "#create the features dataset, convert to numpy, remoxe last x rows\n",
    "y = np.array(df.drop(['prediction'],1)[:-days])"
   ]
  },
  {
   "cell_type": "code",
   "execution_count": 14,
   "metadata": {},
   "outputs": [],
   "source": [
    "#create target data\n",
    "x = np.array(df.drop(['close'],1)[:-days])"
   ]
  },
  {
   "cell_type": "code",
   "execution_count": 15,
   "metadata": {},
   "outputs": [],
   "source": [
    "#spliting data to 80% training and 20% testing note that the final model will be trained on the complete dataset\n",
    "x_train,x_test,y_train,y_test = train_test_split(x,y,test_size=0.2)"
   ]
  },
  {
   "cell_type": "code",
   "execution_count": 16,
   "metadata": {},
   "outputs": [
    {
     "data": {
      "text/plain": [
       "DecisionTreeRegressor()"
      ]
     },
     "execution_count": 16,
     "metadata": {},
     "output_type": "execute_result"
    }
   ],
   "source": [
    "#create the model\n",
    "#decision tree regressor model\n",
    "tree_reg = DecisionTreeRegressor()\n",
    "tree_reg.fit(x_train,y_train)"
   ]
  },
  {
   "cell_type": "code",
   "execution_count": 17,
   "metadata": {},
   "outputs": [
    {
     "data": {
      "text/plain": [
       "LinearRegression()"
      ]
     },
     "execution_count": 17,
     "metadata": {},
     "output_type": "execute_result"
    }
   ],
   "source": [
    "#linear regression model\n",
    "lin_reg=LinearRegression()\n",
    "lin_reg.fit(x_train,y_train)"
   ]
  },
  {
   "cell_type": "code",
   "execution_count": 18,
   "metadata": {},
   "outputs": [],
   "source": [
    "#get the last x rows\n",
    "x_future = df.drop(['prediction'],1)[:-days]\n",
    "x_future = x_future[-days:]\n",
    "x_future = np.array(x_future)"
   ]
  },
  {
   "cell_type": "code",
   "execution_count": 19,
   "metadata": {},
   "outputs": [],
   "source": [
    "#show model tree prediction\n",
    "tree_reg_pred = tree_reg.predict(x_future)\n",
    "lin_reg_pred = lin_reg.predict(x_future)"
   ]
  },
  {
   "cell_type": "code",
   "execution_count": 20,
   "metadata": {},
   "outputs": [
    {
     "data": {
      "image/png": "[encoded data removed]",
      "text/plain": [
       "<Figure size 432x288 with 1 Axes>"
      ]
     },
     "metadata": {
      "needs_background": "light"
     },
     "output_type": "display_data"
    }
   ],
   "source": [
    "#visualise predictions\n",
    "\n",
    "plt.plot(y[-days:])\n",
    "plt.plot(tree_reg_pred)\n",
    "plt.show()"
   ]
  },
  {
   "cell_type": "code",
   "execution_count": 21,
   "metadata": {},
   "outputs": [
    {
     "data": {
      "image/png": "[encoded data removed]",
      "text/plain": [
       "<Figure size 432x288 with 1 Axes>"
      ]
     },
     "metadata": {
      "needs_background": "light"
     },
     "output_type": "display_data"
    }
   ],
   "source": [
    "\n",
    "plt.plot(y[-days:])\n",
    "plt.plot(lin_reg_pred)\n",
    "plt.show()"
   ]
  },
  {
   "cell_type": "code",
   "execution_count": 22,
   "metadata": {},
   "outputs": [
    {
     "data": {
      "text/plain": [
       "LinearRegression()"
      ]
     },
     "execution_count": 22,
     "metadata": {},
     "output_type": "execute_result"
    }
   ],
   "source": [
    "#train using full database\n",
    "lin_reg.fit(x[:-days],y[:-days])"
   ]
  },
  {
   "cell_type": "code",
   "execution_count": 23,
   "metadata": {},
   "outputs": [],
   "source": [
    "data = df.drop(['prediction'],1)[-days:]\n",
    "future_pred = lin_reg.predict(data)"
   ]
  },
  {
   "cell_type": "code",
   "execution_count": 24,
   "metadata": {},
   "outputs": [
    {
     "data": {
      "text/plain": [
       "[<matplotlib.lines.Line2D at 0x108d6f150>]"
      ]
     },
     "execution_count": 24,
     "metadata": {},
     "output_type": "execute_result"
    },
    {
     "data": {
      "image/png": "[encoded data removed]",
      "text/plain": [
       "<Figure size 432x288 with 1 Axes>"
      ]
     },
     "metadata": {
      "needs_background": "light"
     },
     "output_type": "display_data"
    }
   ],
   "source": [
    "plt.plot(future_pred)"
   ]
  },
  {
   "cell_type": "code",
   "execution_count": 25,
   "metadata": {},
   "outputs": [
    {
     "data": {
      "image/png": "[encoded data removed]",
      "text/plain": [
       "<Figure size 432x288 with 1 Axes>"
      ]
     },
     "metadata": {
      "needs_background": "light"
     },
     "output_type": "display_data"
    }
   ],
   "source": [
    "temp = y.tolist()\n",
    "temp.extend(future_pred)\n",
    "plt.plot(temp[-50:])\n",
    "plt.show()"
   ]
  },
  {
   "cell_type": "code",
   "execution_count": null,
   "metadata": {},
   "outputs": [],
   "source": []
  }
 ],
 "metadata": {
  "kernelspec": {
   "display_name": "Python 3",
   "language": "python",
   "name": "python3"
  },
  "language_info": {
   "codemirror_mode": {
    "name": "ipython",
    "version": 3
   },
   "file_extension": ".py",
   "mimetype": "text/x-python",
   "name": "python",
   "nbconvert_exporter": "python",
   "pygments_lexer": "ipython3",
   "version": "3.7.9"
  }
 },
 "nbformat": 4,
 "nbformat_minor": 4
}
