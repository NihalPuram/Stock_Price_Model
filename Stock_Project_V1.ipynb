{
  "nbformat": 4,
  "nbformat_minor": 0,
  "metadata": {
    "kernelspec": {
      "display_name": "Python 3",
      "language": "python",
      "name": "python3"
    },
    "language_info": {
      "codemirror_mode": {
        "name": "ipython",
        "version": 3
      },
      "file_extension": ".py",
      "mimetype": "text/x-python",
      "name": "python",
      "nbconvert_exporter": "python",
      "pygments_lexer": "ipython3",
      "version": "3.7.9"
    },
    "colab": {
      "name": "Untitled.ipynb",
      "provenance": [],
      "include_colab_link": true
    }
  },
  "cells": [
    {
      "cell_type": "markdown",
      "metadata": {
        "id": "view-in-github",
        "colab_type": "text"
      },
      "source": [
        "<a href=\"https://colab.research.google.com/github/NihalPuram/Stock_Price_Model/blob/master/Stock_Project_V1.ipynb\" target=\"_parent\"><img src=\"https://colab.research.google.com/assets/colab-badge.svg\" alt=\"Open In Colab\"/></a>"
      ]
    },
    {
      "cell_type": "markdown",
      "metadata": {
        "id": "ei8fXe-aVztg",
        "colab_type": "text"
      },
      "source": [
        "This is a program that uses basic \"Linear Regression\" and \"Decision Tree Regression\" to predict the stock price. We will use the better of the two models to predict the future stock price. I have run this using the Stock of Netflix (NFLX). You can change the ticker to run your own. I have used tiingo api to download the required data, all you have to do is login to tiingo api and get your api key and enter down below to be able to run it."
      ]
    },
    {
      "cell_type": "code",
      "metadata": {
        "id": "QClUTViWVrDM",
        "colab_type": "code",
        "colab": {}
      },
      "source": [
        "from sklearn.model_selection import train_test_split\n",
        "from sklearn.tree import DecisionTreeRegressor\n",
        "from sklearn.linear_model import LinearRegression\n",
        "from sklearn import metrics"
      ],
      "execution_count": 1,
      "outputs": []
    },
    {
      "cell_type": "code",
      "metadata": {
        "id": "IuAjUW92VrDR",
        "colab_type": "code",
        "colab": {}
      },
      "source": [
        "import pandas as pd\n",
        "import matplotlib.pyplot as plt\n",
        "import numpy as np"
      ],
      "execution_count": 2,
      "outputs": []
    },
    {
      "cell_type": "code",
      "metadata": {
        "id": "XnLMFvc5VrDU",
        "colab_type": "code",
        "colab": {}
      },
      "source": [
        "import pandas_datareader as pdr\n",
        "stock = \"enter your stock ticker\"\n",
        "dataset = pdr.get_data_tiingo(stock,api_key='Enter your tiingo api-key here')\n",
        "dataset.to_csv('DATA.csv')"
      ],
      "execution_count": null,
      "outputs": []
    },
    {
      "cell_type": "markdown",
      "metadata": {
        "id": "U2U1K5XCVzhx",
        "colab_type": "text"
      },
      "source": [
        "Enter your stock ticker in the stock variable and your tiingo api key. "
      ]
    },
    {
      "cell_type": "code",
      "metadata": {
        "id": "RLoKxCmmVrDY",
        "colab_type": "code",
        "colab": {}
      },
      "source": [
        "dataset = pd.read_csv(\"DATA.csv\")"
      ],
      "execution_count": 4,
      "outputs": []
    },
    {
      "cell_type": "code",
      "metadata": {
        "id": "QCd1428GVrDa",
        "colab_type": "code",
        "colab": {
          "base_uri": "https://localhost:8080/",
          "height": 204
        },
        "outputId": "40847f29-43f3-4bb1-a831-c0879eaff316"
      },
      "source": [
        "dataset.head()"
      ],
      "execution_count": 5,
      "outputs": [
        {
          "output_type": "execute_result",
          "data": {
            "text/html": [
              "<div>\n",
              "<style scoped>\n",
              "    .dataframe tbody tr th:only-of-type {\n",
              "        vertical-align: middle;\n",
              "    }\n",
              "\n",
              "    .dataframe tbody tr th {\n",
              "        vertical-align: top;\n",
              "    }\n",
              "\n",
              "    .dataframe thead th {\n",
              "        text-align: right;\n",
              "    }\n",
              "</style>\n",
              "<table border=\"1\" class=\"dataframe\">\n",
              "  <thead>\n",
              "    <tr style=\"text-align: right;\">\n",
              "      <th></th>\n",
              "      <th>symbol</th>\n",
              "      <th>date</th>\n",
              "      <th>close</th>\n",
              "      <th>high</th>\n",
              "      <th>low</th>\n",
              "      <th>open</th>\n",
              "      <th>volume</th>\n",
              "      <th>adjClose</th>\n",
              "      <th>adjHigh</th>\n",
              "      <th>adjLow</th>\n",
              "      <th>adjOpen</th>\n",
              "      <th>adjVolume</th>\n",
              "      <th>divCash</th>\n",
              "      <th>splitFactor</th>\n",
              "    </tr>\n",
              "  </thead>\n",
              "  <tbody>\n",
              "    <tr>\n",
              "      <th>0</th>\n",
              "      <td>NFLX</td>\n",
              "      <td>2015-09-11 00:00:00+00:00</td>\n",
              "      <td>97.51</td>\n",
              "      <td>100.85</td>\n",
              "      <td>97.23</td>\n",
              "      <td>98.57</td>\n",
              "      <td>17373920</td>\n",
              "      <td>97.51</td>\n",
              "      <td>100.85</td>\n",
              "      <td>97.23</td>\n",
              "      <td>98.57</td>\n",
              "      <td>17373920</td>\n",
              "      <td>0.0</td>\n",
              "      <td>1.0</td>\n",
              "    </tr>\n",
              "    <tr>\n",
              "      <th>1</th>\n",
              "      <td>NFLX</td>\n",
              "      <td>2015-09-14 00:00:00+00:00</td>\n",
              "      <td>95.69</td>\n",
              "      <td>97.91</td>\n",
              "      <td>94.33</td>\n",
              "      <td>96.84</td>\n",
              "      <td>15545991</td>\n",
              "      <td>95.69</td>\n",
              "      <td>97.91</td>\n",
              "      <td>94.33</td>\n",
              "      <td>96.84</td>\n",
              "      <td>15545991</td>\n",
              "      <td>0.0</td>\n",
              "      <td>1.0</td>\n",
              "    </tr>\n",
              "    <tr>\n",
              "      <th>2</th>\n",
              "      <td>NFLX</td>\n",
              "      <td>2015-09-15 00:00:00+00:00</td>\n",
              "      <td>99.16</td>\n",
              "      <td>99.65</td>\n",
              "      <td>93.61</td>\n",
              "      <td>95.22</td>\n",
              "      <td>22591084</td>\n",
              "      <td>99.16</td>\n",
              "      <td>99.65</td>\n",
              "      <td>93.61</td>\n",
              "      <td>95.22</td>\n",
              "      <td>22591084</td>\n",
              "      <td>0.0</td>\n",
              "      <td>1.0</td>\n",
              "    </tr>\n",
              "    <tr>\n",
              "      <th>3</th>\n",
              "      <td>NFLX</td>\n",
              "      <td>2015-09-16 00:00:00+00:00</td>\n",
              "      <td>104.08</td>\n",
              "      <td>104.48</td>\n",
              "      <td>99.33</td>\n",
              "      <td>99.70</td>\n",
              "      <td>28058216</td>\n",
              "      <td>104.08</td>\n",
              "      <td>104.48</td>\n",
              "      <td>99.33</td>\n",
              "      <td>99.70</td>\n",
              "      <td>28058216</td>\n",
              "      <td>0.0</td>\n",
              "      <td>1.0</td>\n",
              "    </tr>\n",
              "    <tr>\n",
              "      <th>4</th>\n",
              "      <td>NFLX</td>\n",
              "      <td>2015-09-17 00:00:00+00:00</td>\n",
              "      <td>104.21</td>\n",
              "      <td>107.50</td>\n",
              "      <td>101.83</td>\n",
              "      <td>103.67</td>\n",
              "      <td>25817651</td>\n",
              "      <td>104.21</td>\n",
              "      <td>107.50</td>\n",
              "      <td>101.83</td>\n",
              "      <td>103.67</td>\n",
              "      <td>25817651</td>\n",
              "      <td>0.0</td>\n",
              "      <td>1.0</td>\n",
              "    </tr>\n",
              "  </tbody>\n",
              "</table>\n",
              "</div>"
            ],
            "text/plain": [
              "  symbol                       date   close  ...  adjVolume  divCash  splitFactor\n",
              "0   NFLX  2015-09-11 00:00:00+00:00   97.51  ...   17373920      0.0          1.0\n",
              "1   NFLX  2015-09-14 00:00:00+00:00   95.69  ...   15545991      0.0          1.0\n",
              "2   NFLX  2015-09-15 00:00:00+00:00   99.16  ...   22591084      0.0          1.0\n",
              "3   NFLX  2015-09-16 00:00:00+00:00  104.08  ...   28058216      0.0          1.0\n",
              "4   NFLX  2015-09-17 00:00:00+00:00  104.21  ...   25817651      0.0          1.0\n",
              "\n",
              "[5 rows x 14 columns]"
            ]
          },
          "metadata": {
            "tags": []
          },
          "execution_count": 5
        }
      ]
    },
    {
      "cell_type": "code",
      "metadata": {
        "id": "1xpx9hmkVrDg",
        "colab_type": "code",
        "colab": {
          "base_uri": "https://localhost:8080/",
          "height": 297
        },
        "outputId": "3b4f8b6d-036c-4305-9685-b2631f8a87d6"
      },
      "source": [
        "dataset.describe()"
      ],
      "execution_count": 6,
      "outputs": [
        {
          "output_type": "execute_result",
          "data": {
            "text/html": [
              "<div>\n",
              "<style scoped>\n",
              "    .dataframe tbody tr th:only-of-type {\n",
              "        vertical-align: middle;\n",
              "    }\n",
              "\n",
              "    .dataframe tbody tr th {\n",
              "        vertical-align: top;\n",
              "    }\n",
              "\n",
              "    .dataframe thead th {\n",
              "        text-align: right;\n",
              "    }\n",
              "</style>\n",
              "<table border=\"1\" class=\"dataframe\">\n",
              "  <thead>\n",
              "    <tr style=\"text-align: right;\">\n",
              "      <th></th>\n",
              "      <th>close</th>\n",
              "      <th>high</th>\n",
              "      <th>low</th>\n",
              "      <th>open</th>\n",
              "      <th>volume</th>\n",
              "      <th>adjClose</th>\n",
              "      <th>adjHigh</th>\n",
              "      <th>adjLow</th>\n",
              "      <th>adjOpen</th>\n",
              "      <th>adjVolume</th>\n",
              "      <th>divCash</th>\n",
              "      <th>splitFactor</th>\n",
              "    </tr>\n",
              "  </thead>\n",
              "  <tbody>\n",
              "    <tr>\n",
              "      <th>count</th>\n",
              "      <td>1257.000000</td>\n",
              "      <td>1257.000000</td>\n",
              "      <td>1257.000000</td>\n",
              "      <td>1257.000000</td>\n",
              "      <td>1.257000e+03</td>\n",
              "      <td>1257.000000</td>\n",
              "      <td>1257.000000</td>\n",
              "      <td>1257.000000</td>\n",
              "      <td>1257.000000</td>\n",
              "      <td>1.257000e+03</td>\n",
              "      <td>1257.0</td>\n",
              "      <td>1257.0</td>\n",
              "    </tr>\n",
              "    <tr>\n",
              "      <th>mean</th>\n",
              "      <td>248.059189</td>\n",
              "      <td>251.849277</td>\n",
              "      <td>243.831705</td>\n",
              "      <td>247.900907</td>\n",
              "      <td>9.863557e+06</td>\n",
              "      <td>248.059189</td>\n",
              "      <td>251.849277</td>\n",
              "      <td>243.831705</td>\n",
              "      <td>247.900907</td>\n",
              "      <td>9.863557e+06</td>\n",
              "      <td>0.0</td>\n",
              "      <td>1.0</td>\n",
              "    </tr>\n",
              "    <tr>\n",
              "      <th>std</th>\n",
              "      <td>120.956392</td>\n",
              "      <td>122.981570</td>\n",
              "      <td>118.620468</td>\n",
              "      <td>120.831668</td>\n",
              "      <td>6.535319e+06</td>\n",
              "      <td>120.956392</td>\n",
              "      <td>122.981570</td>\n",
              "      <td>118.620468</td>\n",
              "      <td>120.831668</td>\n",
              "      <td>6.535319e+06</td>\n",
              "      <td>0.0</td>\n",
              "      <td>0.0</td>\n",
              "    </tr>\n",
              "    <tr>\n",
              "      <th>min</th>\n",
              "      <td>82.790000</td>\n",
              "      <td>84.700000</td>\n",
              "      <td>79.950000</td>\n",
              "      <td>80.570000</td>\n",
              "      <td>3.862200e+04</td>\n",
              "      <td>82.790000</td>\n",
              "      <td>84.700000</td>\n",
              "      <td>79.950000</td>\n",
              "      <td>80.570000</td>\n",
              "      <td>3.862200e+04</td>\n",
              "      <td>0.0</td>\n",
              "      <td>1.0</td>\n",
              "    </tr>\n",
              "    <tr>\n",
              "      <th>25%</th>\n",
              "      <td>125.450000</td>\n",
              "      <td>127.500000</td>\n",
              "      <td>124.200000</td>\n",
              "      <td>125.950000</td>\n",
              "      <td>5.508816e+06</td>\n",
              "      <td>125.450000</td>\n",
              "      <td>127.500000</td>\n",
              "      <td>124.200000</td>\n",
              "      <td>125.950000</td>\n",
              "      <td>5.508816e+06</td>\n",
              "      <td>0.0</td>\n",
              "      <td>1.0</td>\n",
              "    </tr>\n",
              "    <tr>\n",
              "      <th>50%</th>\n",
              "      <td>267.430000</td>\n",
              "      <td>272.450000</td>\n",
              "      <td>262.760000</td>\n",
              "      <td>266.580000</td>\n",
              "      <td>7.863069e+06</td>\n",
              "      <td>267.430000</td>\n",
              "      <td>272.450000</td>\n",
              "      <td>262.760000</td>\n",
              "      <td>266.580000</td>\n",
              "      <td>7.863069e+06</td>\n",
              "      <td>0.0</td>\n",
              "      <td>1.0</td>\n",
              "    </tr>\n",
              "    <tr>\n",
              "      <th>75%</th>\n",
              "      <td>351.140000</td>\n",
              "      <td>356.100000</td>\n",
              "      <td>344.810000</td>\n",
              "      <td>351.000000</td>\n",
              "      <td>1.206640e+07</td>\n",
              "      <td>351.140000</td>\n",
              "      <td>356.100000</td>\n",
              "      <td>344.810000</td>\n",
              "      <td>351.000000</td>\n",
              "      <td>1.206640e+07</td>\n",
              "      <td>0.0</td>\n",
              "      <td>1.0</td>\n",
              "    </tr>\n",
              "    <tr>\n",
              "      <th>max</th>\n",
              "      <td>556.550000</td>\n",
              "      <td>575.370000</td>\n",
              "      <td>537.369000</td>\n",
              "      <td>567.980000</td>\n",
              "      <td>5.841036e+07</td>\n",
              "      <td>556.550000</td>\n",
              "      <td>575.370000</td>\n",
              "      <td>537.369000</td>\n",
              "      <td>567.980000</td>\n",
              "      <td>5.841036e+07</td>\n",
              "      <td>0.0</td>\n",
              "      <td>1.0</td>\n",
              "    </tr>\n",
              "  </tbody>\n",
              "</table>\n",
              "</div>"
            ],
            "text/plain": [
              "             close         high  ...  divCash  splitFactor\n",
              "count  1257.000000  1257.000000  ...   1257.0       1257.0\n",
              "mean    248.059189   251.849277  ...      0.0          1.0\n",
              "std     120.956392   122.981570  ...      0.0          0.0\n",
              "min      82.790000    84.700000  ...      0.0          1.0\n",
              "25%     125.450000   127.500000  ...      0.0          1.0\n",
              "50%     267.430000   272.450000  ...      0.0          1.0\n",
              "75%     351.140000   356.100000  ...      0.0          1.0\n",
              "max     556.550000   575.370000  ...      0.0          1.0\n",
              "\n",
              "[8 rows x 12 columns]"
            ]
          },
          "metadata": {
            "tags": []
          },
          "execution_count": 6
        }
      ]
    },
    {
      "cell_type": "markdown",
      "metadata": {
        "id": "vUNMwhxBXJvo",
        "colab_type": "text"
      },
      "source": [
        "Here we can see a rough description of our data."
      ]
    },
    {
      "cell_type": "code",
      "metadata": {
        "id": "NH3wr9-LVrDn",
        "colab_type": "code",
        "colab": {
          "base_uri": "https://localhost:8080/",
          "height": 34
        },
        "outputId": "ebae7331-66b1-4263-831e-399a7def3db7"
      },
      "source": [
        "dataset.shape"
      ],
      "execution_count": 7,
      "outputs": [
        {
          "output_type": "execute_result",
          "data": {
            "text/plain": [
              "(1257, 14)"
            ]
          },
          "metadata": {
            "tags": []
          },
          "execution_count": 7
        }
      ]
    },
    {
      "cell_type": "markdown",
      "metadata": {
        "id": "OAjONc6QXU_f",
        "colab_type": "text"
      },
      "source": [
        "We can see we have a total of 1256 entries with 14 different parameters"
      ]
    },
    {
      "cell_type": "code",
      "metadata": {
        "id": "5qqlziVLVrDs",
        "colab_type": "code",
        "colab": {
          "base_uri": "https://localhost:8080/",
          "height": 265
        },
        "outputId": "7c3676ef-218e-4de2-e8a2-7d9532e419a6"
      },
      "source": [
        "plt.plot(dataset['close'])\n",
        "plt.show()"
      ],
      "execution_count": 8,
      "outputs": [
        {
          "output_type": "display_data",
          "data": {
            "image/png": "[encoded data removed]",
            "text/plain": [
              "<Figure size 432x288 with 1 Axes>"
            ]
          },
          "metadata": {
            "tags": [],
            "needs_background": "light"
          }
        }
      ]
    },
    {
      "cell_type": "code",
      "metadata": {
        "id": "1LDRFacNVrDv",
        "colab_type": "code",
        "colab": {}
      },
      "source": [
        "df = dataset[['close']]"
      ],
      "execution_count": 9,
      "outputs": []
    },
    {
      "cell_type": "markdown",
      "metadata": {
        "id": "8hbFAggoXdCi",
        "colab_type": "text"
      },
      "source": [
        "I have chosen to predict the closing value, you can change it to any other parameter by editing the highighted text in the above cell."
      ]
    },
    {
      "cell_type": "code",
      "metadata": {
        "id": "0cEZTXtTVrDy",
        "colab_type": "code",
        "colab": {
          "base_uri": "https://localhost:8080/",
          "height": 204
        },
        "outputId": "1f7f6f26-9aa7-4581-9006-aaf88b83b91c"
      },
      "source": [
        "df.head()"
      ],
      "execution_count": 10,
      "outputs": [
        {
          "output_type": "execute_result",
          "data": {
            "text/html": [
              "<div>\n",
              "<style scoped>\n",
              "    .dataframe tbody tr th:only-of-type {\n",
              "        vertical-align: middle;\n",
              "    }\n",
              "\n",
              "    .dataframe tbody tr th {\n",
              "        vertical-align: top;\n",
              "    }\n",
              "\n",
              "    .dataframe thead th {\n",
              "        text-align: right;\n",
              "    }\n",
              "</style>\n",
              "<table border=\"1\" class=\"dataframe\">\n",
              "  <thead>\n",
              "    <tr style=\"text-align: right;\">\n",
              "      <th></th>\n",
              "      <th>close</th>\n",
              "    </tr>\n",
              "  </thead>\n",
              "  <tbody>\n",
              "    <tr>\n",
              "      <th>0</th>\n",
              "      <td>97.51</td>\n",
              "    </tr>\n",
              "    <tr>\n",
              "      <th>1</th>\n",
              "      <td>95.69</td>\n",
              "    </tr>\n",
              "    <tr>\n",
              "      <th>2</th>\n",
              "      <td>99.16</td>\n",
              "    </tr>\n",
              "    <tr>\n",
              "      <th>3</th>\n",
              "      <td>104.08</td>\n",
              "    </tr>\n",
              "    <tr>\n",
              "      <th>4</th>\n",
              "      <td>104.21</td>\n",
              "    </tr>\n",
              "  </tbody>\n",
              "</table>\n",
              "</div>"
            ],
            "text/plain": [
              "    close\n",
              "0   97.51\n",
              "1   95.69\n",
              "2   99.16\n",
              "3  104.08\n",
              "4  104.21"
            ]
          },
          "metadata": {
            "tags": []
          },
          "execution_count": 10
        }
      ]
    },
    {
      "cell_type": "code",
      "metadata": {
        "id": "UPfGjtZnVrD1",
        "colab_type": "code",
        "colab": {}
      },
      "source": [
        "days = 25\n",
        "df['prediction'] = df[['close']].shift(-days)"
      ],
      "execution_count": null,
      "outputs": []
    },
    {
      "cell_type": "markdown",
      "metadata": {
        "id": "k7T9-n5iXzz6",
        "colab_type": "text"
      },
      "source": [
        "Here we create a new feature called prediction where we store the closing values of the stock from a few days ago."
      ]
    },
    {
      "cell_type": "code",
      "metadata": {
        "id": "cgqbd0sxVrD5",
        "colab_type": "code",
        "colab": {
          "base_uri": "https://localhost:8080/",
          "height": 204
        },
        "outputId": "02143ba8-f53c-4690-8f57-419a03f22696"
      },
      "source": [
        "df.tail()"
      ],
      "execution_count": 12,
      "outputs": [
        {
          "output_type": "execute_result",
          "data": {
            "text/html": [
              "<div>\n",
              "<style scoped>\n",
              "    .dataframe tbody tr th:only-of-type {\n",
              "        vertical-align: middle;\n",
              "    }\n",
              "\n",
              "    .dataframe tbody tr th {\n",
              "        vertical-align: top;\n",
              "    }\n",
              "\n",
              "    .dataframe thead th {\n",
              "        text-align: right;\n",
              "    }\n",
              "</style>\n",
              "<table border=\"1\" class=\"dataframe\">\n",
              "  <thead>\n",
              "    <tr style=\"text-align: right;\">\n",
              "      <th></th>\n",
              "      <th>close</th>\n",
              "      <th>prediction</th>\n",
              "    </tr>\n",
              "  </thead>\n",
              "  <tbody>\n",
              "    <tr>\n",
              "      <th>1252</th>\n",
              "      <td>556.55</td>\n",
              "      <td>NaN</td>\n",
              "    </tr>\n",
              "    <tr>\n",
              "      <th>1253</th>\n",
              "      <td>552.84</td>\n",
              "      <td>NaN</td>\n",
              "    </tr>\n",
              "    <tr>\n",
              "      <th>1254</th>\n",
              "      <td>525.75</td>\n",
              "      <td>NaN</td>\n",
              "    </tr>\n",
              "    <tr>\n",
              "      <th>1255</th>\n",
              "      <td>516.05</td>\n",
              "      <td>NaN</td>\n",
              "    </tr>\n",
              "    <tr>\n",
              "      <th>1256</th>\n",
              "      <td>507.02</td>\n",
              "      <td>NaN</td>\n",
              "    </tr>\n",
              "  </tbody>\n",
              "</table>\n",
              "</div>"
            ],
            "text/plain": [
              "       close  prediction\n",
              "1252  556.55         NaN\n",
              "1253  552.84         NaN\n",
              "1254  525.75         NaN\n",
              "1255  516.05         NaN\n",
              "1256  507.02         NaN"
            ]
          },
          "metadata": {
            "tags": []
          },
          "execution_count": 12
        }
      ]
    },
    {
      "cell_type": "markdown",
      "metadata": {
        "id": "mZJf_efoYGsO",
        "colab_type": "text"
      },
      "source": [
        "The last few entries of \"predicted\" feature are NaN because we do not have the data beyond our dataset we will simply delete these entries in the next step."
      ]
    },
    {
      "cell_type": "code",
      "metadata": {
        "id": "PflwCGvrVrD9",
        "colab_type": "code",
        "colab": {}
      },
      "source": [
        "#create the features dataset, convert to numpy, remoxe last x rows\n",
        "y = np.array(df.drop(['prediction'],1)[:-days])"
      ],
      "execution_count": 13,
      "outputs": []
    },
    {
      "cell_type": "code",
      "metadata": {
        "id": "AW7K_hlVVrEB",
        "colab_type": "code",
        "colab": {}
      },
      "source": [
        "#create target data\n",
        "x = np.array(df.drop(['close'],1)[:-days])"
      ],
      "execution_count": 14,
      "outputs": []
    },
    {
      "cell_type": "code",
      "metadata": {
        "id": "7wyqRDswVrEE",
        "colab_type": "code",
        "colab": {}
      },
      "source": [
        "#spliting data to 80% training and 20% testing note that the final model will be trained on the complete dataset\n",
        "x_train,x_test,y_train,y_test = train_test_split(x,y,test_size=0.2)"
      ],
      "execution_count": 15,
      "outputs": []
    },
    {
      "cell_type": "markdown",
      "metadata": {
        "id": "Hrra3wjjYXM0",
        "colab_type": "text"
      },
      "source": [
        "Here we split the training and testing models. This is for an unbiased validation. However for the final prediction we will train our data with the full dataset"
      ]
    },
    {
      "cell_type": "code",
      "metadata": {
        "id": "U1TA6Vz-VrEG",
        "colab_type": "code",
        "colab": {
          "base_uri": "https://localhost:8080/",
          "height": 119
        },
        "outputId": "faf83934-1e89-4111-9443-ffa0ff459391"
      },
      "source": [
        "#create the model\n",
        "#decision tree regressor model\n",
        "tree_reg = DecisionTreeRegressor()\n",
        "tree_reg.fit(x_train,y_train)"
      ],
      "execution_count": 16,
      "outputs": [
        {
          "output_type": "execute_result",
          "data": {
            "text/plain": [
              "DecisionTreeRegressor(ccp_alpha=0.0, criterion='mse', max_depth=None,\n",
              "                      max_features=None, max_leaf_nodes=None,\n",
              "                      min_impurity_decrease=0.0, min_impurity_split=None,\n",
              "                      min_samples_leaf=1, min_samples_split=2,\n",
              "                      min_weight_fraction_leaf=0.0, presort='deprecated',\n",
              "                      random_state=None, splitter='best')"
            ]
          },
          "metadata": {
            "tags": []
          },
          "execution_count": 16
        }
      ]
    },
    {
      "cell_type": "markdown",
      "metadata": {
        "id": "zmB_lDhvYqVz",
        "colab_type": "text"
      },
      "source": [
        "Here we defined our \"Decision Tree Regressor\" and trained it using our training set."
      ]
    },
    {
      "cell_type": "code",
      "metadata": {
        "id": "K9-lsMNLVrEJ",
        "colab_type": "code",
        "colab": {
          "base_uri": "https://localhost:8080/",
          "height": 34
        },
        "outputId": "afa57f75-55a9-40d7-e9af-334365ad1000"
      },
      "source": [
        "#linear regression model\n",
        "lin_reg=LinearRegression()\n",
        "lin_reg.fit(x_train,y_train)"
      ],
      "execution_count": 17,
      "outputs": [
        {
          "output_type": "execute_result",
          "data": {
            "text/plain": [
              "LinearRegression(copy_X=True, fit_intercept=True, n_jobs=None, normalize=False)"
            ]
          },
          "metadata": {
            "tags": []
          },
          "execution_count": 17
        }
      ]
    },
    {
      "cell_type": "markdown",
      "metadata": {
        "id": "rVtL6YQmY2yq",
        "colab_type": "text"
      },
      "source": [
        "Here we defined our \"Linear Regressor\" and trained it using our training set."
      ]
    },
    {
      "cell_type": "code",
      "metadata": {
        "id": "3qf8x2S6VrEN",
        "colab_type": "code",
        "colab": {}
      },
      "source": [
        "#get the last x rows\n",
        "x_pred = df.drop(['prediction'],1)[:-days]\n",
        "x_pred = x_pred[-days:]\n",
        "x_pred = np.array(x_pred)"
      ],
      "execution_count": 18,
      "outputs": []
    },
    {
      "cell_type": "code",
      "metadata": {
        "id": "wUkZtJ2_VrER",
        "colab_type": "code",
        "colab": {}
      },
      "source": [
        "#show model tree prediction\n",
        "tree_reg_pred = tree_reg.predict(x_pred)\n",
        "lin_reg_pred = lin_reg.predict(x_pred)"
      ],
      "execution_count": 19,
      "outputs": []
    },
    {
      "cell_type": "markdown",
      "metadata": {
        "id": "9Pm6BkRLZweA",
        "colab_type": "text"
      },
      "source": [
        "Here we predicted our values using our models"
      ]
    },
    {
      "cell_type": "code",
      "metadata": {
        "id": "Dvxv4KG9VrEU",
        "colab_type": "code",
        "colab": {
          "base_uri": "https://localhost:8080/",
          "height": 265
        },
        "outputId": "9c26de32-3e49-4140-d6b8-f05676d2bc0f"
      },
      "source": [
        "#visualise predictions\n",
        "\n",
        "plt.plot(y[-days:])\n",
        "plt.plot(tree_reg_pred)\n",
        "plt.show()"
      ],
      "execution_count": 20,
      "outputs": [
        {
          "output_type": "display_data",
          "data": {
            "image/png": "[encoded data removed]",
            "text/plain": [
              "<Figure size 432x288 with 1 Axes>"
            ]
          },
          "metadata": {
            "tags": [],
            "needs_background": "light"
          }
        }
      ]
    },
    {
      "cell_type": "markdown",
      "metadata": {
        "id": "3b4mvZnuZ38M",
        "colab_type": "text"
      },
      "source": [
        "This is the result of the \"Decision Tree Regressor\" (in orange) compared to the actual values (in blue)."
      ]
    },
    {
      "cell_type": "code",
      "metadata": {
        "id": "apu98MVUVrEX",
        "colab_type": "code",
        "colab": {
          "base_uri": "https://localhost:8080/",
          "height": 265
        },
        "outputId": "85564077-c244-4d09-d1ae-9a8a1628a4a3"
      },
      "source": [
        "\n",
        "plt.plot(y[-days:])\n",
        "plt.plot(lin_reg_pred)\n",
        "plt.show()"
      ],
      "execution_count": 21,
      "outputs": [
        {
          "output_type": "display_data",
          "data": {
            "image/png": "[encoded data removed]",
            "text/plain": [
              "<Figure size 432x288 with 1 Axes>"
            ]
          },
          "metadata": {
            "tags": [],
            "needs_background": "light"
          }
        }
      ]
    },
    {
      "cell_type": "markdown",
      "metadata": {
        "id": "TMYl7iGHaHnt",
        "colab_type": "text"
      },
      "source": [
        "This is the result of the \"Linear Regressor\" (in orange) compared to the actual values (in blue)."
      ]
    },
    {
      "cell_type": "code",
      "metadata": {
        "id": "-uFtSKthVrEa",
        "colab_type": "code",
        "colab": {
          "base_uri": "https://localhost:8080/",
          "height": 34
        },
        "outputId": "f2697606-413b-480c-b405-3ab890b86185"
      },
      "source": [
        "#train using full database\n",
        "lin_reg.fit(x[:-days],y[:-days])"
      ],
      "execution_count": 22,
      "outputs": [
        {
          "output_type": "execute_result",
          "data": {
            "text/plain": [
              "LinearRegression(copy_X=True, fit_intercept=True, n_jobs=None, normalize=False)"
            ]
          },
          "metadata": {
            "tags": []
          },
          "execution_count": 22
        }
      ]
    },
    {
      "cell_type": "markdown",
      "metadata": {
        "id": "7meNzjNVbJrO",
        "colab_type": "text"
      },
      "source": [
        "It is very evident that the \"linear regression model\" performed better now we will use that to predict our future values."
      ]
    },
    {
      "cell_type": "code",
      "metadata": {
        "id": "omMmk2D1VrEc",
        "colab_type": "code",
        "colab": {}
      },
      "source": [
        "data = df.drop(['prediction'],1)[-days:]\n",
        "future_pred = lin_reg.predict(data)"
      ],
      "execution_count": 23,
      "outputs": []
    },
    {
      "cell_type": "markdown",
      "metadata": {
        "id": "K3x_Mm8KbXU3",
        "colab_type": "text"
      },
      "source": [
        "Here we have retrained our model to the entire dataset."
      ]
    },
    {
      "cell_type": "code",
      "metadata": {
        "id": "bMRIr6GUVrEe",
        "colab_type": "code",
        "colab": {
          "base_uri": "https://localhost:8080/",
          "height": 282
        },
        "outputId": "f82dd824-badf-4e49-8aa9-98b61600825e"
      },
      "source": [
        "plt.plot(future_pred)"
      ],
      "execution_count": 24,
      "outputs": [
        {
          "output_type": "execute_result",
          "data": {
            "text/plain": [
              "[<matplotlib.lines.Line2D at 0x7fb2f3bd62e8>]"
            ]
          },
          "metadata": {
            "tags": []
          },
          "execution_count": 24
        },
        {
          "output_type": "display_data",
          "data": {
            "image/png": "[encoded data removed]",
            "text/plain": [
              "<Figure size 432x288 with 1 Axes>"
            ]
          },
          "metadata": {
            "tags": [],
            "needs_background": "light"
          }
        }
      ]
    },
    {
      "cell_type": "markdown",
      "metadata": {
        "id": "0VHPIqwSbizL",
        "colab_type": "text"
      },
      "source": [
        "Here is our predicted Data for the next 25 days."
      ]
    },
    {
      "cell_type": "code",
      "metadata": {
        "id": "I2QjmZ6SVrEk",
        "colab_type": "code",
        "colab": {
          "base_uri": "https://localhost:8080/",
          "height": 265
        },
        "outputId": "c38ac291-afb4-45ac-f3f7-e3e792a8dd69"
      },
      "source": [
        "temp = y.tolist()\n",
        "temp.extend(future_pred)\n",
        "plt.plot(temp[-50:])\n",
        "plt.show()"
      ],
      "execution_count": 25,
      "outputs": [
        {
          "output_type": "display_data",
          "data": {
            "image/png": "[encoded data removed]",
            "text/plain": [
              "<Figure size 432x288 with 1 Axes>"
            ]
          },
          "metadata": {
            "tags": [],
            "needs_background": "light"
          }
        }
      ]
    },
    {
      "cell_type": "markdown",
      "metadata": {
        "id": "6yZ_2X2WbqL-",
        "colab_type": "text"
      },
      "source": [
        "Here is the combined data of the last 25 days and next 25 days plotted together. It predicts we will have a small upward trend for a few days and it will drop therafter."
      ]
    },
    {
      "cell_type": "markdown",
      "metadata": {
        "id": "DNk0ghaIcGMO",
        "colab_type": "text"
      },
      "source": [
        "**Please note that i would not suggest anyone to actually use this data to influence any financial transactions. It is a very basic model and not very reliable. Iam not responsible for any damages whatsoever.**"
      ]
    },
    {
      "cell_type": "code",
      "metadata": {
        "id": "E5OjHBZBckHC",
        "colab_type": "code",
        "colab": {}
      },
      "source": [
        ""
      ],
      "execution_count": 25,
      "outputs": []
    }
  ]
}