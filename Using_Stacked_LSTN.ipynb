{
  "nbformat": 4,
  "nbformat_minor": 0,
  "metadata": {
    "accelerator": "GPU",
    "colab": {
      "name": "Copy of Stock_Project V2.ipynb",
      "provenance": [],
      "toc_visible": true,
      "include_colab_link": true
    },
    "kernelspec": {
      "display_name": "Python 3",
      "language": "python",
      "name": "python3"
    },
    "language_info": {
      "codemirror_mode": {
        "name": "ipython",
        "version": 3
      },
      "file_extension": ".py",
      "mimetype": "text/x-python",
      "name": "python",
      "nbconvert_exporter": "python",
      "pygments_lexer": "ipython3",
      "version": "3.7.9"
    }
  },
  "cells": [
    {
      "cell_type": "markdown",
      "metadata": {
        "id": "view-in-github",
        "colab_type": "text"
      },
      "source": [
        "<a href=\"https://colab.research.google.com/github/NihalPuram/Stock_Price_Model/blob/master/Stock_Project_V2.ipynb\" target=\"_parent\"><img src=\"https://colab.research.google.com/assets/colab-badge.svg\" alt=\"Open In Colab\"/></a>"
      ]
    },
    {
      "cell_type": "markdown",
      "metadata": {
        "id": "zK_PK58THDCs",
        "colab_type": "text"
      },
      "source": [
        "This is a program that uses a artificial reccurant neural network called long short term memory (LSTM) to predict the stock price (ie for example we have the stock price of Coca-cola)"
      ]
    },
    {
      "cell_type": "markdown",
      "metadata": {
        "colab_type": "text",
        "id": "hiDyLOrue_VX"
      },
      "source": [
        "# Gathering Data"
      ]
    },
    {
      "cell_type": "markdown",
      "metadata": {
        "id": "JP-jyhH6H9KJ",
        "colab_type": "text"
      },
      "source": [
        "This is our first step in gathering data. Iam using the tiingo api to download the data. For you to run this, simply login to tiingo's website and enter your api_key. Change the \"stock\" variable to change the stock you are viewing."
      ]
    },
    {
      "cell_type": "code",
      "metadata": {
        "colab_type": "code",
        "id": "zeDLxHEke_VZ",
        "colab": {}
      },
      "source": [
        "import pandas_datareader as pdr"
      ],
      "execution_count": 68,
      "outputs": []
    },
    {
      "cell_type": "code",
      "metadata": {
        "id": "UfUsPMEhIWX5",
        "colab_type": "code",
        "colab": {}
      },
      "source": [
        "stock = \"Enter your Stock Ticker\""
      ],
      "execution_count": 69,
      "outputs": []
    },
    {
      "cell_type": "code",
      "metadata": {
        "colab_type": "code",
        "id": "UtBpJAgje_Vc",
        "colab": {}
      },
      "source": [
        "df = pdr.get_data_tiingo(stock,api_key='enter the tiingo api-key')"
      ],
      "execution_count": 70,
      "outputs": []
    },
    {
      "cell_type": "code",
      "metadata": {
        "colab_type": "code",
        "id": "a9UsD7bVe_Vf",
        "colab": {}
      },
      "source": [
        "df.to_csv('DATA.csv')"
      ],
      "execution_count": 71,
      "outputs": []
    },
    {
      "cell_type": "code",
      "metadata": {
        "colab_type": "code",
        "id": "0I_CwFURe_Vm",
        "colab": {}
      },
      "source": [
        "import pandas as pd\n",
        "\n",
        "df = pd.read_csv(\"DATA.csv\")"
      ],
      "execution_count": 72,
      "outputs": []
    },
    {
      "cell_type": "code",
      "metadata": {
        "colab_type": "code",
        "id": "iZHUhxsxbeTp",
        "colab": {
          "base_uri": "https://localhost:8080/",
          "height": 309
        },
        "outputId": "5c8fb08a-ac48-4f66-bcc6-63c0770d5a66"
      },
      "source": [
        "df.head()"
      ],
      "execution_count": 73,
      "outputs": [
        {
          "output_type": "execute_result",
          "data": {
            "text/html": [
              "<div>\n",
              "<style scoped>\n",
              "    .dataframe tbody tr th:only-of-type {\n",
              "        vertical-align: middle;\n",
              "    }\n",
              "\n",
              "    .dataframe tbody tr th {\n",
              "        vertical-align: top;\n",
              "    }\n",
              "\n",
              "    .dataframe thead th {\n",
              "        text-align: right;\n",
              "    }\n",
              "</style>\n",
              "<table border=\"1\" class=\"dataframe\">\n",
              "  <thead>\n",
              "    <tr style=\"text-align: right;\">\n",
              "      <th></th>\n",
              "      <th>symbol</th>\n",
              "      <th>date</th>\n",
              "      <th>close</th>\n",
              "      <th>high</th>\n",
              "      <th>low</th>\n",
              "      <th>open</th>\n",
              "      <th>volume</th>\n",
              "      <th>adjClose</th>\n",
              "      <th>adjHigh</th>\n",
              "      <th>adjLow</th>\n",
              "      <th>adjOpen</th>\n",
              "      <th>adjVolume</th>\n",
              "      <th>divCash</th>\n",
              "      <th>splitFactor</th>\n",
              "    </tr>\n",
              "  </thead>\n",
              "  <tbody>\n",
              "    <tr>\n",
              "      <th>0</th>\n",
              "      <td>KO</td>\n",
              "      <td>2015-09-11 00:00:00+00:00</td>\n",
              "      <td>38.13</td>\n",
              "      <td>38.19</td>\n",
              "      <td>37.84</td>\n",
              "      <td>38.01</td>\n",
              "      <td>11800440</td>\n",
              "      <td>32.634337</td>\n",
              "      <td>32.685689</td>\n",
              "      <td>32.386134</td>\n",
              "      <td>32.531632</td>\n",
              "      <td>11800440</td>\n",
              "      <td>0.33</td>\n",
              "      <td>1.0</td>\n",
              "    </tr>\n",
              "    <tr>\n",
              "      <th>1</th>\n",
              "      <td>KO</td>\n",
              "      <td>2015-09-14 00:00:00+00:00</td>\n",
              "      <td>38.10</td>\n",
              "      <td>38.22</td>\n",
              "      <td>37.85</td>\n",
              "      <td>38.22</td>\n",
              "      <td>8950014</td>\n",
              "      <td>32.608661</td>\n",
              "      <td>32.711365</td>\n",
              "      <td>32.394693</td>\n",
              "      <td>32.711365</td>\n",
              "      <td>8950014</td>\n",
              "      <td>0.00</td>\n",
              "      <td>1.0</td>\n",
              "    </tr>\n",
              "    <tr>\n",
              "      <th>2</th>\n",
              "      <td>KO</td>\n",
              "      <td>2015-09-15 00:00:00+00:00</td>\n",
              "      <td>38.50</td>\n",
              "      <td>38.63</td>\n",
              "      <td>37.92</td>\n",
              "      <td>38.07</td>\n",
              "      <td>13019802</td>\n",
              "      <td>32.951009</td>\n",
              "      <td>33.062272</td>\n",
              "      <td>32.454604</td>\n",
              "      <td>32.582984</td>\n",
              "      <td>13019802</td>\n",
              "      <td>0.00</td>\n",
              "      <td>1.0</td>\n",
              "    </tr>\n",
              "    <tr>\n",
              "      <th>3</th>\n",
              "      <td>KO</td>\n",
              "      <td>2015-09-16 00:00:00+00:00</td>\n",
              "      <td>39.15</td>\n",
              "      <td>39.19</td>\n",
              "      <td>38.47</td>\n",
              "      <td>38.67</td>\n",
              "      <td>22233131</td>\n",
              "      <td>33.507324</td>\n",
              "      <td>33.541559</td>\n",
              "      <td>32.925333</td>\n",
              "      <td>33.096507</td>\n",
              "      <td>22233131</td>\n",
              "      <td>0.00</td>\n",
              "      <td>1.0</td>\n",
              "    </tr>\n",
              "    <tr>\n",
              "      <th>4</th>\n",
              "      <td>KO</td>\n",
              "      <td>2015-09-17 00:00:00+00:00</td>\n",
              "      <td>39.38</td>\n",
              "      <td>39.61</td>\n",
              "      <td>39.04</td>\n",
              "      <td>39.15</td>\n",
              "      <td>21232475</td>\n",
              "      <td>33.704175</td>\n",
              "      <td>33.901025</td>\n",
              "      <td>33.413179</td>\n",
              "      <td>33.507324</td>\n",
              "      <td>21232475</td>\n",
              "      <td>0.00</td>\n",
              "      <td>1.0</td>\n",
              "    </tr>\n",
              "  </tbody>\n",
              "</table>\n",
              "</div>"
            ],
            "text/plain": [
              "  symbol                       date  close  ...  adjVolume  divCash  splitFactor\n",
              "0     KO  2015-09-11 00:00:00+00:00  38.13  ...   11800440     0.33          1.0\n",
              "1     KO  2015-09-14 00:00:00+00:00  38.10  ...    8950014     0.00          1.0\n",
              "2     KO  2015-09-15 00:00:00+00:00  38.50  ...   13019802     0.00          1.0\n",
              "3     KO  2015-09-16 00:00:00+00:00  39.15  ...   22233131     0.00          1.0\n",
              "4     KO  2015-09-17 00:00:00+00:00  39.38  ...   21232475     0.00          1.0\n",
              "\n",
              "[5 rows x 14 columns]"
            ]
          },
          "metadata": {
            "tags": []
          },
          "execution_count": 73
        }
      ]
    },
    {
      "cell_type": "code",
      "metadata": {
        "colab_type": "code",
        "id": "K7tONomke_Vt",
        "colab": {}
      },
      "source": [
        "df1=df.reset_index()['close']"
      ],
      "execution_count": 74,
      "outputs": []
    },
    {
      "cell_type": "code",
      "metadata": {
        "colab_type": "code",
        "id": "c3Qt5U1DbkN-",
        "colab": {
          "base_uri": "https://localhost:8080/",
          "height": 119
        },
        "outputId": "fec5e27c-9189-4fce-eddb-830c854bb2eb"
      },
      "source": [
        "df1.head()"
      ],
      "execution_count": 75,
      "outputs": [
        {
          "output_type": "execute_result",
          "data": {
            "text/plain": [
              "0    38.13\n",
              "1    38.10\n",
              "2    38.50\n",
              "3    39.15\n",
              "4    39.38\n",
              "Name: close, dtype: float64"
            ]
          },
          "metadata": {
            "tags": []
          },
          "execution_count": 75
        }
      ]
    },
    {
      "cell_type": "code",
      "metadata": {
        "colab_type": "code",
        "id": "RHbbxTMwe_Vv",
        "colab": {
          "base_uri": "https://localhost:8080/",
          "height": 282
        },
        "outputId": "b7a24d4c-9752-4813-c90d-7c2614aa86c6"
      },
      "source": [
        "import matplotlib.pyplot as plt\n",
        "plt.plot(df1)"
      ],
      "execution_count": 76,
      "outputs": [
        {
          "output_type": "execute_result",
          "data": {
            "text/plain": [
              "[<matplotlib.lines.Line2D at 0x7f5cb530db00>]"
            ]
          },
          "metadata": {
            "tags": []
          },
          "execution_count": 76
        },
        {
          "output_type": "display_data",
          "data": {
            "image/png": "[encoded data removed]",
            "text/plain": [
              "<Figure size 432x288 with 1 Axes>"
            ]
          },
          "metadata": {
            "tags": [],
            "needs_background": "light"
          }
        }
      ]
    },
    {
      "cell_type": "code",
      "metadata": {
        "colab_type": "code",
        "id": "VUCVhUy4e_Vz",
        "colab": {}
      },
      "source": [
        "from sklearn.preprocessing import MinMaxScaler\n",
        "import numpy as np\n",
        "scaler = MinMaxScaler(feature_range=(0,1))\n",
        "df1=scaler.fit_transform(np.array(df1).reshape(-1,1))"
      ],
      "execution_count": 77,
      "outputs": []
    },
    {
      "cell_type": "code",
      "metadata": {
        "colab_type": "code",
        "id": "yniG723We_V2",
        "colab": {
          "base_uri": "https://localhost:8080/",
          "height": 34
        },
        "outputId": "bcd26dbb-0690-4d23-c648-1516c2972a51"
      },
      "source": [
        "df1.shape"
      ],
      "execution_count": 78,
      "outputs": [
        {
          "output_type": "execute_result",
          "data": {
            "text/plain": [
              "(1257, 1)"
            ]
          },
          "metadata": {
            "tags": []
          },
          "execution_count": 78
        }
      ]
    },
    {
      "cell_type": "code",
      "metadata": {
        "colab_type": "code",
        "id": "73Z9-vOKe_V6",
        "scrolled": true,
        "colab": {
          "base_uri": "https://localhost:8080/",
          "height": 136
        },
        "outputId": "c691f9eb-dfe0-41d1-c3ec-de91b3cd2500"
      },
      "source": [
        "df1"
      ],
      "execution_count": 79,
      "outputs": [
        {
          "output_type": "execute_result",
          "data": {
            "text/plain": [
              "array([[0.02525476],\n",
              "       [0.02392556],\n",
              "       [0.04164821],\n",
              "       ...,\n",
              "       [0.57244129],\n",
              "       [0.59725299],\n",
              "       [0.54275587]])"
            ]
          },
          "metadata": {
            "tags": []
          },
          "execution_count": 79
        }
      ]
    },
    {
      "cell_type": "markdown",
      "metadata": {
        "colab_type": "text",
        "id": "PhzRYawwe_V8"
      },
      "source": [
        "# Train-Test split"
      ]
    },
    {
      "cell_type": "markdown",
      "metadata": {
        "id": "CqkSpCMHJCC-",
        "colab_type": "text"
      },
      "source": [
        "Here we are spliting the data to a train and test set for initial training and validation. For the final model we will retrain using the complete dataset."
      ]
    },
    {
      "cell_type": "code",
      "metadata": {
        "colab_type": "code",
        "id": "9vbe_QRwe_V9",
        "colab": {}
      },
      "source": [
        "split_size = 0.80\n",
        "train_size = int(len(df1)*split_size)\n",
        "train_data,test_data = df1[0:train_size,:],df1[train_size:,:1]"
      ],
      "execution_count": 80,
      "outputs": []
    },
    {
      "cell_type": "code",
      "metadata": {
        "colab_type": "code",
        "id": "nLFbSnF_e_WA",
        "colab": {
          "base_uri": "https://localhost:8080/",
          "height": 0
        },
        "outputId": "0459038e-5827-4e8d-ae83-6a0025cca6c0"
      },
      "source": [
        "len(test_data)"
      ],
      "execution_count": 81,
      "outputs": [
        {
          "output_type": "execute_result",
          "data": {
            "text/plain": [
              "252"
            ]
          },
          "metadata": {
            "tags": []
          },
          "execution_count": 81
        }
      ]
    },
    {
      "cell_type": "code",
      "metadata": {
        "colab_type": "code",
        "id": "g4k1MX4qe_WC",
        "colab": {
          "base_uri": "https://localhost:8080/",
          "height": 0
        },
        "outputId": "b50bae7f-e243-455a-82f9-a3020e91104c"
      },
      "source": [
        "len(train_data)"
      ],
      "execution_count": 82,
      "outputs": [
        {
          "output_type": "execute_result",
          "data": {
            "text/plain": [
              "1005"
            ]
          },
          "metadata": {
            "tags": []
          },
          "execution_count": 82
        }
      ]
    },
    {
      "cell_type": "code",
      "metadata": {
        "colab_type": "code",
        "id": "Ihr0-B-ee_WF",
        "colab": {}
      },
      "source": [
        "def create_dataset(dataset,time_step=1):\n",
        "    dataX,dataY = [],[]\n",
        "    for i in range(len(dataset)-time_step-1):\n",
        "        a = dataset[i:(i+time_step),0]\n",
        "        dataX.append(a)\n",
        "        dataY.append(dataset[i+time_step,0])\n",
        "    return np.array(dataX),np.array(dataY)"
      ],
      "execution_count": 83,
      "outputs": []
    },
    {
      "cell_type": "markdown",
      "metadata": {
        "id": "A7ARRh3EJU-C",
        "colab_type": "text"
      },
      "source": [
        "this function creates the dataset that contains the set previous values of the stock for a brief period of time. This allows the model to have a 'memory' of that particular time frame"
      ]
    },
    {
      "cell_type": "code",
      "metadata": {
        "colab_type": "code",
        "id": "qV3kFFKme_WH",
        "colab": {}
      },
      "source": [
        "time_step = 100\n",
        "X_train,y_train = create_dataset(train_data,time_step)\n",
        "X_test,y_test = create_dataset(test_data,time_step)"
      ],
      "execution_count": 84,
      "outputs": []
    },
    {
      "cell_type": "code",
      "metadata": {
        "colab_type": "code",
        "id": "GYa0jnUxe_WL",
        "colab": {
          "base_uri": "https://localhost:8080/",
          "height": 0
        },
        "outputId": "6f935722-dc09-42a3-e7bc-4d49aea393c5"
      },
      "source": [
        "X_train"
      ],
      "execution_count": 85,
      "outputs": [
        {
          "output_type": "execute_result",
          "data": {
            "text/plain": [
              "array([[0.02525476, 0.02392556, 0.04164821, ..., 0.24102791, 0.21621622,\n",
              "        0.22862206],\n",
              "       [0.02392556, 0.04164821, 0.0704475 , ..., 0.21621622, 0.22862206,\n",
              "        0.22020381],\n",
              "       [0.04164821, 0.0704475 , 0.08063802, ..., 0.22862206, 0.22020381,\n",
              "        0.21621622],\n",
              "       ...,\n",
              "       [0.40540541, 0.4067346 , 0.41825432, ..., 0.77492246, 0.7744794 ,\n",
              "        0.78599911],\n",
              "       [0.4067346 , 0.41825432, 0.41603899, ..., 0.7744794 , 0.78599911,\n",
              "        0.80682322],\n",
              "       [0.41825432, 0.41603899, 0.43066017, ..., 0.78599911, 0.80682322,\n",
              "        0.77802393]])"
            ]
          },
          "metadata": {
            "tags": []
          },
          "execution_count": 85
        }
      ]
    },
    {
      "cell_type": "code",
      "metadata": {
        "colab_type": "code",
        "id": "1fvkpckRe_WN",
        "colab": {
          "base_uri": "https://localhost:8080/",
          "height": 0
        },
        "outputId": "3c4cb84b-a9b0-40fb-e5cf-791951508b28"
      },
      "source": [
        "print(y_train.shape)\n",
        "print(X_train.shape)"
      ],
      "execution_count": 86,
      "outputs": [
        {
          "output_type": "stream",
          "text": [
            "(904,)\n",
            "(904, 100)\n"
          ],
          "name": "stdout"
        }
      ]
    },
    {
      "cell_type": "markdown",
      "metadata": {
        "id": "cJ5Mg3ScJqlT",
        "colab_type": "text"
      },
      "source": [
        "The next cell reshapes the data to a 3 dimensions, LSTM's require this."
      ]
    },
    {
      "cell_type": "code",
      "metadata": {
        "colab_type": "code",
        "id": "4vY8y04ge_WQ",
        "colab": {}
      },
      "source": [
        "#reshape data to be [sample,time_ steps,features] ie 3 dimensions\n",
        "X_train = X_train.reshape(X_train.shape[0],X_train.shape[1],1)\n",
        "X_test = X_test.reshape(X_test.shape[0],X_test.shape[1],1)"
      ],
      "execution_count": 87,
      "outputs": []
    },
    {
      "cell_type": "markdown",
      "metadata": {
        "colab_type": "text",
        "id": "cwxQiRU3e_WS"
      },
      "source": [
        "# Create LSTM Model"
      ]
    },
    {
      "cell_type": "code",
      "metadata": {
        "colab_type": "code",
        "id": "gSjQ7LDoe_WT",
        "colab": {}
      },
      "source": [
        "from tensorflow.keras.models import Sequential\n",
        "from tensorflow.keras.layers import Dense,LSTM,Bidirectional,Dropout\n",
        "model = Sequential()\n",
        "model.add(Bidirectional(LSTM(50,return_sequences = True), input_shape = (time_step,1)))\n",
        "model.add(LSTM(50,return_sequences = True))\n",
        "model.add(LSTM(50))\n",
        "model.add(Dense(512,activation='relu'))\n",
        "model.add(Dropout(0.5))\n",
        "model.add(Dense(256,activation='relu'))\n",
        "model.add(Dropout(0.5))\n",
        "model.add(Dense(1))\n",
        "\n",
        "model.compile(loss='mean_squared_error',optimizer='adam')"
      ],
      "execution_count": 88,
      "outputs": []
    },
    {
      "cell_type": "code",
      "metadata": {
        "colab_type": "code",
        "id": "Q7TYN3Nje_WW",
        "colab": {
          "base_uri": "https://localhost:8080/",
          "height": 425
        },
        "outputId": "e675cc1e-da9f-48d3-f469-f42e0e25475b"
      },
      "source": [
        "model.summary()"
      ],
      "execution_count": 89,
      "outputs": [
        {
          "output_type": "stream",
          "text": [
            "Model: \"sequential_2\"\n",
            "_________________________________________________________________\n",
            "Layer (type)                 Output Shape              Param #   \n",
            "=================================================================\n",
            "bidirectional_2 (Bidirection (None, 100, 100)          20800     \n",
            "_________________________________________________________________\n",
            "lstm_7 (LSTM)                (None, 100, 50)           30200     \n",
            "_________________________________________________________________\n",
            "lstm_8 (LSTM)                (None, 50)                20200     \n",
            "_________________________________________________________________\n",
            "dense_6 (Dense)              (None, 512)               26112     \n",
            "_________________________________________________________________\n",
            "dropout_4 (Dropout)          (None, 512)               0         \n",
            "_________________________________________________________________\n",
            "dense_7 (Dense)              (None, 256)               131328    \n",
            "_________________________________________________________________\n",
            "dropout_5 (Dropout)          (None, 256)               0         \n",
            "_________________________________________________________________\n",
            "dense_8 (Dense)              (None, 1)                 257       \n",
            "=================================================================\n",
            "Total params: 228,897\n",
            "Trainable params: 228,897\n",
            "Non-trainable params: 0\n",
            "_________________________________________________________________\n"
          ],
          "name": "stdout"
        }
      ]
    },
    {
      "cell_type": "code",
      "metadata": {
        "colab_type": "code",
        "id": "_EJQgPDJe_WY",
        "colab": {
          "base_uri": "https://localhost:8080/",
          "height": 1000
        },
        "outputId": "55aac4c1-cba1-42b4-c838-27e19267fea4"
      },
      "source": [
        "model.fit(X_train,y_train,validation_data=(X_test,y_test),epochs=100,batch_size=64,verbose=2)"
      ],
      "execution_count": 90,
      "outputs": [
        {
          "output_type": "stream",
          "text": [
            "Epoch 1/100\n",
            "15/15 - 3s - loss: 0.0345 - val_loss: 0.0222\n",
            "Epoch 2/100\n",
            "15/15 - 1s - loss: 0.0087 - val_loss: 0.0193\n",
            "Epoch 3/100\n",
            "15/15 - 1s - loss: 0.0050 - val_loss: 0.0205\n",
            "Epoch 4/100\n",
            "15/15 - 1s - loss: 0.0039 - val_loss: 0.0210\n",
            "Epoch 5/100\n",
            "15/15 - 1s - loss: 0.0037 - val_loss: 0.0185\n",
            "Epoch 6/100\n",
            "15/15 - 1s - loss: 0.0037 - val_loss: 0.0163\n",
            "Epoch 7/100\n",
            "15/15 - 1s - loss: 0.0037 - val_loss: 0.0171\n",
            "Epoch 8/100\n",
            "15/15 - 1s - loss: 0.0033 - val_loss: 0.0198\n",
            "Epoch 9/100\n",
            "15/15 - 1s - loss: 0.0032 - val_loss: 0.0140\n",
            "Epoch 10/100\n",
            "15/15 - 1s - loss: 0.0035 - val_loss: 0.0128\n",
            "Epoch 11/100\n",
            "15/15 - 1s - loss: 0.0032 - val_loss: 0.0118\n",
            "Epoch 12/100\n",
            "15/15 - 1s - loss: 0.0031 - val_loss: 0.0151\n",
            "Epoch 13/100\n",
            "15/15 - 1s - loss: 0.0026 - val_loss: 0.0107\n",
            "Epoch 14/100\n",
            "15/15 - 1s - loss: 0.0029 - val_loss: 0.0107\n",
            "Epoch 15/100\n",
            "15/15 - 1s - loss: 0.0027 - val_loss: 0.0096\n",
            "Epoch 16/100\n",
            "15/15 - 1s - loss: 0.0030 - val_loss: 0.0099\n",
            "Epoch 17/100\n",
            "15/15 - 1s - loss: 0.0025 - val_loss: 0.0114\n",
            "Epoch 18/100\n",
            "15/15 - 1s - loss: 0.0024 - val_loss: 0.0118\n",
            "Epoch 19/100\n",
            "15/15 - 1s - loss: 0.0030 - val_loss: 0.0089\n",
            "Epoch 20/100\n",
            "15/15 - 1s - loss: 0.0024 - val_loss: 0.0087\n",
            "Epoch 21/100\n",
            "15/15 - 1s - loss: 0.0022 - val_loss: 0.0086\n",
            "Epoch 22/100\n",
            "15/15 - 1s - loss: 0.0025 - val_loss: 0.0091\n",
            "Epoch 23/100\n",
            "15/15 - 1s - loss: 0.0023 - val_loss: 0.0085\n",
            "Epoch 24/100\n",
            "15/15 - 1s - loss: 0.0024 - val_loss: 0.0076\n",
            "Epoch 25/100\n",
            "15/15 - 1s - loss: 0.0020 - val_loss: 0.0075\n",
            "Epoch 26/100\n",
            "15/15 - 1s - loss: 0.0021 - val_loss: 0.0074\n",
            "Epoch 27/100\n",
            "15/15 - 1s - loss: 0.0023 - val_loss: 0.0070\n",
            "Epoch 28/100\n",
            "15/15 - 1s - loss: 0.0019 - val_loss: 0.0081\n",
            "Epoch 29/100\n",
            "15/15 - 1s - loss: 0.0022 - val_loss: 0.0081\n",
            "Epoch 30/100\n",
            "15/15 - 1s - loss: 0.0022 - val_loss: 0.0066\n",
            "Epoch 31/100\n",
            "15/15 - 1s - loss: 0.0020 - val_loss: 0.0075\n",
            "Epoch 32/100\n",
            "15/15 - 1s - loss: 0.0026 - val_loss: 0.0067\n",
            "Epoch 33/100\n",
            "15/15 - 1s - loss: 0.0021 - val_loss: 0.0084\n",
            "Epoch 34/100\n",
            "15/15 - 1s - loss: 0.0019 - val_loss: 0.0068\n",
            "Epoch 35/100\n",
            "15/15 - 1s - loss: 0.0020 - val_loss: 0.0065\n",
            "Epoch 36/100\n",
            "15/15 - 1s - loss: 0.0021 - val_loss: 0.0064\n",
            "Epoch 37/100\n",
            "15/15 - 1s - loss: 0.0018 - val_loss: 0.0060\n",
            "Epoch 38/100\n",
            "15/15 - 1s - loss: 0.0018 - val_loss: 0.0057\n",
            "Epoch 39/100\n",
            "15/15 - 1s - loss: 0.0016 - val_loss: 0.0070\n",
            "Epoch 40/100\n",
            "15/15 - 1s - loss: 0.0022 - val_loss: 0.0064\n",
            "Epoch 41/100\n",
            "15/15 - 1s - loss: 0.0023 - val_loss: 0.0065\n",
            "Epoch 42/100\n",
            "15/15 - 1s - loss: 0.0020 - val_loss: 0.0063\n",
            "Epoch 43/100\n",
            "15/15 - 1s - loss: 0.0019 - val_loss: 0.0073\n",
            "Epoch 44/100\n",
            "15/15 - 1s - loss: 0.0017 - val_loss: 0.0059\n",
            "Epoch 45/100\n",
            "15/15 - 1s - loss: 0.0020 - val_loss: 0.0060\n",
            "Epoch 46/100\n",
            "15/15 - 1s - loss: 0.0017 - val_loss: 0.0058\n",
            "Epoch 47/100\n",
            "15/15 - 1s - loss: 0.0016 - val_loss: 0.0056\n",
            "Epoch 48/100\n",
            "15/15 - 1s - loss: 0.0020 - val_loss: 0.0061\n",
            "Epoch 49/100\n",
            "15/15 - 1s - loss: 0.0017 - val_loss: 0.0061\n",
            "Epoch 50/100\n",
            "15/15 - 1s - loss: 0.0017 - val_loss: 0.0058\n",
            "Epoch 51/100\n",
            "15/15 - 1s - loss: 0.0018 - val_loss: 0.0086\n",
            "Epoch 52/100\n",
            "15/15 - 1s - loss: 0.0018 - val_loss: 0.0063\n",
            "Epoch 53/100\n",
            "15/15 - 1s - loss: 0.0017 - val_loss: 0.0056\n",
            "Epoch 54/100\n",
            "15/15 - 1s - loss: 0.0016 - val_loss: 0.0052\n",
            "Epoch 55/100\n",
            "15/15 - 1s - loss: 0.0017 - val_loss: 0.0054\n",
            "Epoch 56/100\n",
            "15/15 - 1s - loss: 0.0016 - val_loss: 0.0053\n",
            "Epoch 57/100\n",
            "15/15 - 1s - loss: 0.0016 - val_loss: 0.0054\n",
            "Epoch 58/100\n",
            "15/15 - 1s - loss: 0.0016 - val_loss: 0.0052\n",
            "Epoch 59/100\n",
            "15/15 - 1s - loss: 0.0016 - val_loss: 0.0048\n",
            "Epoch 60/100\n",
            "15/15 - 1s - loss: 0.0016 - val_loss: 0.0059\n",
            "Epoch 61/100\n",
            "15/15 - 1s - loss: 0.0019 - val_loss: 0.0057\n",
            "Epoch 62/100\n",
            "15/15 - 1s - loss: 0.0017 - val_loss: 0.0055\n",
            "Epoch 63/100\n",
            "15/15 - 1s - loss: 0.0016 - val_loss: 0.0052\n",
            "Epoch 64/100\n",
            "15/15 - 1s - loss: 0.0017 - val_loss: 0.0068\n",
            "Epoch 65/100\n",
            "15/15 - 1s - loss: 0.0017 - val_loss: 0.0053\n",
            "Epoch 66/100\n",
            "15/15 - 1s - loss: 0.0017 - val_loss: 0.0050\n",
            "Epoch 67/100\n",
            "15/15 - 1s - loss: 0.0015 - val_loss: 0.0054\n",
            "Epoch 68/100\n",
            "15/15 - 1s - loss: 0.0016 - val_loss: 0.0050\n",
            "Epoch 69/100\n",
            "15/15 - 1s - loss: 0.0016 - val_loss: 0.0051\n",
            "Epoch 70/100\n",
            "15/15 - 1s - loss: 0.0016 - val_loss: 0.0054\n",
            "Epoch 71/100\n",
            "15/15 - 1s - loss: 0.0016 - val_loss: 0.0052\n",
            "Epoch 72/100\n",
            "15/15 - 1s - loss: 0.0015 - val_loss: 0.0055\n",
            "Epoch 73/100\n",
            "15/15 - 1s - loss: 0.0016 - val_loss: 0.0050\n",
            "Epoch 74/100\n",
            "15/15 - 1s - loss: 0.0016 - val_loss: 0.0054\n",
            "Epoch 75/100\n",
            "15/15 - 1s - loss: 0.0013 - val_loss: 0.0053\n",
            "Epoch 76/100\n",
            "15/15 - 1s - loss: 0.0014 - val_loss: 0.0047\n",
            "Epoch 77/100\n",
            "15/15 - 1s - loss: 0.0014 - val_loss: 0.0048\n",
            "Epoch 78/100\n",
            "15/15 - 1s - loss: 0.0016 - val_loss: 0.0075\n",
            "Epoch 79/100\n",
            "15/15 - 1s - loss: 0.0017 - val_loss: 0.0051\n",
            "Epoch 80/100\n",
            "15/15 - 1s - loss: 0.0014 - val_loss: 0.0049\n",
            "Epoch 81/100\n",
            "15/15 - 1s - loss: 0.0013 - val_loss: 0.0048\n",
            "Epoch 82/100\n",
            "15/15 - 1s - loss: 0.0013 - val_loss: 0.0047\n",
            "Epoch 83/100\n",
            "15/15 - 1s - loss: 0.0015 - val_loss: 0.0052\n",
            "Epoch 84/100\n",
            "15/15 - 1s - loss: 0.0014 - val_loss: 0.0048\n",
            "Epoch 85/100\n",
            "15/15 - 1s - loss: 0.0015 - val_loss: 0.0049\n",
            "Epoch 86/100\n",
            "15/15 - 1s - loss: 0.0017 - val_loss: 0.0049\n",
            "Epoch 87/100\n",
            "15/15 - 1s - loss: 0.0019 - val_loss: 0.0063\n",
            "Epoch 88/100\n",
            "15/15 - 1s - loss: 0.0017 - val_loss: 0.0053\n",
            "Epoch 89/100\n",
            "15/15 - 1s - loss: 0.0012 - val_loss: 0.0050\n",
            "Epoch 90/100\n",
            "15/15 - 1s - loss: 0.0014 - val_loss: 0.0053\n",
            "Epoch 91/100\n",
            "15/15 - 1s - loss: 0.0013 - val_loss: 0.0047\n",
            "Epoch 92/100\n",
            "15/15 - 1s - loss: 0.0013 - val_loss: 0.0049\n",
            "Epoch 93/100\n",
            "15/15 - 1s - loss: 0.0015 - val_loss: 0.0046\n",
            "Epoch 94/100\n",
            "15/15 - 1s - loss: 0.0013 - val_loss: 0.0046\n",
            "Epoch 95/100\n",
            "15/15 - 1s - loss: 0.0013 - val_loss: 0.0046\n",
            "Epoch 96/100\n",
            "15/15 - 1s - loss: 0.0012 - val_loss: 0.0044\n",
            "Epoch 97/100\n",
            "15/15 - 1s - loss: 0.0012 - val_loss: 0.0048\n",
            "Epoch 98/100\n",
            "15/15 - 1s - loss: 0.0012 - val_loss: 0.0045\n",
            "Epoch 99/100\n",
            "15/15 - 1s - loss: 0.0012 - val_loss: 0.0046\n",
            "Epoch 100/100\n",
            "15/15 - 1s - loss: 0.0015 - val_loss: 0.0049\n"
          ],
          "name": "stdout"
        },
        {
          "output_type": "execute_result",
          "data": {
            "text/plain": [
              "<tensorflow.python.keras.callbacks.History at 0x7f5cb4fcac50>"
            ]
          },
          "metadata": {
            "tags": []
          },
          "execution_count": 90
        }
      ]
    },
    {
      "cell_type": "code",
      "metadata": {
        "colab_type": "code",
        "id": "Tc0bACRmngVt",
        "colab": {}
      },
      "source": [
        "final_train,final_test = create_dataset(df1,100)"
      ],
      "execution_count": 91,
      "outputs": []
    },
    {
      "cell_type": "code",
      "metadata": {
        "colab_type": "code",
        "id": "LoCbM0Iqnz_x",
        "colab": {}
      },
      "source": [
        "#reshape\n",
        "final_train = final_train.reshape(final_train.shape[0],final_train.shape[1],1)"
      ],
      "execution_count": 92,
      "outputs": []
    },
    {
      "cell_type": "code",
      "metadata": {
        "colab_type": "code",
        "id": "UK-7ypKanoap",
        "colab": {
          "base_uri": "https://localhost:8080/",
          "height": 1000
        },
        "outputId": "4d016c2f-99aa-4d60-9fdb-05e13697694c"
      },
      "source": [
        "model.fit(final_train,final_test,epochs=100,batch_size=64,verbose=2)"
      ],
      "execution_count": 93,
      "outputs": [
        {
          "output_type": "stream",
          "text": [
            "Epoch 1/100\n",
            "19/19 - 2s - loss: 0.0025\n",
            "Epoch 2/100\n",
            "19/19 - 2s - loss: 0.0023\n",
            "Epoch 3/100\n",
            "19/19 - 2s - loss: 0.0023\n",
            "Epoch 4/100\n",
            "19/19 - 2s - loss: 0.0027\n",
            "Epoch 5/100\n",
            "19/19 - 2s - loss: 0.0027\n",
            "Epoch 6/100\n",
            "19/19 - 2s - loss: 0.0026\n",
            "Epoch 7/100\n",
            "19/19 - 2s - loss: 0.0022\n",
            "Epoch 8/100\n",
            "19/19 - 2s - loss: 0.0022\n",
            "Epoch 9/100\n",
            "19/19 - 2s - loss: 0.0021\n",
            "Epoch 10/100\n",
            "19/19 - 2s - loss: 0.0023\n",
            "Epoch 11/100\n",
            "19/19 - 2s - loss: 0.0023\n",
            "Epoch 12/100\n",
            "19/19 - 2s - loss: 0.0023\n",
            "Epoch 13/100\n",
            "19/19 - 2s - loss: 0.0020\n",
            "Epoch 14/100\n",
            "19/19 - 2s - loss: 0.0019\n",
            "Epoch 15/100\n",
            "19/19 - 2s - loss: 0.0021\n",
            "Epoch 16/100\n",
            "19/19 - 2s - loss: 0.0036\n",
            "Epoch 17/100\n",
            "19/19 - 2s - loss: 0.0027\n",
            "Epoch 18/100\n",
            "19/19 - 2s - loss: 0.0023\n",
            "Epoch 19/100\n",
            "19/19 - 2s - loss: 0.0022\n",
            "Epoch 20/100\n",
            "19/19 - 2s - loss: 0.0028\n",
            "Epoch 21/100\n",
            "19/19 - 2s - loss: 0.0023\n",
            "Epoch 22/100\n",
            "19/19 - 2s - loss: 0.0023\n",
            "Epoch 23/100\n",
            "19/19 - 2s - loss: 0.0020\n",
            "Epoch 24/100\n",
            "19/19 - 2s - loss: 0.0025\n",
            "Epoch 25/100\n",
            "19/19 - 2s - loss: 0.0021\n",
            "Epoch 26/100\n",
            "19/19 - 2s - loss: 0.0020\n",
            "Epoch 27/100\n",
            "19/19 - 2s - loss: 0.0019\n",
            "Epoch 28/100\n",
            "19/19 - 2s - loss: 0.0018\n",
            "Epoch 29/100\n",
            "19/19 - 2s - loss: 0.0019\n",
            "Epoch 30/100\n",
            "19/19 - 2s - loss: 0.0019\n",
            "Epoch 31/100\n",
            "19/19 - 2s - loss: 0.0020\n",
            "Epoch 32/100\n",
            "19/19 - 2s - loss: 0.0020\n",
            "Epoch 33/100\n",
            "19/19 - 2s - loss: 0.0020\n",
            "Epoch 34/100\n",
            "19/19 - 2s - loss: 0.0018\n",
            "Epoch 35/100\n",
            "19/19 - 2s - loss: 0.0019\n",
            "Epoch 36/100\n",
            "19/19 - 2s - loss: 0.0017\n",
            "Epoch 37/100\n",
            "19/19 - 2s - loss: 0.0024\n",
            "Epoch 38/100\n",
            "19/19 - 2s - loss: 0.0020\n",
            "Epoch 39/100\n",
            "19/19 - 2s - loss: 0.0020\n",
            "Epoch 40/100\n",
            "19/19 - 2s - loss: 0.0021\n",
            "Epoch 41/100\n",
            "19/19 - 2s - loss: 0.0018\n",
            "Epoch 42/100\n",
            "19/19 - 2s - loss: 0.0019\n",
            "Epoch 43/100\n",
            "19/19 - 2s - loss: 0.0024\n",
            "Epoch 44/100\n",
            "19/19 - 2s - loss: 0.0022\n",
            "Epoch 45/100\n",
            "19/19 - 2s - loss: 0.0023\n",
            "Epoch 46/100\n",
            "19/19 - 2s - loss: 0.0055\n",
            "Epoch 47/100\n",
            "19/19 - 2s - loss: 0.0032\n",
            "Epoch 48/100\n",
            "19/19 - 2s - loss: 0.0025\n",
            "Epoch 49/100\n",
            "19/19 - 2s - loss: 0.0022\n",
            "Epoch 50/100\n",
            "19/19 - 2s - loss: 0.0018\n",
            "Epoch 51/100\n",
            "19/19 - 2s - loss: 0.0020\n",
            "Epoch 52/100\n",
            "19/19 - 2s - loss: 0.0018\n",
            "Epoch 53/100\n",
            "19/19 - 2s - loss: 0.0023\n",
            "Epoch 54/100\n",
            "19/19 - 2s - loss: 0.0019\n",
            "Epoch 55/100\n",
            "19/19 - 2s - loss: 0.0019\n",
            "Epoch 56/100\n",
            "19/19 - 2s - loss: 0.0021\n",
            "Epoch 57/100\n",
            "19/19 - 2s - loss: 0.0019\n",
            "Epoch 58/100\n",
            "19/19 - 2s - loss: 0.0016\n",
            "Epoch 59/100\n",
            "19/19 - 2s - loss: 0.0017\n",
            "Epoch 60/100\n",
            "19/19 - 2s - loss: 0.0021\n",
            "Epoch 61/100\n",
            "19/19 - 2s - loss: 0.0016\n",
            "Epoch 62/100\n",
            "19/19 - 2s - loss: 0.0017\n",
            "Epoch 63/100\n",
            "19/19 - 2s - loss: 0.0015\n",
            "Epoch 64/100\n",
            "19/19 - 2s - loss: 0.0018\n",
            "Epoch 65/100\n",
            "19/19 - 2s - loss: 0.0017\n",
            "Epoch 66/100\n",
            "19/19 - 2s - loss: 0.0015\n",
            "Epoch 67/100\n",
            "19/19 - 2s - loss: 0.0018\n",
            "Epoch 68/100\n",
            "19/19 - 2s - loss: 0.0015\n",
            "Epoch 69/100\n",
            "19/19 - 2s - loss: 0.0015\n",
            "Epoch 70/100\n",
            "19/19 - 2s - loss: 0.0019\n",
            "Epoch 71/100\n",
            "19/19 - 2s - loss: 0.0020\n",
            "Epoch 72/100\n",
            "19/19 - 2s - loss: 0.0017\n",
            "Epoch 73/100\n",
            "19/19 - 2s - loss: 0.0017\n",
            "Epoch 74/100\n",
            "19/19 - 2s - loss: 0.0016\n",
            "Epoch 75/100\n",
            "19/19 - 2s - loss: 0.0018\n",
            "Epoch 76/100\n",
            "19/19 - 2s - loss: 0.0018\n",
            "Epoch 77/100\n",
            "19/19 - 2s - loss: 0.0017\n",
            "Epoch 78/100\n",
            "19/19 - 2s - loss: 0.0016\n",
            "Epoch 79/100\n",
            "19/19 - 2s - loss: 0.0015\n",
            "Epoch 80/100\n",
            "19/19 - 2s - loss: 0.0016\n",
            "Epoch 81/100\n",
            "19/19 - 2s - loss: 0.0016\n",
            "Epoch 82/100\n",
            "19/19 - 2s - loss: 0.0016\n",
            "Epoch 83/100\n",
            "19/19 - 2s - loss: 0.0019\n",
            "Epoch 84/100\n",
            "19/19 - 2s - loss: 0.0018\n",
            "Epoch 85/100\n",
            "19/19 - 2s - loss: 0.0024\n",
            "Epoch 86/100\n",
            "19/19 - 2s - loss: 0.0020\n",
            "Epoch 87/100\n",
            "19/19 - 2s - loss: 0.0015\n",
            "Epoch 88/100\n",
            "19/19 - 2s - loss: 0.0016\n",
            "Epoch 89/100\n",
            "19/19 - 2s - loss: 0.0016\n",
            "Epoch 90/100\n",
            "19/19 - 2s - loss: 0.0016\n",
            "Epoch 91/100\n",
            "19/19 - 2s - loss: 0.0017\n",
            "Epoch 92/100\n",
            "19/19 - 2s - loss: 0.0015\n",
            "Epoch 93/100\n",
            "19/19 - 2s - loss: 0.0015\n",
            "Epoch 94/100\n",
            "19/19 - 2s - loss: 0.0016\n",
            "Epoch 95/100\n",
            "19/19 - 2s - loss: 0.0016\n",
            "Epoch 96/100\n",
            "19/19 - 2s - loss: 0.0015\n",
            "Epoch 97/100\n",
            "19/19 - 2s - loss: 0.0017\n",
            "Epoch 98/100\n",
            "19/19 - 2s - loss: 0.0016\n",
            "Epoch 99/100\n",
            "19/19 - 2s - loss: 0.0017\n",
            "Epoch 100/100\n",
            "19/19 - 2s - loss: 0.0019\n"
          ],
          "name": "stdout"
        },
        {
          "output_type": "execute_result",
          "data": {
            "text/plain": [
              "<tensorflow.python.keras.callbacks.History at 0x7f5cb17d3860>"
            ]
          },
          "metadata": {
            "tags": []
          },
          "execution_count": 93
        }
      ]
    },
    {
      "cell_type": "markdown",
      "metadata": {
        "colab_type": "text",
        "id": "FVMGQo1de_Wb"
      },
      "source": [
        "# Predict the plot outcome"
      ]
    },
    {
      "cell_type": "code",
      "metadata": {
        "colab_type": "code",
        "id": "Hyvjfjuue_Wb",
        "colab": {}
      },
      "source": [
        "train_predict = model.predict(X_train)\n",
        "test_predict = model.predict(X_test)"
      ],
      "execution_count": 94,
      "outputs": []
    },
    {
      "cell_type": "code",
      "metadata": {
        "colab_type": "code",
        "id": "zH2k0qv4e_We",
        "colab": {
          "base_uri": "https://localhost:8080/",
          "height": 0
        },
        "outputId": "61f0a1de-f53b-4436-b789-bb8b6c9e1f19"
      },
      "source": [
        "from sklearn.metrics import mean_squared_error\n",
        "np.sqrt(mean_squared_error(y_train,train_predict))"
      ],
      "execution_count": 95,
      "outputs": [
        {
          "output_type": "execute_result",
          "data": {
            "text/plain": [
              "0.026500931458545134"
            ]
          },
          "metadata": {
            "tags": []
          },
          "execution_count": 95
        }
      ]
    },
    {
      "cell_type": "code",
      "metadata": {
        "colab_type": "code",
        "id": "PUGqHP9xe_Wh",
        "colab": {
          "base_uri": "https://localhost:8080/",
          "height": 0
        },
        "outputId": "17c9aa2f-28d5-4e2f-9025-d22d45b20a85"
      },
      "source": [
        "np.sqrt(mean_squared_error(y_test,test_predict))"
      ],
      "execution_count": 96,
      "outputs": [
        {
          "output_type": "execute_result",
          "data": {
            "text/plain": [
              "0.056318533610176025"
            ]
          },
          "metadata": {
            "tags": []
          },
          "execution_count": 96
        }
      ]
    },
    {
      "cell_type": "code",
      "metadata": {
        "colab_type": "code",
        "id": "Eq8OmP_oe_Wk",
        "colab": {
          "base_uri": "https://localhost:8080/",
          "height": 0
        },
        "outputId": "b9bab50a-e5da-4b36-bc0e-f2c03f333c75"
      },
      "source": [
        "len(test_data)"
      ],
      "execution_count": 97,
      "outputs": [
        {
          "output_type": "execute_result",
          "data": {
            "text/plain": [
              "252"
            ]
          },
          "metadata": {
            "tags": []
          },
          "execution_count": 97
        }
      ]
    },
    {
      "cell_type": "code",
      "metadata": {
        "colab_type": "code",
        "id": "JgVy7yOVe_Wn",
        "colab": {
          "base_uri": "https://localhost:8080/",
          "height": 0
        },
        "outputId": "9e8dfdaa-b00a-4985-ada7-3ea3ec42f564"
      },
      "source": [
        "\n",
        "### Plotting \n",
        "# shift train predictions for plotting\n",
        "look_back=100\n",
        "trainPredictPlot = np.empty_like(df1)\n",
        "trainPredictPlot[:, :] = np.nan\n",
        "trainPredictPlot[look_back:len(train_predict)+look_back, :] = train_predict\n",
        "# shift test predictions for plotting\n",
        "testPredictPlot = np.empty_like(df1)\n",
        "testPredictPlot[:, :] = np.nan\n",
        "testPredictPlot[len(train_predict)+(look_back*2)+1:len(df1)-1, :] = test_predict\n",
        "# plot baseline and predictions\n",
        "plt.plot(scaler.inverse_transform(df1))\n",
        "plt.plot(scaler.inverse_transform(trainPredictPlot))\n",
        "plt.plot(scaler.inverse_transform(testPredictPlot))\n",
        "plt.show()"
      ],
      "execution_count": 98,
      "outputs": [
        {
          "output_type": "display_data",
          "data": {
            "image/png": "[encoded data removed]",
            "text/plain": [
              "<Figure size 432x288 with 1 Axes>"
            ]
          },
          "metadata": {
            "tags": [],
            "needs_background": "light"
          }
        }
      ]
    },
    {
      "cell_type": "markdown",
      "metadata": {
        "colab_type": "text",
        "id": "OOL9ooGAe_Wq"
      },
      "source": [
        "# Predict the next 30 days"
      ]
    },
    {
      "cell_type": "code",
      "metadata": {
        "colab_type": "code",
        "id": "HOTXCvVue_Wr",
        "colab": {
          "base_uri": "https://localhost:8080/",
          "height": 34
        },
        "outputId": "1207507c-d679-420e-ca16-b6ea67771653"
      },
      "source": [
        "len(test_data)"
      ],
      "execution_count": 99,
      "outputs": [
        {
          "output_type": "execute_result",
          "data": {
            "text/plain": [
              "252"
            ]
          },
          "metadata": {
            "tags": []
          },
          "execution_count": 99
        }
      ]
    },
    {
      "cell_type": "code",
      "metadata": {
        "colab_type": "code",
        "id": "mH7yBkgSe_Wt",
        "colab": {
          "base_uri": "https://localhost:8080/",
          "height": 34
        },
        "outputId": "4c89388e-e814-4762-826c-03e50516a677"
      },
      "source": [
        "x_input=test_data[len(test_data)-100:].reshape(1,-1)\n",
        "x_input.shape"
      ],
      "execution_count": 100,
      "outputs": [
        {
          "output_type": "execute_result",
          "data": {
            "text/plain": [
              "(1, 100)"
            ]
          },
          "metadata": {
            "tags": []
          },
          "execution_count": 100
        }
      ]
    },
    {
      "cell_type": "code",
      "metadata": {
        "colab_type": "code",
        "id": "Cy581fOce_Wv",
        "colab": {}
      },
      "source": [
        "temp_input=list(x_input)\n",
        "temp_input=temp_input[0].tolist()"
      ],
      "execution_count": 101,
      "outputs": []
    },
    {
      "cell_type": "code",
      "metadata": {
        "colab_type": "code",
        "id": "u3r_zOTVe_Wx",
        "colab": {}
      },
      "source": [
        "# demonstrate prediction for next 10 days\n",
        "from numpy import array\n",
        "\n",
        "lst_output=[]\n",
        "n_steps=100\n",
        "i=0\n",
        "days = 30\n",
        "while(i<days):\n",
        "    \n",
        "    if(len(temp_input)>100):\n",
        "        x_input=np.array(temp_input[1:])\n",
        "        x_input=x_input.reshape(1,-1)\n",
        "        x_input = x_input.reshape((1, n_steps, 1))\n",
        "        yhat = model.predict(x_input, verbose=0)\n",
        "        temp_input.extend(yhat[0].tolist())\n",
        "        temp_input=temp_input[1:]\n",
        "        lst_output.extend(yhat.tolist())\n",
        "        i=i+1\n",
        "    else:\n",
        "        x_input = x_input.reshape((1, n_steps,1))\n",
        "        yhat = model.predict(x_input, verbose=0)\n",
        "        temp_input.extend(yhat[0].tolist())\n",
        "        lst_output.extend(yhat.tolist())\n",
        "        i=i+1\n",
        "    "
      ],
      "execution_count": 102,
      "outputs": []
    },
    {
      "cell_type": "code",
      "metadata": {
        "colab_type": "code",
        "id": "h2Aennyse_W0",
        "colab": {}
      },
      "source": [
        "day_new=np.arange(1,101)\n",
        "day_pred=np.arange(101,101+days)"
      ],
      "execution_count": 103,
      "outputs": []
    },
    {
      "cell_type": "code",
      "metadata": {
        "colab_type": "code",
        "id": "LUDSXnPZe_W3",
        "colab": {
          "base_uri": "https://localhost:8080/",
          "height": 34
        },
        "outputId": "d2a3ebe5-7d2b-4a88-ba72-51e60f7e8bd5"
      },
      "source": [
        "len(df1)"
      ],
      "execution_count": 104,
      "outputs": [
        {
          "output_type": "execute_result",
          "data": {
            "text/plain": [
              "1257"
            ]
          },
          "metadata": {
            "tags": []
          },
          "execution_count": 104
        }
      ]
    },
    {
      "cell_type": "code",
      "metadata": {
        "colab_type": "code",
        "id": "GsV8TMBRe_W5",
        "colab": {
          "base_uri": "https://localhost:8080/",
          "height": 282
        },
        "outputId": "1dbb770c-00c3-4d28-d355-4161b80b274f"
      },
      "source": [
        "plt.plot(day_new,scaler.inverse_transform(df1[len(df1)-100:]))\n",
        "plt.plot(day_pred,scaler.inverse_transform(lst_output))"
      ],
      "execution_count": 105,
      "outputs": [
        {
          "output_type": "execute_result",
          "data": {
            "text/plain": [
              "[<matplotlib.lines.Line2D at 0x7f5cb27c50f0>]"
            ]
          },
          "metadata": {
            "tags": []
          },
          "execution_count": 105
        },
        {
          "output_type": "display_data",
          "data": {
            "image/png": "[encoded data removed]",
            "text/plain": [
              "<Figure size 432x288 with 1 Axes>"
            ]
          },
          "metadata": {
            "tags": [],
            "needs_background": "light"
          }
        }
      ]
    },
    {
      "cell_type": "markdown",
      "metadata": {
        "id": "o-B5EgjBOn9V",
        "colab_type": "text"
      },
      "source": [
        "These are the results"
      ]
    },
    {
      "cell_type": "code",
      "metadata": {
        "colab_type": "code",
        "id": "A4TwNAkUe_W8",
        "colab": {
          "base_uri": "https://localhost:8080/",
          "height": 282
        },
        "outputId": "8aac4adc-69bb-45e1-ac0c-74626b64fbad"
      },
      "source": [
        "df3=df1.tolist()\n",
        "df3.extend(lst_output)\n",
        "plt.plot(scaler.inverse_transform(df3[1200:]))"
      ],
      "execution_count": 106,
      "outputs": [
        {
          "output_type": "execute_result",
          "data": {
            "text/plain": [
              "[<matplotlib.lines.Line2D at 0x7f5cb23eae80>]"
            ]
          },
          "metadata": {
            "tags": []
          },
          "execution_count": 106
        },
        {
          "output_type": "display_data",
          "data": {
            "image/png": "[encoded data removed]",
            "text/plain": [
              "<Figure size 432x288 with 1 Axes>"
            ]
          },
          "metadata": {
            "tags": [],
            "needs_background": "light"
          }
        }
      ]
    },
    {
      "cell_type": "markdown",
      "metadata": {
        "id": "M_ghAozhOr19",
        "colab_type": "text"
      },
      "source": [
        "These are the results rounded to the last 100 days"
      ]
    },
    {
      "cell_type": "code",
      "metadata": {
        "colab_type": "code",
        "id": "Khy3EbrZe_W-",
        "colab": {
          "base_uri": "https://localhost:8080/",
          "height": 282
        },
        "outputId": "756071ed-6c01-4bf8-d235-e48a09c0a8de"
      },
      "source": [
        "df3=scaler.inverse_transform(df3).tolist()\n",
        "plt.plot(df3)"
      ],
      "execution_count": 107,
      "outputs": [
        {
          "output_type": "execute_result",
          "data": {
            "text/plain": [
              "[<matplotlib.lines.Line2D at 0x7f5cb22f4898>]"
            ]
          },
          "metadata": {
            "tags": []
          },
          "execution_count": 107
        },
        {
          "output_type": "display_data",
          "data": {
            "image/png": "[encoded data removed]",
            "text/plain": [
              "<Figure size 432x288 with 1 Axes>"
            ]
          },
          "metadata": {
            "tags": [],
            "needs_background": "light"
          }
        }
      ]
    },
    {
      "cell_type": "markdown",
      "metadata": {
        "id": "oXF6_h92Ozu-",
        "colab_type": "text"
      },
      "source": [
        "this is the entire dataset included our predicted results"
      ]
    },
    {
      "cell_type": "code",
      "metadata": {
        "colab_type": "code",
        "id": "Hd0Cqew0fh88",
        "colab": {
          "base_uri": "https://localhost:8080/",
          "height": 527
        },
        "outputId": "e797466e-7dd0-4007-98d5-54e26007ae9e"
      },
      "source": [
        "output = np.array(temp_input[-30:])\n",
        "output = scaler.inverse_transform(output.reshape(-1,1))\n",
        "output"
      ],
      "execution_count": 108,
      "outputs": [
        {
          "output_type": "execute_result",
          "data": {
            "text/plain": [
              "array([[49.97239042],\n",
              "       [49.65347909],\n",
              "       [49.39571329],\n",
              "       [49.22648015],\n",
              "       [49.13055922],\n",
              "       [49.10952178],\n",
              "       [49.15628226],\n",
              "       [49.25924033],\n",
              "       [49.39615588],\n",
              "       [49.55316314],\n",
              "       [49.71725597],\n",
              "       [49.86777631],\n",
              "       [49.99286553],\n",
              "       [50.09248059],\n",
              "       [50.16646274],\n",
              "       [50.21730613],\n",
              "       [50.25010129],\n",
              "       [50.27090465],\n",
              "       [50.2870843 ],\n",
              "       [50.30445317],\n",
              "       [50.32752198],\n",
              "       [50.35908351],\n",
              "       [50.40061894],\n",
              "       [50.45252779],\n",
              "       [50.51395313],\n",
              "       [50.58020801],\n",
              "       [50.64884942],\n",
              "       [50.71597873],\n",
              "       [50.77903186],\n",
              "       [50.83770745]])"
            ]
          },
          "metadata": {
            "tags": []
          },
          "execution_count": 108
        }
      ]
    },
    {
      "cell_type": "markdown",
      "metadata": {
        "id": "7y_VN5tkO7Nl",
        "colab_type": "text"
      },
      "source": [
        "these are the predicted values"
      ]
    },
    {
      "cell_type": "markdown",
      "metadata": {
        "id": "Q8AFZhHwPGBI",
        "colab_type": "text"
      },
      "source": [
        "These results are purely arbitrary and i dont think its reliable enough for someone to invest their money. Iam not responsible for anyone using this model for any financial uses."
      ]
    },
    {
      "cell_type": "code",
      "metadata": {
        "id": "tf-dDncyPepY",
        "colab_type": "code",
        "colab": {}
      },
      "source": [
        ""
      ],
      "execution_count": 108,
      "outputs": []
    }
  ]
}
