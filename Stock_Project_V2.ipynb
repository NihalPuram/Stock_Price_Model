{
  "nbformat": 4,
  "nbformat_minor": 0,
  "metadata": {
    "accelerator": "GPU",
    "colab": {
      "name": "Copy of Stock_Project V2.ipynb",
      "provenance": [],
      "toc_visible": true,
      "include_colab_link": true
    },
    "kernelspec": {
      "display_name": "Python 3",
      "language": "python",
      "name": "python3"
    },
    "language_info": {
      "codemirror_mode": {
        "name": "ipython",
        "version": 3
      },
      "file_extension": ".py",
      "mimetype": "text/x-python",
      "name": "python",
      "nbconvert_exporter": "python",
      "pygments_lexer": "ipython3",
      "version": "3.7.9"
    }
  },
  "cells": [
    {
      "cell_type": "markdown",
      "metadata": {
        "id": "view-in-github",
        "colab_type": "text"
      },
      "source": [
        "<a href=\"https://colab.research.google.com/github/NihalPuram/Stock_Price_Model/blob/master/Stock_Project_V2.ipynb\" target=\"_parent\"><img src=\"https://colab.research.google.com/assets/colab-badge.svg\" alt=\"Open In Colab\"/></a>"
      ]
    },
    {
      "cell_type": "markdown",
      "metadata": {
        "id": "zK_PK58THDCs",
        "colab_type": "text"
      },
      "source": [
        "This is a program that uses a artificial reccurant neural network called long short term memory (LSTM) to predict the stock price (ie for example we have the stock price of Coca-cola)"
      ]
    },
    {
      "cell_type": "markdown",
      "metadata": {
        "colab_type": "text",
        "id": "hiDyLOrue_VX"
      },
      "source": [
        "# Gathering Data"
      ]
    },
    {
      "cell_type": "markdown",
      "metadata": {
        "id": "JP-jyhH6H9KJ",
        "colab_type": "text"
      },
      "source": [
        "This is our first step in gathering data. Iam using the tiingo api to download the data. For you to run this, simply login to tiingo's website and enter your api_key. Change the \"stock\" variable to change the stock you are viewing."
      ]
    },
    {
      "cell_type": "code",
      "metadata": {
        "colab_type": "code",
        "id": "zeDLxHEke_VZ",
        "colab": {}
      },
      "source": [
        "import pandas_datareader as pdr"
      ],
      "execution_count": null,
      "outputs": []
    },
    {
      "cell_type": "code",
      "metadata": {
        "id": "UfUsPMEhIWX5",
        "colab_type": "code",
        "colab": {}
      },
      "source": [
        "stock = \"enter your stock ticker\""
      ],
      "execution_count": null,
      "outputs": []
    },
    {
      "cell_type": "code",
      "metadata": {
        "colab_type": "code",
        "id": "UtBpJAgje_Vc",
        "colab": {}
      },
      "source": [
        "df = pdr.get_data_tiingo(stock,api_key='enter your api-key')"
      ],
      "execution_count": null,
      "outputs": []
    },
    {
      "cell_type": "code",
      "metadata": {
        "colab_type": "code",
        "id": "a9UsD7bVe_Vf",
        "colab": {}
      },
      "source": [
        "df.to_csv('DATA.csv')"
      ],
      "execution_count": null,
      "outputs": []
    },
    {
      "cell_type": "code",
      "metadata": {
        "colab_type": "code",
        "id": "0I_CwFURe_Vm",
        "colab": {}
      },
      "source": [
        "import pandas as pd\n",
        "\n",
        "df = pd.read_csv(\"DATA.csv\")"
      ],
      "execution_count": null,
      "outputs": []
    },
    {
      "cell_type": "code",
      "metadata": {
        "colab_type": "code",
        "id": "iZHUhxsxbeTp",
        "colab": {
          "base_uri": "https://localhost:8080/",
          "height": 309
        },
        "outputId": "7d3f17fc-dedf-489b-d08a-c601d6cbea67"
      },
      "source": [
        "df.head()"
      ],
      "execution_count": null,
      "outputs": [
        {
          "output_type": "execute_result",
          "data": {
            "text/html": [
              "<div>\n",
              "<style scoped>\n",
              "    .dataframe tbody tr th:only-of-type {\n",
              "        vertical-align: middle;\n",
              "    }\n",
              "\n",
              "    .dataframe tbody tr th {\n",
              "        vertical-align: top;\n",
              "    }\n",
              "\n",
              "    .dataframe thead th {\n",
              "        text-align: right;\n",
              "    }\n",
              "</style>\n",
              "<table border=\"1\" class=\"dataframe\">\n",
              "  <thead>\n",
              "    <tr style=\"text-align: right;\">\n",
              "      <th></th>\n",
              "      <th>symbol</th>\n",
              "      <th>date</th>\n",
              "      <th>close</th>\n",
              "      <th>high</th>\n",
              "      <th>low</th>\n",
              "      <th>open</th>\n",
              "      <th>volume</th>\n",
              "      <th>adjClose</th>\n",
              "      <th>adjHigh</th>\n",
              "      <th>adjLow</th>\n",
              "      <th>adjOpen</th>\n",
              "      <th>adjVolume</th>\n",
              "      <th>divCash</th>\n",
              "      <th>splitFactor</th>\n",
              "    </tr>\n",
              "  </thead>\n",
              "  <tbody>\n",
              "    <tr>\n",
              "      <th>0</th>\n",
              "      <td>KO</td>\n",
              "      <td>2015-09-11 00:00:00+00:00</td>\n",
              "      <td>38.13</td>\n",
              "      <td>38.19</td>\n",
              "      <td>37.84</td>\n",
              "      <td>38.01</td>\n",
              "      <td>11800440</td>\n",
              "      <td>32.634337</td>\n",
              "      <td>32.685689</td>\n",
              "      <td>32.386134</td>\n",
              "      <td>32.531632</td>\n",
              "      <td>11800440</td>\n",
              "      <td>0.33</td>\n",
              "      <td>1.0</td>\n",
              "    </tr>\n",
              "    <tr>\n",
              "      <th>1</th>\n",
              "      <td>KO</td>\n",
              "      <td>2015-09-14 00:00:00+00:00</td>\n",
              "      <td>38.10</td>\n",
              "      <td>38.22</td>\n",
              "      <td>37.85</td>\n",
              "      <td>38.22</td>\n",
              "      <td>8950014</td>\n",
              "      <td>32.608661</td>\n",
              "      <td>32.711365</td>\n",
              "      <td>32.394693</td>\n",
              "      <td>32.711365</td>\n",
              "      <td>8950014</td>\n",
              "      <td>0.00</td>\n",
              "      <td>1.0</td>\n",
              "    </tr>\n",
              "    <tr>\n",
              "      <th>2</th>\n",
              "      <td>KO</td>\n",
              "      <td>2015-09-15 00:00:00+00:00</td>\n",
              "      <td>38.50</td>\n",
              "      <td>38.63</td>\n",
              "      <td>37.92</td>\n",
              "      <td>38.07</td>\n",
              "      <td>13019802</td>\n",
              "      <td>32.951009</td>\n",
              "      <td>33.062272</td>\n",
              "      <td>32.454604</td>\n",
              "      <td>32.582984</td>\n",
              "      <td>13019802</td>\n",
              "      <td>0.00</td>\n",
              "      <td>1.0</td>\n",
              "    </tr>\n",
              "    <tr>\n",
              "      <th>3</th>\n",
              "      <td>KO</td>\n",
              "      <td>2015-09-16 00:00:00+00:00</td>\n",
              "      <td>39.15</td>\n",
              "      <td>39.19</td>\n",
              "      <td>38.47</td>\n",
              "      <td>38.67</td>\n",
              "      <td>22233131</td>\n",
              "      <td>33.507324</td>\n",
              "      <td>33.541559</td>\n",
              "      <td>32.925333</td>\n",
              "      <td>33.096507</td>\n",
              "      <td>22233131</td>\n",
              "      <td>0.00</td>\n",
              "      <td>1.0</td>\n",
              "    </tr>\n",
              "    <tr>\n",
              "      <th>4</th>\n",
              "      <td>KO</td>\n",
              "      <td>2015-09-17 00:00:00+00:00</td>\n",
              "      <td>39.38</td>\n",
              "      <td>39.61</td>\n",
              "      <td>39.04</td>\n",
              "      <td>39.15</td>\n",
              "      <td>21232475</td>\n",
              "      <td>33.704175</td>\n",
              "      <td>33.901025</td>\n",
              "      <td>33.413179</td>\n",
              "      <td>33.507324</td>\n",
              "      <td>21232475</td>\n",
              "      <td>0.00</td>\n",
              "      <td>1.0</td>\n",
              "    </tr>\n",
              "  </tbody>\n",
              "</table>\n",
              "</div>"
            ],
            "text/plain": [
              "  symbol                       date  close  ...  adjVolume  divCash  splitFactor\n",
              "0     KO  2015-09-11 00:00:00+00:00  38.13  ...   11800440     0.33          1.0\n",
              "1     KO  2015-09-14 00:00:00+00:00  38.10  ...    8950014     0.00          1.0\n",
              "2     KO  2015-09-15 00:00:00+00:00  38.50  ...   13019802     0.00          1.0\n",
              "3     KO  2015-09-16 00:00:00+00:00  39.15  ...   22233131     0.00          1.0\n",
              "4     KO  2015-09-17 00:00:00+00:00  39.38  ...   21232475     0.00          1.0\n",
              "\n",
              "[5 rows x 14 columns]"
            ]
          },
          "metadata": {
            "tags": []
          },
          "execution_count": 89
        }
      ]
    },
    {
      "cell_type": "code",
      "metadata": {
        "colab_type": "code",
        "id": "K7tONomke_Vt",
        "colab": {}
      },
      "source": [
        "df1=df.reset_index()['close']"
      ],
      "execution_count": null,
      "outputs": []
    },
    {
      "cell_type": "code",
      "metadata": {
        "colab_type": "code",
        "id": "c3Qt5U1DbkN-",
        "colab": {
          "base_uri": "https://localhost:8080/",
          "height": 119
        },
        "outputId": "8863fc79-5c34-4584-f987-b3bf65872ecc"
      },
      "source": [
        "df1.head()"
      ],
      "execution_count": null,
      "outputs": [
        {
          "output_type": "execute_result",
          "data": {
            "text/plain": [
              "0    38.13\n",
              "1    38.10\n",
              "2    38.50\n",
              "3    39.15\n",
              "4    39.38\n",
              "Name: close, dtype: float64"
            ]
          },
          "metadata": {
            "tags": []
          },
          "execution_count": 91
        }
      ]
    },
    {
      "cell_type": "code",
      "metadata": {
        "colab_type": "code",
        "id": "RHbbxTMwe_Vv",
        "colab": {
          "base_uri": "https://localhost:8080/",
          "height": 282
        },
        "outputId": "6ffa754f-5048-4c34-ea84-e61ad3bca615"
      },
      "source": [
        "import matplotlib.pyplot as plt\n",
        "plt.plot(df1)"
      ],
      "execution_count": null,
      "outputs": [
        {
          "output_type": "execute_result",
          "data": {
            "text/plain": [
              "[<matplotlib.lines.Line2D at 0x7fe239288630>]"
            ]
          },
          "metadata": {
            "tags": []
          },
          "execution_count": 92
        },
        {
          "output_type": "display_data",
          "data": {
            "image/png": "[encoded data removed]",
            "text/plain": [
              "<Figure size 432x288 with 1 Axes>"
            ]
          },
          "metadata": {
            "tags": [],
            "needs_background": "light"
          }
        }
      ]
    },
    {
      "cell_type": "code",
      "metadata": {
        "colab_type": "code",
        "id": "VUCVhUy4e_Vz",
        "colab": {}
      },
      "source": [
        "from sklearn.preprocessing import MinMaxScaler\n",
        "import numpy as np\n",
        "scaler = MinMaxScaler(feature_range=(0,1))\n",
        "df1=scaler.fit_transform(np.array(df1).reshape(-1,1))"
      ],
      "execution_count": null,
      "outputs": []
    },
    {
      "cell_type": "code",
      "metadata": {
        "colab_type": "code",
        "id": "yniG723We_V2",
        "colab": {
          "base_uri": "https://localhost:8080/",
          "height": 34
        },
        "outputId": "3b51f4f0-0575-40d7-9143-18e9510d2bc0"
      },
      "source": [
        "df1.shape"
      ],
      "execution_count": null,
      "outputs": [
        {
          "output_type": "execute_result",
          "data": {
            "text/plain": [
              "(1257, 1)"
            ]
          },
          "metadata": {
            "tags": []
          },
          "execution_count": 94
        }
      ]
    },
    {
      "cell_type": "code",
      "metadata": {
        "colab_type": "code",
        "id": "73Z9-vOKe_V6",
        "scrolled": true,
        "colab": {
          "base_uri": "https://localhost:8080/",
          "height": 136
        },
        "outputId": "eb9b7508-593a-4e49-ebe3-416b2f0ae5b1"
      },
      "source": [
        "df1"
      ],
      "execution_count": null,
      "outputs": [
        {
          "output_type": "execute_result",
          "data": {
            "text/plain": [
              "array([[0.02525476],\n",
              "       [0.02392556],\n",
              "       [0.04164821],\n",
              "       ...,\n",
              "       [0.57244129],\n",
              "       [0.59725299],\n",
              "       [0.54275587]])"
            ]
          },
          "metadata": {
            "tags": []
          },
          "execution_count": 95
        }
      ]
    },
    {
      "cell_type": "markdown",
      "metadata": {
        "colab_type": "text",
        "id": "PhzRYawwe_V8"
      },
      "source": [
        "# Train-Test split"
      ]
    },
    {
      "cell_type": "markdown",
      "metadata": {
        "id": "CqkSpCMHJCC-",
        "colab_type": "text"
      },
      "source": [
        "Here we are spliting the data to a train and test set for initial training and validation. For the final model we will retrain using the complete dataset."
      ]
    },
    {
      "cell_type": "code",
      "metadata": {
        "colab_type": "code",
        "id": "9vbe_QRwe_V9",
        "colab": {}
      },
      "source": [
        "split_size = 0.80\n",
        "train_size = int(len(df1)*split_size)\n",
        "train_data,test_data = df1[0:train_size,:],df1[train_size:,:1]"
      ],
      "execution_count": null,
      "outputs": []
    },
    {
      "cell_type": "code",
      "metadata": {
        "colab_type": "code",
        "id": "nLFbSnF_e_WA",
        "colab": {
          "base_uri": "https://localhost:8080/",
          "height": 34
        },
        "outputId": "b66974f2-6562-4924-cdd4-b665d2851e11"
      },
      "source": [
        "len(test_data)"
      ],
      "execution_count": null,
      "outputs": [
        {
          "output_type": "execute_result",
          "data": {
            "text/plain": [
              "252"
            ]
          },
          "metadata": {
            "tags": []
          },
          "execution_count": 97
        }
      ]
    },
    {
      "cell_type": "code",
      "metadata": {
        "colab_type": "code",
        "id": "g4k1MX4qe_WC",
        "colab": {
          "base_uri": "https://localhost:8080/",
          "height": 34
        },
        "outputId": "3693d351-d24d-4280-fff6-460fd46c58d1"
      },
      "source": [
        "len(train_data)"
      ],
      "execution_count": null,
      "outputs": [
        {
          "output_type": "execute_result",
          "data": {
            "text/plain": [
              "1005"
            ]
          },
          "metadata": {
            "tags": []
          },
          "execution_count": 98
        }
      ]
    },
    {
      "cell_type": "markdown",
      "metadata": {
        "id": "A7ARRh3EJU-C",
        "colab_type": "text"
      },
      "source": [
        "this function creates the dataset that contains the set previous values of the stock for a brief period of time. This allows the model to have a 'memory' of that particular time frame"
      ]
    },
    {
      "cell_type": "code",
      "metadata": {
        "colab_type": "code",
        "id": "Ihr0-B-ee_WF",
        "colab": {}
      },
      "source": [
        "def create_dataset(dataset,time_step=1):\n",
        "    dataX,dataY = [],[]\n",
        "    for i in range(len(dataset)-time_step-1):\n",
        "        a = dataset[i:(i+time_step),0]\n",
        "        dataX.append(a)\n",
        "        dataY.append(dataset[i+time_step,0])\n",
        "    return np.array(dataX),np.array(dataY)"
      ],
      "execution_count": null,
      "outputs": []
    },
    {
      "cell_type": "code",
      "metadata": {
        "colab_type": "code",
        "id": "qV3kFFKme_WH",
        "colab": {}
      },
      "source": [
        "time_step = 100\n",
        "X_train,y_train = create_dataset(train_data,time_step)\n",
        "X_test,y_test = create_dataset(test_data,time_step)"
      ],
      "execution_count": null,
      "outputs": []
    },
    {
      "cell_type": "code",
      "metadata": {
        "colab_type": "code",
        "id": "GYa0jnUxe_WL",
        "colab": {
          "base_uri": "https://localhost:8080/",
          "height": 238
        },
        "outputId": "9473595d-d6f2-4290-d3b9-31db7179c6e2"
      },
      "source": [
        "X_train"
      ],
      "execution_count": null,
      "outputs": [
        {
          "output_type": "execute_result",
          "data": {
            "text/plain": [
              "array([[0.02525476, 0.02392556, 0.04164821, ..., 0.24102791, 0.21621622,\n",
              "        0.22862206],\n",
              "       [0.02392556, 0.04164821, 0.0704475 , ..., 0.21621622, 0.22862206,\n",
              "        0.22020381],\n",
              "       [0.04164821, 0.0704475 , 0.08063802, ..., 0.22862206, 0.22020381,\n",
              "        0.21621622],\n",
              "       ...,\n",
              "       [0.40540541, 0.4067346 , 0.41825432, ..., 0.77492246, 0.7744794 ,\n",
              "        0.78599911],\n",
              "       [0.4067346 , 0.41825432, 0.41603899, ..., 0.7744794 , 0.78599911,\n",
              "        0.80682322],\n",
              "       [0.41825432, 0.41603899, 0.43066017, ..., 0.78599911, 0.80682322,\n",
              "        0.77802393]])"
            ]
          },
          "metadata": {
            "tags": []
          },
          "execution_count": 101
        }
      ]
    },
    {
      "cell_type": "code",
      "metadata": {
        "colab_type": "code",
        "id": "1fvkpckRe_WN",
        "colab": {
          "base_uri": "https://localhost:8080/",
          "height": 51
        },
        "outputId": "b238238e-092a-449b-ad33-1dd670e09764"
      },
      "source": [
        "print(y_train.shape)\n",
        "print(X_train.shape)"
      ],
      "execution_count": null,
      "outputs": [
        {
          "output_type": "stream",
          "text": [
            "(904,)\n",
            "(904, 100)\n"
          ],
          "name": "stdout"
        }
      ]
    },
    {
      "cell_type": "markdown",
      "metadata": {
        "id": "cJ5Mg3ScJqlT",
        "colab_type": "text"
      },
      "source": [
        "The next cell reshapes the data to a 3 dimensions, LSTM's require this."
      ]
    },
    {
      "cell_type": "code",
      "metadata": {
        "colab_type": "code",
        "id": "4vY8y04ge_WQ",
        "colab": {}
      },
      "source": [
        "#reshape data to be [sample,time_ steps,features] ie 3 dimensions\n",
        "X_train = X_train.reshape(X_train.shape[0],X_train.shape[1],1)\n",
        "X_test = X_test.reshape(X_test.shape[0],X_test.shape[1],1)"
      ],
      "execution_count": null,
      "outputs": []
    },
    {
      "cell_type": "markdown",
      "metadata": {
        "colab_type": "text",
        "id": "cwxQiRU3e_WS"
      },
      "source": [
        "# Create LSTM Model"
      ]
    },
    {
      "cell_type": "code",
      "metadata": {
        "colab_type": "code",
        "id": "gSjQ7LDoe_WT",
        "colab": {}
      },
      "source": [
        "from tensorflow.keras.models import Sequential\n",
        "from tensorflow.keras.layers import Dense,LSTM,Bidirectional,Dropout\n",
        "model = Sequential()\n",
        "model.add(Bidirectional(LSTM(50,return_sequences = True), input_shape = (time_step,1)))\n",
        "model.add(LSTM(50,return_sequences = True))\n",
        "model.add(LSTM(50))\n",
        "model.add(Dense(512,activation='relu'))\n",
        "model.add(Dropout(0.5))\n",
        "model.add(Dense(256,activation='relu'))\n",
        "model.add(Dropout(0.5))\n",
        "model.add(Dense(1,activation='sigmoid'))\n",
        "\n",
        "model.compile(loss='mean_squared_error',optimizer='adam')"
      ],
      "execution_count": null,
      "outputs": []
    },
    {
      "cell_type": "code",
      "metadata": {
        "colab_type": "code",
        "id": "Q7TYN3Nje_WW",
        "colab": {
          "base_uri": "https://localhost:8080/",
          "height": 425
        },
        "outputId": "0d62e88f-83c4-4e00-9662-e90ab6b2034e"
      },
      "source": [
        "model.summary()"
      ],
      "execution_count": null,
      "outputs": [
        {
          "output_type": "stream",
          "text": [
            "Model: \"sequential_2\"\n",
            "_________________________________________________________________\n",
            "Layer (type)                 Output Shape              Param #   \n",
            "=================================================================\n",
            "bidirectional_2 (Bidirection (None, 100, 100)          20800     \n",
            "_________________________________________________________________\n",
            "lstm_7 (LSTM)                (None, 100, 50)           30200     \n",
            "_________________________________________________________________\n",
            "lstm_8 (LSTM)                (None, 50)                20200     \n",
            "_________________________________________________________________\n",
            "dense_6 (Dense)              (None, 512)               26112     \n",
            "_________________________________________________________________\n",
            "dropout_4 (Dropout)          (None, 512)               0         \n",
            "_________________________________________________________________\n",
            "dense_7 (Dense)              (None, 256)               131328    \n",
            "_________________________________________________________________\n",
            "dropout_5 (Dropout)          (None, 256)               0         \n",
            "_________________________________________________________________\n",
            "dense_8 (Dense)              (None, 1)                 257       \n",
            "=================================================================\n",
            "Total params: 228,897\n",
            "Trainable params: 228,897\n",
            "Non-trainable params: 0\n",
            "_________________________________________________________________\n"
          ],
          "name": "stdout"
        }
      ]
    },
    {
      "cell_type": "code",
      "metadata": {
        "colab_type": "code",
        "id": "_EJQgPDJe_WY",
        "colab": {
          "base_uri": "https://localhost:8080/",
          "height": 1000
        },
        "outputId": "1325d0ae-8a91-404c-f3cd-d1ab7398c88d"
      },
      "source": [
        "model.fit(X_train,y_train,validation_data=(X_test,y_test),epochs=100,batch_size=64,verbose=2)"
      ],
      "execution_count": null,
      "outputs": [
        {
          "output_type": "stream",
          "text": [
            "Epoch 1/100\n",
            "15/15 - 3s - loss: 0.0286 - val_loss: 0.0562\n",
            "Epoch 2/100\n",
            "15/15 - 1s - loss: 0.0184 - val_loss: 0.0521\n",
            "Epoch 3/100\n",
            "15/15 - 1s - loss: 0.0079 - val_loss: 0.0267\n",
            "Epoch 4/100\n",
            "15/15 - 1s - loss: 0.0028 - val_loss: 0.0235\n",
            "Epoch 5/100\n",
            "15/15 - 1s - loss: 0.0032 - val_loss: 0.0189\n",
            "Epoch 6/100\n",
            "15/15 - 1s - loss: 0.0023 - val_loss: 0.0178\n",
            "Epoch 7/100\n",
            "15/15 - 1s - loss: 0.0020 - val_loss: 0.0163\n",
            "Epoch 8/100\n",
            "15/15 - 1s - loss: 0.0020 - val_loss: 0.0145\n",
            "Epoch 9/100\n",
            "15/15 - 1s - loss: 0.0019 - val_loss: 0.0129\n",
            "Epoch 10/100\n",
            "15/15 - 1s - loss: 0.0018 - val_loss: 0.0134\n",
            "Epoch 11/100\n",
            "15/15 - 1s - loss: 0.0018 - val_loss: 0.0121\n",
            "Epoch 12/100\n",
            "15/15 - 1s - loss: 0.0019 - val_loss: 0.0119\n",
            "Epoch 13/100\n",
            "15/15 - 1s - loss: 0.0016 - val_loss: 0.0107\n",
            "Epoch 14/100\n",
            "15/15 - 1s - loss: 0.0013 - val_loss: 0.0099\n",
            "Epoch 15/100\n",
            "15/15 - 1s - loss: 0.0014 - val_loss: 0.0092\n",
            "Epoch 16/100\n",
            "15/15 - 1s - loss: 0.0013 - val_loss: 0.0092\n",
            "Epoch 17/100\n",
            "15/15 - 1s - loss: 0.0013 - val_loss: 0.0087\n",
            "Epoch 18/100\n",
            "15/15 - 1s - loss: 0.0013 - val_loss: 0.0089\n",
            "Epoch 19/100\n",
            "15/15 - 1s - loss: 0.0012 - val_loss: 0.0102\n",
            "Epoch 20/100\n",
            "15/15 - 1s - loss: 0.0014 - val_loss: 0.0098\n",
            "Epoch 21/100\n",
            "15/15 - 1s - loss: 0.0017 - val_loss: 0.0085\n",
            "Epoch 22/100\n",
            "15/15 - 1s - loss: 0.0013 - val_loss: 0.0086\n",
            "Epoch 23/100\n",
            "15/15 - 1s - loss: 0.0011 - val_loss: 0.0082\n",
            "Epoch 24/100\n",
            "15/15 - 1s - loss: 0.0011 - val_loss: 0.0078\n",
            "Epoch 25/100\n",
            "15/15 - 1s - loss: 0.0012 - val_loss: 0.0077\n",
            "Epoch 26/100\n",
            "15/15 - 1s - loss: 0.0011 - val_loss: 0.0075\n",
            "Epoch 27/100\n",
            "15/15 - 1s - loss: 0.0011 - val_loss: 0.0070\n",
            "Epoch 28/100\n",
            "15/15 - 1s - loss: 0.0011 - val_loss: 0.0068\n",
            "Epoch 29/100\n",
            "15/15 - 1s - loss: 0.0011 - val_loss: 0.0069\n",
            "Epoch 30/100\n",
            "15/15 - 1s - loss: 0.0010 - val_loss: 0.0074\n",
            "Epoch 31/100\n",
            "15/15 - 1s - loss: 0.0011 - val_loss: 0.0073\n",
            "Epoch 32/100\n",
            "15/15 - 1s - loss: 0.0011 - val_loss: 0.0066\n",
            "Epoch 33/100\n",
            "15/15 - 1s - loss: 0.0010 - val_loss: 0.0072\n",
            "Epoch 34/100\n",
            "15/15 - 1s - loss: 0.0012 - val_loss: 0.0069\n",
            "Epoch 35/100\n",
            "15/15 - 1s - loss: 0.0011 - val_loss: 0.0065\n",
            "Epoch 36/100\n",
            "15/15 - 1s - loss: 9.5332e-04 - val_loss: 0.0071\n",
            "Epoch 37/100\n",
            "15/15 - 1s - loss: 0.0012 - val_loss: 0.0075\n",
            "Epoch 38/100\n",
            "15/15 - 1s - loss: 0.0011 - val_loss: 0.0064\n",
            "Epoch 39/100\n",
            "15/15 - 1s - loss: 9.4887e-04 - val_loss: 0.0057\n",
            "Epoch 40/100\n",
            "15/15 - 1s - loss: 0.0012 - val_loss: 0.0055\n",
            "Epoch 41/100\n",
            "15/15 - 1s - loss: 0.0011 - val_loss: 0.0058\n",
            "Epoch 42/100\n",
            "15/15 - 1s - loss: 9.9271e-04 - val_loss: 0.0057\n",
            "Epoch 43/100\n",
            "15/15 - 1s - loss: 0.0010 - val_loss: 0.0056\n",
            "Epoch 44/100\n",
            "15/15 - 1s - loss: 8.8470e-04 - val_loss: 0.0052\n",
            "Epoch 45/100\n",
            "15/15 - 1s - loss: 9.5954e-04 - val_loss: 0.0055\n",
            "Epoch 46/100\n",
            "15/15 - 1s - loss: 9.4380e-04 - val_loss: 0.0052\n",
            "Epoch 47/100\n",
            "15/15 - 1s - loss: 9.1926e-04 - val_loss: 0.0052\n",
            "Epoch 48/100\n",
            "15/15 - 1s - loss: 9.5249e-04 - val_loss: 0.0053\n",
            "Epoch 49/100\n",
            "15/15 - 1s - loss: 9.8920e-04 - val_loss: 0.0053\n",
            "Epoch 50/100\n",
            "15/15 - 1s - loss: 8.7894e-04 - val_loss: 0.0051\n",
            "Epoch 51/100\n",
            "15/15 - 1s - loss: 8.6892e-04 - val_loss: 0.0053\n",
            "Epoch 52/100\n",
            "15/15 - 1s - loss: 9.4620e-04 - val_loss: 0.0052\n",
            "Epoch 53/100\n",
            "15/15 - 1s - loss: 8.4961e-04 - val_loss: 0.0053\n",
            "Epoch 54/100\n",
            "15/15 - 1s - loss: 8.9797e-04 - val_loss: 0.0051\n",
            "Epoch 55/100\n",
            "15/15 - 1s - loss: 8.6425e-04 - val_loss: 0.0051\n",
            "Epoch 56/100\n",
            "15/15 - 1s - loss: 9.4970e-04 - val_loss: 0.0053\n",
            "Epoch 57/100\n",
            "15/15 - 1s - loss: 8.7384e-04 - val_loss: 0.0052\n",
            "Epoch 58/100\n",
            "15/15 - 1s - loss: 9.2864e-04 - val_loss: 0.0051\n",
            "Epoch 59/100\n",
            "15/15 - 1s - loss: 8.3801e-04 - val_loss: 0.0051\n",
            "Epoch 60/100\n",
            "15/15 - 1s - loss: 8.5993e-04 - val_loss: 0.0052\n",
            "Epoch 61/100\n",
            "15/15 - 1s - loss: 8.2268e-04 - val_loss: 0.0052\n",
            "Epoch 62/100\n",
            "15/15 - 1s - loss: 8.4777e-04 - val_loss: 0.0052\n",
            "Epoch 63/100\n",
            "15/15 - 1s - loss: 8.8676e-04 - val_loss: 0.0051\n",
            "Epoch 64/100\n",
            "15/15 - 1s - loss: 8.4650e-04 - val_loss: 0.0050\n",
            "Epoch 65/100\n",
            "15/15 - 1s - loss: 0.0011 - val_loss: 0.0056\n",
            "Epoch 66/100\n",
            "15/15 - 1s - loss: 0.0010 - val_loss: 0.0058\n",
            "Epoch 67/100\n",
            "15/15 - 1s - loss: 9.3221e-04 - val_loss: 0.0057\n",
            "Epoch 68/100\n",
            "15/15 - 1s - loss: 8.9141e-04 - val_loss: 0.0053\n",
            "Epoch 69/100\n",
            "15/15 - 1s - loss: 8.7825e-04 - val_loss: 0.0053\n",
            "Epoch 70/100\n",
            "15/15 - 1s - loss: 8.6986e-04 - val_loss: 0.0056\n",
            "Epoch 71/100\n",
            "15/15 - 1s - loss: 9.9792e-04 - val_loss: 0.0053\n",
            "Epoch 72/100\n",
            "15/15 - 1s - loss: 7.9709e-04 - val_loss: 0.0054\n",
            "Epoch 73/100\n",
            "15/15 - 1s - loss: 8.9273e-04 - val_loss: 0.0051\n",
            "Epoch 74/100\n",
            "15/15 - 1s - loss: 9.7285e-04 - val_loss: 0.0056\n",
            "Epoch 75/100\n",
            "15/15 - 1s - loss: 9.8160e-04 - val_loss: 0.0053\n",
            "Epoch 76/100\n",
            "15/15 - 1s - loss: 0.0010 - val_loss: 0.0058\n",
            "Epoch 77/100\n",
            "15/15 - 1s - loss: 8.6784e-04 - val_loss: 0.0063\n",
            "Epoch 78/100\n",
            "15/15 - 1s - loss: 0.0011 - val_loss: 0.0056\n",
            "Epoch 79/100\n",
            "15/15 - 1s - loss: 9.0811e-04 - val_loss: 0.0054\n",
            "Epoch 80/100\n",
            "15/15 - 1s - loss: 8.4211e-04 - val_loss: 0.0052\n",
            "Epoch 81/100\n",
            "15/15 - 1s - loss: 8.7373e-04 - val_loss: 0.0054\n",
            "Epoch 82/100\n",
            "15/15 - 1s - loss: 8.9737e-04 - val_loss: 0.0052\n",
            "Epoch 83/100\n",
            "15/15 - 1s - loss: 8.4198e-04 - val_loss: 0.0051\n",
            "Epoch 84/100\n",
            "15/15 - 1s - loss: 8.3901e-04 - val_loss: 0.0051\n",
            "Epoch 85/100\n",
            "15/15 - 1s - loss: 8.3733e-04 - val_loss: 0.0051\n",
            "Epoch 86/100\n",
            "15/15 - 1s - loss: 8.2722e-04 - val_loss: 0.0050\n",
            "Epoch 87/100\n",
            "15/15 - 1s - loss: 8.5236e-04 - val_loss: 0.0053\n",
            "Epoch 88/100\n",
            "15/15 - 1s - loss: 8.7596e-04 - val_loss: 0.0051\n",
            "Epoch 89/100\n",
            "15/15 - 1s - loss: 7.8460e-04 - val_loss: 0.0050\n",
            "Epoch 90/100\n",
            "15/15 - 1s - loss: 7.7753e-04 - val_loss: 0.0050\n",
            "Epoch 91/100\n",
            "15/15 - 1s - loss: 7.7845e-04 - val_loss: 0.0064\n",
            "Epoch 92/100\n",
            "15/15 - 1s - loss: 8.7595e-04 - val_loss: 0.0049\n",
            "Epoch 93/100\n",
            "15/15 - 1s - loss: 9.1759e-04 - val_loss: 0.0050\n",
            "Epoch 94/100\n",
            "15/15 - 1s - loss: 8.1766e-04 - val_loss: 0.0048\n",
            "Epoch 95/100\n",
            "15/15 - 1s - loss: 7.7271e-04 - val_loss: 0.0048\n",
            "Epoch 96/100\n",
            "15/15 - 1s - loss: 0.0011 - val_loss: 0.0050\n",
            "Epoch 97/100\n",
            "15/15 - 1s - loss: 8.4929e-04 - val_loss: 0.0052\n",
            "Epoch 98/100\n",
            "15/15 - 1s - loss: 7.8961e-04 - val_loss: 0.0051\n",
            "Epoch 99/100\n",
            "15/15 - 1s - loss: 8.0284e-04 - val_loss: 0.0049\n",
            "Epoch 100/100\n",
            "15/15 - 1s - loss: 7.6492e-04 - val_loss: 0.0047\n"
          ],
          "name": "stdout"
        },
        {
          "output_type": "execute_result",
          "data": {
            "text/plain": [
              "<tensorflow.python.keras.callbacks.History at 0x7fe238ee9208>"
            ]
          },
          "metadata": {
            "tags": []
          },
          "execution_count": 106
        }
      ]
    },
    {
      "cell_type": "code",
      "metadata": {
        "colab_type": "code",
        "id": "Tc0bACRmngVt",
        "colab": {}
      },
      "source": [
        "final_train,final_test = create_dataset(df1,100)"
      ],
      "execution_count": null,
      "outputs": []
    },
    {
      "cell_type": "code",
      "metadata": {
        "colab_type": "code",
        "id": "LoCbM0Iqnz_x",
        "colab": {}
      },
      "source": [
        "#reshape\n",
        "final_train = final_train.reshape(final_train.shape[0],final_train.shape[1],1)"
      ],
      "execution_count": null,
      "outputs": []
    },
    {
      "cell_type": "code",
      "metadata": {
        "colab_type": "code",
        "id": "UK-7ypKanoap",
        "colab": {
          "base_uri": "https://localhost:8080/",
          "height": 1000
        },
        "outputId": "cd2eb43d-c12c-4118-daf8-428a5c25f6c4"
      },
      "source": [
        "model.fit(final_train,final_test,epochs=100,batch_size=64,verbose=2)"
      ],
      "execution_count": null,
      "outputs": [
        {
          "output_type": "stream",
          "text": [
            "Epoch 1/100\n",
            "19/19 - 2s - loss: 0.0015\n",
            "Epoch 2/100\n",
            "19/19 - 2s - loss: 0.0019\n",
            "Epoch 3/100\n",
            "19/19 - 2s - loss: 0.0014\n",
            "Epoch 4/100\n",
            "19/19 - 2s - loss: 0.0016\n",
            "Epoch 5/100\n",
            "19/19 - 2s - loss: 0.0015\n",
            "Epoch 6/100\n",
            "19/19 - 2s - loss: 0.0014\n",
            "Epoch 7/100\n",
            "19/19 - 2s - loss: 0.0023\n",
            "Epoch 8/100\n",
            "19/19 - 2s - loss: 0.0015\n",
            "Epoch 9/100\n",
            "19/19 - 2s - loss: 0.0014\n",
            "Epoch 10/100\n",
            "19/19 - 2s - loss: 0.0014\n",
            "Epoch 11/100\n",
            "19/19 - 2s - loss: 0.0014\n",
            "Epoch 12/100\n",
            "19/19 - 2s - loss: 0.0013\n",
            "Epoch 13/100\n",
            "19/19 - 2s - loss: 0.0014\n",
            "Epoch 14/100\n",
            "19/19 - 2s - loss: 0.0014\n",
            "Epoch 15/100\n",
            "19/19 - 2s - loss: 0.0014\n",
            "Epoch 16/100\n",
            "19/19 - 2s - loss: 0.0015\n",
            "Epoch 17/100\n",
            "19/19 - 2s - loss: 0.0016\n",
            "Epoch 18/100\n",
            "19/19 - 2s - loss: 0.0014\n",
            "Epoch 19/100\n",
            "19/19 - 2s - loss: 0.0014\n",
            "Epoch 20/100\n",
            "19/19 - 2s - loss: 0.0013\n",
            "Epoch 21/100\n",
            "19/19 - 2s - loss: 0.0013\n",
            "Epoch 22/100\n",
            "19/19 - 2s - loss: 0.0014\n",
            "Epoch 23/100\n",
            "19/19 - 2s - loss: 0.0015\n",
            "Epoch 24/100\n",
            "19/19 - 2s - loss: 0.0022\n",
            "Epoch 25/100\n",
            "19/19 - 2s - loss: 0.0016\n",
            "Epoch 26/100\n",
            "19/19 - 2s - loss: 0.0013\n",
            "Epoch 27/100\n",
            "19/19 - 2s - loss: 0.0017\n",
            "Epoch 28/100\n",
            "19/19 - 2s - loss: 0.0015\n",
            "Epoch 29/100\n",
            "19/19 - 2s - loss: 0.0014\n",
            "Epoch 30/100\n",
            "19/19 - 2s - loss: 0.0013\n",
            "Epoch 31/100\n",
            "19/19 - 2s - loss: 0.0014\n",
            "Epoch 32/100\n",
            "19/19 - 2s - loss: 0.0014\n",
            "Epoch 33/100\n",
            "19/19 - 2s - loss: 0.0013\n",
            "Epoch 34/100\n",
            "19/19 - 2s - loss: 0.0012\n",
            "Epoch 35/100\n",
            "19/19 - 2s - loss: 0.0016\n",
            "Epoch 36/100\n",
            "19/19 - 2s - loss: 0.0013\n",
            "Epoch 37/100\n",
            "19/19 - 2s - loss: 0.0012\n",
            "Epoch 38/100\n",
            "19/19 - 2s - loss: 0.0014\n",
            "Epoch 39/100\n",
            "19/19 - 2s - loss: 0.0014\n",
            "Epoch 40/100\n",
            "19/19 - 2s - loss: 0.0013\n",
            "Epoch 41/100\n",
            "19/19 - 2s - loss: 0.0013\n",
            "Epoch 42/100\n",
            "19/19 - 2s - loss: 0.0015\n",
            "Epoch 43/100\n",
            "19/19 - 2s - loss: 0.0013\n",
            "Epoch 44/100\n",
            "19/19 - 2s - loss: 0.0014\n",
            "Epoch 45/100\n",
            "19/19 - 2s - loss: 0.0013\n",
            "Epoch 46/100\n",
            "19/19 - 2s - loss: 0.0013\n",
            "Epoch 47/100\n",
            "19/19 - 2s - loss: 0.0013\n",
            "Epoch 48/100\n",
            "19/19 - 2s - loss: 0.0013\n",
            "Epoch 49/100\n",
            "19/19 - 2s - loss: 0.0013\n",
            "Epoch 50/100\n",
            "19/19 - 2s - loss: 0.0013\n",
            "Epoch 51/100\n",
            "19/19 - 2s - loss: 0.0012\n",
            "Epoch 52/100\n",
            "19/19 - 2s - loss: 0.0012\n",
            "Epoch 53/100\n",
            "19/19 - 2s - loss: 0.0012\n",
            "Epoch 54/100\n",
            "19/19 - 2s - loss: 0.0012\n",
            "Epoch 55/100\n",
            "19/19 - 2s - loss: 0.0012\n",
            "Epoch 56/100\n",
            "19/19 - 2s - loss: 0.0013\n",
            "Epoch 57/100\n",
            "19/19 - 2s - loss: 0.0012\n",
            "Epoch 58/100\n",
            "19/19 - 2s - loss: 0.0012\n",
            "Epoch 59/100\n",
            "19/19 - 2s - loss: 0.0012\n",
            "Epoch 60/100\n",
            "19/19 - 2s - loss: 0.0012\n",
            "Epoch 61/100\n",
            "19/19 - 2s - loss: 0.0014\n",
            "Epoch 62/100\n",
            "19/19 - 2s - loss: 0.0012\n",
            "Epoch 63/100\n",
            "19/19 - 2s - loss: 0.0011\n",
            "Epoch 64/100\n",
            "19/19 - 2s - loss: 0.0011\n",
            "Epoch 65/100\n",
            "19/19 - 2s - loss: 0.0015\n",
            "Epoch 66/100\n",
            "19/19 - 2s - loss: 0.0014\n",
            "Epoch 67/100\n",
            "19/19 - 2s - loss: 0.0013\n",
            "Epoch 68/100\n",
            "19/19 - 2s - loss: 0.0012\n",
            "Epoch 69/100\n",
            "19/19 - 2s - loss: 0.0021\n",
            "Epoch 70/100\n",
            "19/19 - 2s - loss: 0.0014\n",
            "Epoch 71/100\n",
            "19/19 - 2s - loss: 0.0013\n",
            "Epoch 72/100\n",
            "19/19 - 2s - loss: 0.0013\n",
            "Epoch 73/100\n",
            "19/19 - 2s - loss: 0.0012\n",
            "Epoch 74/100\n",
            "19/19 - 2s - loss: 0.0013\n",
            "Epoch 75/100\n",
            "19/19 - 2s - loss: 0.0012\n",
            "Epoch 76/100\n",
            "19/19 - 2s - loss: 0.0011\n",
            "Epoch 77/100\n",
            "19/19 - 2s - loss: 0.0012\n",
            "Epoch 78/100\n",
            "19/19 - 2s - loss: 0.0013\n",
            "Epoch 79/100\n",
            "19/19 - 2s - loss: 0.0012\n",
            "Epoch 80/100\n",
            "19/19 - 2s - loss: 0.0013\n",
            "Epoch 81/100\n",
            "19/19 - 2s - loss: 0.0012\n",
            "Epoch 82/100\n",
            "19/19 - 2s - loss: 0.0013\n",
            "Epoch 83/100\n",
            "19/19 - 2s - loss: 0.0012\n",
            "Epoch 84/100\n",
            "19/19 - 2s - loss: 0.0012\n",
            "Epoch 85/100\n",
            "19/19 - 2s - loss: 0.0011\n",
            "Epoch 86/100\n",
            "19/19 - 2s - loss: 0.0012\n",
            "Epoch 87/100\n",
            "19/19 - 2s - loss: 0.0012\n",
            "Epoch 88/100\n",
            "19/19 - 2s - loss: 0.0013\n",
            "Epoch 89/100\n",
            "19/19 - 2s - loss: 0.0011\n",
            "Epoch 90/100\n",
            "19/19 - 2s - loss: 0.0012\n",
            "Epoch 91/100\n",
            "19/19 - 2s - loss: 0.0011\n",
            "Epoch 92/100\n",
            "19/19 - 2s - loss: 0.0011\n",
            "Epoch 93/100\n",
            "19/19 - 2s - loss: 0.0013\n",
            "Epoch 94/100\n",
            "19/19 - 2s - loss: 0.0014\n",
            "Epoch 95/100\n",
            "19/19 - 2s - loss: 0.0011\n",
            "Epoch 96/100\n",
            "19/19 - 2s - loss: 0.0011\n",
            "Epoch 97/100\n",
            "19/19 - 2s - loss: 0.0011\n",
            "Epoch 98/100\n",
            "19/19 - 2s - loss: 0.0011\n",
            "Epoch 99/100\n",
            "19/19 - 2s - loss: 0.0012\n",
            "Epoch 100/100\n",
            "19/19 - 2s - loss: 0.0012\n"
          ],
          "name": "stdout"
        },
        {
          "output_type": "execute_result",
          "data": {
            "text/plain": [
              "<tensorflow.python.keras.callbacks.History at 0x7fe2357fb630>"
            ]
          },
          "metadata": {
            "tags": []
          },
          "execution_count": 109
        }
      ]
    },
    {
      "cell_type": "markdown",
      "metadata": {
        "colab_type": "text",
        "id": "FVMGQo1de_Wb"
      },
      "source": [
        "# Predict the plot outcome"
      ]
    },
    {
      "cell_type": "code",
      "metadata": {
        "colab_type": "code",
        "id": "Hyvjfjuue_Wb",
        "colab": {}
      },
      "source": [
        "train_predict = model.predict(X_train)\n",
        "test_predict = model.predict(X_test)"
      ],
      "execution_count": null,
      "outputs": []
    },
    {
      "cell_type": "code",
      "metadata": {
        "colab_type": "code",
        "id": "zH2k0qv4e_We",
        "colab": {
          "base_uri": "https://localhost:8080/",
          "height": 34
        },
        "outputId": "6e8bf5eb-004e-4645-c11c-b06e3e15c1d1"
      },
      "source": [
        "from sklearn.metrics import mean_squared_error\n",
        "np.sqrt(mean_squared_error(y_train,train_predict))"
      ],
      "execution_count": null,
      "outputs": [
        {
          "output_type": "execute_result",
          "data": {
            "text/plain": [
              "0.02065518123990545"
            ]
          },
          "metadata": {
            "tags": []
          },
          "execution_count": 111
        }
      ]
    },
    {
      "cell_type": "code",
      "metadata": {
        "colab_type": "code",
        "id": "PUGqHP9xe_Wh",
        "colab": {
          "base_uri": "https://localhost:8080/",
          "height": 34
        },
        "outputId": "d2fdf3ea-945c-45d6-bab8-ab1e81cc4ef8"
      },
      "source": [
        "np.sqrt(mean_squared_error(y_test,test_predict))"
      ],
      "execution_count": null,
      "outputs": [
        {
          "output_type": "execute_result",
          "data": {
            "text/plain": [
              "0.052243933147229527"
            ]
          },
          "metadata": {
            "tags": []
          },
          "execution_count": 112
        }
      ]
    },
    {
      "cell_type": "code",
      "metadata": {
        "colab_type": "code",
        "id": "Eq8OmP_oe_Wk",
        "colab": {
          "base_uri": "https://localhost:8080/",
          "height": 34
        },
        "outputId": "c7bb2569-9be0-429c-fa69-f64443a85bd2"
      },
      "source": [
        "len(test_data)"
      ],
      "execution_count": null,
      "outputs": [
        {
          "output_type": "execute_result",
          "data": {
            "text/plain": [
              "252"
            ]
          },
          "metadata": {
            "tags": []
          },
          "execution_count": 113
        }
      ]
    },
    {
      "cell_type": "code",
      "metadata": {
        "colab_type": "code",
        "id": "JgVy7yOVe_Wn",
        "colab": {
          "base_uri": "https://localhost:8080/",
          "height": 265
        },
        "outputId": "d6ff48b5-c88a-4ffa-c2c6-bb91dfb50b10"
      },
      "source": [
        "\n",
        "### Plotting \n",
        "# shift train predictions for plotting\n",
        "look_back=100\n",
        "trainPredictPlot = np.empty_like(df1)\n",
        "trainPredictPlot[:, :] = np.nan\n",
        "trainPredictPlot[look_back:len(train_predict)+look_back, :] = train_predict\n",
        "# shift test predictions for plotting\n",
        "testPredictPlot = np.empty_like(df1)\n",
        "testPredictPlot[:, :] = np.nan\n",
        "testPredictPlot[len(train_predict)+(look_back*2)+1:len(df1)-1, :] = test_predict\n",
        "# plot baseline and predictions\n",
        "plt.plot(scaler.inverse_transform(df1))\n",
        "plt.plot(scaler.inverse_transform(trainPredictPlot))\n",
        "plt.plot(scaler.inverse_transform(testPredictPlot))\n",
        "plt.show()"
      ],
      "execution_count": null,
      "outputs": [
        {
          "output_type": "display_data",
          "data": {
            "image/png": "[encoded data removed]",
            "text/plain": [
              "<Figure size 432x288 with 1 Axes>"
            ]
          },
          "metadata": {
            "tags": [],
            "needs_background": "light"
          }
        }
      ]
    },
    {
      "cell_type": "markdown",
      "metadata": {
        "colab_type": "text",
        "id": "OOL9ooGAe_Wq"
      },
      "source": [
        "# Predict the next 30 days"
      ]
    },
    {
      "cell_type": "code",
      "metadata": {
        "colab_type": "code",
        "id": "HOTXCvVue_Wr",
        "colab": {
          "base_uri": "https://localhost:8080/",
          "height": 34
        },
        "outputId": "af909039-081f-4be4-bcbb-8757c167d8f3"
      },
      "source": [
        "len(test_data)"
      ],
      "execution_count": null,
      "outputs": [
        {
          "output_type": "execute_result",
          "data": {
            "text/plain": [
              "252"
            ]
          },
          "metadata": {
            "tags": []
          },
          "execution_count": 115
        }
      ]
    },
    {
      "cell_type": "code",
      "metadata": {
        "colab_type": "code",
        "id": "mH7yBkgSe_Wt",
        "colab": {
          "base_uri": "https://localhost:8080/",
          "height": 34
        },
        "outputId": "e3ba5e24-e186-40b3-e824-b16780057995"
      },
      "source": [
        "x_input=test_data[len(test_data)-100:].reshape(1,-1)\n",
        "x_input.shape"
      ],
      "execution_count": null,
      "outputs": [
        {
          "output_type": "execute_result",
          "data": {
            "text/plain": [
              "(1, 100)"
            ]
          },
          "metadata": {
            "tags": []
          },
          "execution_count": 116
        }
      ]
    },
    {
      "cell_type": "code",
      "metadata": {
        "colab_type": "code",
        "id": "Cy581fOce_Wv",
        "colab": {}
      },
      "source": [
        "temp_input=list(x_input)\n",
        "temp_input=temp_input[0].tolist()"
      ],
      "execution_count": null,
      "outputs": []
    },
    {
      "cell_type": "code",
      "metadata": {
        "colab_type": "code",
        "id": "u3r_zOTVe_Wx",
        "colab": {}
      },
      "source": [
        "# demonstrate prediction for next 10 days\n",
        "from numpy import array\n",
        "\n",
        "lst_output=[]\n",
        "n_steps=100\n",
        "i=0\n",
        "days = 30\n",
        "while(i<days):\n",
        "    \n",
        "    if(len(temp_input)>100):\n",
        "        x_input=np.array(temp_input[1:])\n",
        "        x_input=x_input.reshape(1,-1)\n",
        "        x_input = x_input.reshape((1, n_steps, 1))\n",
        "        yhat = model.predict(x_input, verbose=0)\n",
        "        temp_input.extend(yhat[0].tolist())\n",
        "        temp_input=temp_input[1:]\n",
        "        lst_output.extend(yhat.tolist())\n",
        "        i=i+1\n",
        "    else:\n",
        "        x_input = x_input.reshape((1, n_steps,1))\n",
        "        yhat = model.predict(x_input, verbose=0)\n",
        "        temp_input.extend(yhat[0].tolist())\n",
        "        lst_output.extend(yhat.tolist())\n",
        "        i=i+1\n",
        "    "
      ],
      "execution_count": null,
      "outputs": []
    },
    {
      "cell_type": "code",
      "metadata": {
        "colab_type": "code",
        "id": "h2Aennyse_W0",
        "colab": {}
      },
      "source": [
        "day_new=np.arange(1,101)\n",
        "day_pred=np.arange(101,101+days)"
      ],
      "execution_count": null,
      "outputs": []
    },
    {
      "cell_type": "code",
      "metadata": {
        "colab_type": "code",
        "id": "LUDSXnPZe_W3",
        "colab": {
          "base_uri": "https://localhost:8080/",
          "height": 34
        },
        "outputId": "f6d4fb9a-f428-4526-8d55-e3e198cd7188"
      },
      "source": [
        "len(df1)"
      ],
      "execution_count": null,
      "outputs": [
        {
          "output_type": "execute_result",
          "data": {
            "text/plain": [
              "1257"
            ]
          },
          "metadata": {
            "tags": []
          },
          "execution_count": 120
        }
      ]
    },
    {
      "cell_type": "markdown",
      "metadata": {
        "id": "o-B5EgjBOn9V",
        "colab_type": "text"
      },
      "source": [
        "These are the results"
      ]
    },
    {
      "cell_type": "code",
      "metadata": {
        "colab_type": "code",
        "id": "GsV8TMBRe_W5",
        "colab": {
          "base_uri": "https://localhost:8080/",
          "height": 282
        },
        "outputId": "78efa23f-49d6-4d3c-b858-976e69528e11"
      },
      "source": [
        "plt.plot(day_new,scaler.inverse_transform(df1[len(df1)-100:]))\n",
        "plt.plot(day_pred,scaler.inverse_transform(lst_output))"
      ],
      "execution_count": null,
      "outputs": [
        {
          "output_type": "execute_result",
          "data": {
            "text/plain": [
              "[<matplotlib.lines.Line2D at 0x7fe2364c9198>]"
            ]
          },
          "metadata": {
            "tags": []
          },
          "execution_count": 121
        },
        {
          "output_type": "display_data",
          "data": {
            "image/png": "[encoded data removed]",
            "text/plain": [
              "<Figure size 432x288 with 1 Axes>"
            ]
          },
          "metadata": {
            "tags": [],
            "needs_background": "light"
          }
        }
      ]
    },
    {
      "cell_type": "markdown",
      "metadata": {
        "id": "M_ghAozhOr19",
        "colab_type": "text"
      },
      "source": [
        "These are the results rounded to the last 100 days"
      ]
    },
    {
      "cell_type": "code",
      "metadata": {
        "colab_type": "code",
        "id": "A4TwNAkUe_W8",
        "colab": {
          "base_uri": "https://localhost:8080/",
          "height": 282
        },
        "outputId": "59d85747-1c92-4b33-acce-c7451875773f"
      },
      "source": [
        "df3=df1.tolist()\n",
        "df3.extend(lst_output)\n",
        "plt.plot(scaler.inverse_transform(df3[1200:]))"
      ],
      "execution_count": null,
      "outputs": [
        {
          "output_type": "execute_result",
          "data": {
            "text/plain": [
              "[<matplotlib.lines.Line2D at 0x7fe236405550>]"
            ]
          },
          "metadata": {
            "tags": []
          },
          "execution_count": 122
        },
        {
          "output_type": "display_data",
          "data": {
            "image/png": "[encoded data removed]",
            "text/plain": [
              "<Figure size 432x288 with 1 Axes>"
            ]
          },
          "metadata": {
            "tags": [],
            "needs_background": "light"
          }
        }
      ]
    },
    {
      "cell_type": "markdown",
      "metadata": {
        "id": "oXF6_h92Ozu-",
        "colab_type": "text"
      },
      "source": [
        "this is the entire dataset included our predicted results"
      ]
    },
    {
      "cell_type": "code",
      "metadata": {
        "colab_type": "code",
        "id": "Khy3EbrZe_W-",
        "colab": {
          "base_uri": "https://localhost:8080/",
          "height": 282
        },
        "outputId": "b7fa4c96-d62b-4a50-d298-2c479b17045a"
      },
      "source": [
        "df3=scaler.inverse_transform(df3).tolist()\n",
        "plt.plot(df3)"
      ],
      "execution_count": null,
      "outputs": [
        {
          "output_type": "execute_result",
          "data": {
            "text/plain": [
              "[<matplotlib.lines.Line2D at 0x7fe23641dbe0>]"
            ]
          },
          "metadata": {
            "tags": []
          },
          "execution_count": 123
        },
        {
          "output_type": "display_data",
          "data": {
            "image/png": "[encoded data removed]",
            "text/plain": [
              "<Figure size 432x288 with 1 Axes>"
            ]
          },
          "metadata": {
            "tags": [],
            "needs_background": "light"
          }
        }
      ]
    },
    {
      "cell_type": "markdown",
      "metadata": {
        "id": "7y_VN5tkO7Nl",
        "colab_type": "text"
      },
      "source": [
        "these are the predicted values"
      ]
    },
    {
      "cell_type": "code",
      "metadata": {
        "colab_type": "code",
        "id": "Hd0Cqew0fh88",
        "colab": {
          "base_uri": "https://localhost:8080/",
          "height": 527
        },
        "outputId": "2b84ea52-2157-47df-a966-c1c037c85ec7"
      },
      "source": [
        "temp_input[-30:]"
      ],
      "execution_count": null,
      "outputs": [
        {
          "output_type": "execute_result",
          "data": {
            "text/plain": [
              "[0.5578536987304688,\n",
              " 0.5493298172950745,\n",
              " 0.5423815846443176,\n",
              " 0.5365069508552551,\n",
              " 0.531272292137146,\n",
              " 0.5262883901596069,\n",
              " 0.5216174125671387,\n",
              " 0.5173647999763489,\n",
              " 0.5135588049888611,\n",
              " 0.5101543664932251,\n",
              " 0.507080614566803,\n",
              " 0.5042644143104553,\n",
              " 0.5017531514167786,\n",
              " 0.49957776069641113,\n",
              " 0.49780184030532837,\n",
              " 0.49636873602867126,\n",
              " 0.49524709582328796,\n",
              " 0.49442848563194275,\n",
              " 0.49384933710098267,\n",
              " 0.49346476793289185,\n",
              " 0.493230402469635,\n",
              " 0.4930984675884247,\n",
              " 0.4930403232574463,\n",
              " 0.49302780628204346,\n",
              " 0.4930400550365448,\n",
              " 0.4930620789527893,\n",
              " 0.49308234453201294,\n",
              " 0.49308857321739197,\n",
              " 0.4930766224861145,\n",
              " 0.4930448532104492]"
            ]
          },
          "metadata": {
            "tags": []
          },
          "execution_count": 125
        }
      ]
    },
    {
      "cell_type": "markdown",
      "metadata": {
        "id": "Q8AFZhHwPGBI",
        "colab_type": "text"
      },
      "source": [
        "These results are purely arbitrary and i dont think its reliable enough for someone to invest their money. Iam not responsible for anyone using this model for any financial uses."
      ]
    },
    {
      "cell_type": "code",
      "metadata": {
        "id": "tf-dDncyPepY",
        "colab_type": "code",
        "colab": {}
      },
      "source": [
        ""
      ],
      "execution_count": null,
      "outputs": []
    }
  ]
}