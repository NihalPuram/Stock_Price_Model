{
  "nbformat": 4,
  "nbformat_minor": 0,
  "metadata": {
    "accelerator": "GPU",
    "colab": {
      "name": "Copy of Stock_Project V2.ipynb",
      "provenance": [],
      "toc_visible": true,
      "include_colab_link": true
    },
    "kernelspec": {
      "display_name": "Python 3",
      "language": "python",
      "name": "python3"
    },
    "language_info": {
      "codemirror_mode": {
        "name": "ipython",
        "version": 3
      },
      "file_extension": ".py",
      "mimetype": "text/x-python",
      "name": "python",
      "nbconvert_exporter": "python",
      "pygments_lexer": "ipython3",
      "version": "3.7.9"
    }
  },
  "cells": [
    {
      "cell_type": "markdown",
      "metadata": {
        "id": "view-in-github",
        "colab_type": "text"
      },
      "source": [
        "<a href=\"https://colab.research.google.com/github/NihalPuram/Stock_Price_Model/blob/master/Stock_Project_V2.ipynb\" target=\"_parent\"><img src=\"https://colab.research.google.com/assets/colab-badge.svg\" alt=\"Open In Colab\"/></a>"
      ]
    },
    {
      "cell_type": "markdown",
      "metadata": {
        "id": "zK_PK58THDCs",
        "colab_type": "text"
      },
      "source": [
        "This is a program that uses a artificial reccurant neural network called long short term memory (LSTM) to predict the stock price (ie for example we have the stock price of Coca-cola)"
      ]
    },
    {
      "cell_type": "markdown",
      "metadata": {
        "colab_type": "text",
        "id": "hiDyLOrue_VX"
      },
      "source": [
        "# Gathering Data"
      ]
    },
    {
      "cell_type": "markdown",
      "metadata": {
        "id": "JP-jyhH6H9KJ",
        "colab_type": "text"
      },
      "source": [
        "This is our first step in gathering data. Iam using the tiingo api to download the data. For you to run this, simply login to tiingo's website and enter your api_key. Change the \"stock\" variable to change the stock you are viewing."
      ]
    },
    {
      "cell_type": "code",
      "metadata": {
        "colab_type": "code",
        "id": "zeDLxHEke_VZ",
        "colab": {
          "base_uri": "https://localhost:8080/",
          "height": 71
        },
        "outputId": "217175ec-0dd8-4775-9d12-dc3e7860948e"
      },
      "source": [
        "import pandas_datareader as pdr"
      ],
      "execution_count": 1,
      "outputs": [
        {
          "output_type": "stream",
          "text": [
            "/usr/local/lib/python3.6/dist-packages/pandas_datareader/compat/__init__.py:7: FutureWarning: pandas.util.testing is deprecated. Use the functions in the public API at pandas.testing instead.\n",
            "  from pandas.util.testing import assert_frame_equal\n"
          ],
          "name": "stderr"
        }
      ]
    },
    {
      "cell_type": "code",
      "metadata": {
        "id": "UfUsPMEhIWX5",
        "colab_type": "code",
        "colab": {}
      },
      "source": [
        "stock = \"Enter your stock ticker\""
      ],
      "execution_count": 2,
      "outputs": []
    },
    {
      "cell_type": "code",
      "metadata": {
        "colab_type": "code",
        "id": "UtBpJAgje_Vc",
        "colab": {}
      },
      "source": [
        "df = pdr.get_data_tiingo(stock,api_key='enter your tiingo api-key')"
      ],
      "execution_count": 3,
      "outputs": []
    },
    {
      "cell_type": "code",
      "metadata": {
        "colab_type": "code",
        "id": "a9UsD7bVe_Vf",
        "colab": {}
      },
      "source": [
        "df.to_csv('DATA.csv')"
      ],
      "execution_count": 4,
      "outputs": []
    },
    {
      "cell_type": "code",
      "metadata": {
        "colab_type": "code",
        "id": "0I_CwFURe_Vm",
        "colab": {}
      },
      "source": [
        "import pandas as pd\n",
        "\n",
        "df = pd.read_csv(\"DATA.csv\")"
      ],
      "execution_count": 5,
      "outputs": []
    },
    {
      "cell_type": "code",
      "metadata": {
        "colab_type": "code",
        "id": "iZHUhxsxbeTp",
        "colab": {
          "base_uri": "https://localhost:8080/",
          "height": 309
        },
        "outputId": "ea818b8d-7795-4f0c-9f14-9aac38eaa76f"
      },
      "source": [
        "df.head()"
      ],
      "execution_count": 6,
      "outputs": [
        {
          "output_type": "execute_result",
          "data": {
            "text/html": [
              "<div>\n",
              "<style scoped>\n",
              "    .dataframe tbody tr th:only-of-type {\n",
              "        vertical-align: middle;\n",
              "    }\n",
              "\n",
              "    .dataframe tbody tr th {\n",
              "        vertical-align: top;\n",
              "    }\n",
              "\n",
              "    .dataframe thead th {\n",
              "        text-align: right;\n",
              "    }\n",
              "</style>\n",
              "<table border=\"1\" class=\"dataframe\">\n",
              "  <thead>\n",
              "    <tr style=\"text-align: right;\">\n",
              "      <th></th>\n",
              "      <th>symbol</th>\n",
              "      <th>date</th>\n",
              "      <th>close</th>\n",
              "      <th>high</th>\n",
              "      <th>low</th>\n",
              "      <th>open</th>\n",
              "      <th>volume</th>\n",
              "      <th>adjClose</th>\n",
              "      <th>adjHigh</th>\n",
              "      <th>adjLow</th>\n",
              "      <th>adjOpen</th>\n",
              "      <th>adjVolume</th>\n",
              "      <th>divCash</th>\n",
              "      <th>splitFactor</th>\n",
              "    </tr>\n",
              "  </thead>\n",
              "  <tbody>\n",
              "    <tr>\n",
              "      <th>0</th>\n",
              "      <td>KO</td>\n",
              "      <td>2015-09-11 00:00:00+00:00</td>\n",
              "      <td>38.13</td>\n",
              "      <td>38.19</td>\n",
              "      <td>37.84</td>\n",
              "      <td>38.01</td>\n",
              "      <td>11800440</td>\n",
              "      <td>32.634337</td>\n",
              "      <td>32.685689</td>\n",
              "      <td>32.386134</td>\n",
              "      <td>32.531632</td>\n",
              "      <td>11800440</td>\n",
              "      <td>0.33</td>\n",
              "      <td>1.0</td>\n",
              "    </tr>\n",
              "    <tr>\n",
              "      <th>1</th>\n",
              "      <td>KO</td>\n",
              "      <td>2015-09-14 00:00:00+00:00</td>\n",
              "      <td>38.10</td>\n",
              "      <td>38.22</td>\n",
              "      <td>37.85</td>\n",
              "      <td>38.22</td>\n",
              "      <td>8950014</td>\n",
              "      <td>32.608661</td>\n",
              "      <td>32.711365</td>\n",
              "      <td>32.394693</td>\n",
              "      <td>32.711365</td>\n",
              "      <td>8950014</td>\n",
              "      <td>0.00</td>\n",
              "      <td>1.0</td>\n",
              "    </tr>\n",
              "    <tr>\n",
              "      <th>2</th>\n",
              "      <td>KO</td>\n",
              "      <td>2015-09-15 00:00:00+00:00</td>\n",
              "      <td>38.50</td>\n",
              "      <td>38.63</td>\n",
              "      <td>37.92</td>\n",
              "      <td>38.07</td>\n",
              "      <td>13019802</td>\n",
              "      <td>32.951009</td>\n",
              "      <td>33.062272</td>\n",
              "      <td>32.454604</td>\n",
              "      <td>32.582984</td>\n",
              "      <td>13019802</td>\n",
              "      <td>0.00</td>\n",
              "      <td>1.0</td>\n",
              "    </tr>\n",
              "    <tr>\n",
              "      <th>3</th>\n",
              "      <td>KO</td>\n",
              "      <td>2015-09-16 00:00:00+00:00</td>\n",
              "      <td>39.15</td>\n",
              "      <td>39.19</td>\n",
              "      <td>38.47</td>\n",
              "      <td>38.67</td>\n",
              "      <td>22233131</td>\n",
              "      <td>33.507324</td>\n",
              "      <td>33.541559</td>\n",
              "      <td>32.925333</td>\n",
              "      <td>33.096507</td>\n",
              "      <td>22233131</td>\n",
              "      <td>0.00</td>\n",
              "      <td>1.0</td>\n",
              "    </tr>\n",
              "    <tr>\n",
              "      <th>4</th>\n",
              "      <td>KO</td>\n",
              "      <td>2015-09-17 00:00:00+00:00</td>\n",
              "      <td>39.38</td>\n",
              "      <td>39.61</td>\n",
              "      <td>39.04</td>\n",
              "      <td>39.15</td>\n",
              "      <td>21232475</td>\n",
              "      <td>33.704175</td>\n",
              "      <td>33.901025</td>\n",
              "      <td>33.413179</td>\n",
              "      <td>33.507324</td>\n",
              "      <td>21232475</td>\n",
              "      <td>0.00</td>\n",
              "      <td>1.0</td>\n",
              "    </tr>\n",
              "  </tbody>\n",
              "</table>\n",
              "</div>"
            ],
            "text/plain": [
              "  symbol                       date  close  ...  adjVolume  divCash  splitFactor\n",
              "0     KO  2015-09-11 00:00:00+00:00  38.13  ...   11800440     0.33          1.0\n",
              "1     KO  2015-09-14 00:00:00+00:00  38.10  ...    8950014     0.00          1.0\n",
              "2     KO  2015-09-15 00:00:00+00:00  38.50  ...   13019802     0.00          1.0\n",
              "3     KO  2015-09-16 00:00:00+00:00  39.15  ...   22233131     0.00          1.0\n",
              "4     KO  2015-09-17 00:00:00+00:00  39.38  ...   21232475     0.00          1.0\n",
              "\n",
              "[5 rows x 14 columns]"
            ]
          },
          "metadata": {
            "tags": []
          },
          "execution_count": 6
        }
      ]
    },
    {
      "cell_type": "code",
      "metadata": {
        "colab_type": "code",
        "id": "K7tONomke_Vt",
        "colab": {}
      },
      "source": [
        "df1=df.reset_index()['close']"
      ],
      "execution_count": 7,
      "outputs": []
    },
    {
      "cell_type": "code",
      "metadata": {
        "colab_type": "code",
        "id": "c3Qt5U1DbkN-",
        "colab": {
          "base_uri": "https://localhost:8080/",
          "height": 119
        },
        "outputId": "59cb1390-db4d-42ff-fd39-b523bafdf9a4"
      },
      "source": [
        "df1.head()"
      ],
      "execution_count": 8,
      "outputs": [
        {
          "output_type": "execute_result",
          "data": {
            "text/plain": [
              "0    38.13\n",
              "1    38.10\n",
              "2    38.50\n",
              "3    39.15\n",
              "4    39.38\n",
              "Name: close, dtype: float64"
            ]
          },
          "metadata": {
            "tags": []
          },
          "execution_count": 8
        }
      ]
    },
    {
      "cell_type": "code",
      "metadata": {
        "colab_type": "code",
        "id": "RHbbxTMwe_Vv",
        "colab": {
          "base_uri": "https://localhost:8080/",
          "height": 282
        },
        "outputId": "6cd2875c-27bb-457c-ffc0-fc092e42ebce"
      },
      "source": [
        "import matplotlib.pyplot as plt\n",
        "plt.plot(df1)"
      ],
      "execution_count": 9,
      "outputs": [
        {
          "output_type": "execute_result",
          "data": {
            "text/plain": [
              "[<matplotlib.lines.Line2D at 0x7fa1d8729400>]"
            ]
          },
          "metadata": {
            "tags": []
          },
          "execution_count": 9
        },
        {
          "output_type": "display_data",
          "data": {
            "image/png": "[encoded data removed]",
            "text/plain": [
              "<Figure size 432x288 with 1 Axes>"
            ]
          },
          "metadata": {
            "tags": [],
            "needs_background": "light"
          }
        }
      ]
    },
    {
      "cell_type": "code",
      "metadata": {
        "colab_type": "code",
        "id": "VUCVhUy4e_Vz",
        "colab": {}
      },
      "source": [
        "from sklearn.preprocessing import MinMaxScaler\n",
        "import numpy as np\n",
        "scaler = MinMaxScaler(feature_range=(0,1))\n",
        "df1=scaler.fit_transform(np.array(df1).reshape(-1,1))"
      ],
      "execution_count": 10,
      "outputs": []
    },
    {
      "cell_type": "code",
      "metadata": {
        "colab_type": "code",
        "id": "yniG723We_V2",
        "colab": {
          "base_uri": "https://localhost:8080/",
          "height": 34
        },
        "outputId": "cbaba7de-f8b3-4404-cffe-006cbe74b6c4"
      },
      "source": [
        "df1.shape"
      ],
      "execution_count": 11,
      "outputs": [
        {
          "output_type": "execute_result",
          "data": {
            "text/plain": [
              "(1257, 1)"
            ]
          },
          "metadata": {
            "tags": []
          },
          "execution_count": 11
        }
      ]
    },
    {
      "cell_type": "code",
      "metadata": {
        "colab_type": "code",
        "id": "73Z9-vOKe_V6",
        "scrolled": true,
        "colab": {
          "base_uri": "https://localhost:8080/",
          "height": 136
        },
        "outputId": "48a21c47-2904-44aa-a3b8-0e3e53fbae99"
      },
      "source": [
        "df1"
      ],
      "execution_count": 12,
      "outputs": [
        {
          "output_type": "execute_result",
          "data": {
            "text/plain": [
              "array([[0.02525476],\n",
              "       [0.02392556],\n",
              "       [0.04164821],\n",
              "       ...,\n",
              "       [0.57244129],\n",
              "       [0.59725299],\n",
              "       [0.54275587]])"
            ]
          },
          "metadata": {
            "tags": []
          },
          "execution_count": 12
        }
      ]
    },
    {
      "cell_type": "markdown",
      "metadata": {
        "colab_type": "text",
        "id": "PhzRYawwe_V8"
      },
      "source": [
        "# Train-Test split"
      ]
    },
    {
      "cell_type": "markdown",
      "metadata": {
        "id": "CqkSpCMHJCC-",
        "colab_type": "text"
      },
      "source": [
        "Here we are spliting the data to a train and test set for initial training and validation. For the final model we will retrain using the complete dataset."
      ]
    },
    {
      "cell_type": "code",
      "metadata": {
        "colab_type": "code",
        "id": "9vbe_QRwe_V9",
        "colab": {}
      },
      "source": [
        "split_size = 0.80\n",
        "train_size = int(len(df1)*split_size)\n",
        "train_data,test_data = df1[0:train_size,:],df1[train_size:,:1]"
      ],
      "execution_count": 13,
      "outputs": []
    },
    {
      "cell_type": "code",
      "metadata": {
        "colab_type": "code",
        "id": "nLFbSnF_e_WA",
        "colab": {
          "base_uri": "https://localhost:8080/",
          "height": 34
        },
        "outputId": "d6945c7b-ad9c-4790-992b-6ddbe25402f4"
      },
      "source": [
        "len(test_data)"
      ],
      "execution_count": 14,
      "outputs": [
        {
          "output_type": "execute_result",
          "data": {
            "text/plain": [
              "252"
            ]
          },
          "metadata": {
            "tags": []
          },
          "execution_count": 14
        }
      ]
    },
    {
      "cell_type": "code",
      "metadata": {
        "colab_type": "code",
        "id": "g4k1MX4qe_WC",
        "colab": {
          "base_uri": "https://localhost:8080/",
          "height": 34
        },
        "outputId": "ef8f5b3e-ec9f-4957-a35e-7431e5915acb"
      },
      "source": [
        "len(train_data)"
      ],
      "execution_count": 15,
      "outputs": [
        {
          "output_type": "execute_result",
          "data": {
            "text/plain": [
              "1005"
            ]
          },
          "metadata": {
            "tags": []
          },
          "execution_count": 15
        }
      ]
    },
    {
      "cell_type": "code",
      "metadata": {
        "colab_type": "code",
        "id": "Ihr0-B-ee_WF",
        "colab": {}
      },
      "source": [
        "def create_dataset(dataset,time_step=1):\n",
        "    dataX,dataY = [],[]\n",
        "    for i in range(len(dataset)-time_step-1):\n",
        "        a = dataset[i:(i+time_step),0]\n",
        "        dataX.append(a)\n",
        "        dataY.append(dataset[i+time_step,0])\n",
        "    return np.array(dataX),np.array(dataY)"
      ],
      "execution_count": 16,
      "outputs": []
    },
    {
      "cell_type": "markdown",
      "metadata": {
        "id": "A7ARRh3EJU-C",
        "colab_type": "text"
      },
      "source": [
        "this function creates the dataset that contains the set previous values of the stock for a brief period of time. This allows the model to have a 'memory' of that particular time frame"
      ]
    },
    {
      "cell_type": "code",
      "metadata": {
        "colab_type": "code",
        "id": "qV3kFFKme_WH",
        "colab": {}
      },
      "source": [
        "time_step = 100\n",
        "X_train,y_train = create_dataset(train_data,time_step)\n",
        "X_test,y_test = create_dataset(test_data,time_step)"
      ],
      "execution_count": 17,
      "outputs": []
    },
    {
      "cell_type": "code",
      "metadata": {
        "colab_type": "code",
        "id": "GYa0jnUxe_WL",
        "colab": {
          "base_uri": "https://localhost:8080/",
          "height": 238
        },
        "outputId": "1ab82fb4-03d4-4386-a30c-f4d7768ad4c4"
      },
      "source": [
        "X_train"
      ],
      "execution_count": 18,
      "outputs": [
        {
          "output_type": "execute_result",
          "data": {
            "text/plain": [
              "array([[0.02525476, 0.02392556, 0.04164821, ..., 0.24102791, 0.21621622,\n",
              "        0.22862206],\n",
              "       [0.02392556, 0.04164821, 0.0704475 , ..., 0.21621622, 0.22862206,\n",
              "        0.22020381],\n",
              "       [0.04164821, 0.0704475 , 0.08063802, ..., 0.22862206, 0.22020381,\n",
              "        0.21621622],\n",
              "       ...,\n",
              "       [0.40540541, 0.4067346 , 0.41825432, ..., 0.77492246, 0.7744794 ,\n",
              "        0.78599911],\n",
              "       [0.4067346 , 0.41825432, 0.41603899, ..., 0.7744794 , 0.78599911,\n",
              "        0.80682322],\n",
              "       [0.41825432, 0.41603899, 0.43066017, ..., 0.78599911, 0.80682322,\n",
              "        0.77802393]])"
            ]
          },
          "metadata": {
            "tags": []
          },
          "execution_count": 18
        }
      ]
    },
    {
      "cell_type": "code",
      "metadata": {
        "colab_type": "code",
        "id": "1fvkpckRe_WN",
        "colab": {
          "base_uri": "https://localhost:8080/",
          "height": 51
        },
        "outputId": "2a980b35-e7c6-4f17-f9b9-16a57de4b2e9"
      },
      "source": [
        "print(y_train.shape)\n",
        "print(X_train.shape)"
      ],
      "execution_count": 19,
      "outputs": [
        {
          "output_type": "stream",
          "text": [
            "(904,)\n",
            "(904, 100)\n"
          ],
          "name": "stdout"
        }
      ]
    },
    {
      "cell_type": "markdown",
      "metadata": {
        "id": "cJ5Mg3ScJqlT",
        "colab_type": "text"
      },
      "source": [
        "The next cell reshapes the data to a 3 dimensions, LSTM's require this."
      ]
    },
    {
      "cell_type": "code",
      "metadata": {
        "colab_type": "code",
        "id": "4vY8y04ge_WQ",
        "colab": {}
      },
      "source": [
        "#reshape data to be [sample,time_ steps,features] ie 3 dimensions\n",
        "X_train = X_train.reshape(X_train.shape[0],X_train.shape[1],1)\n",
        "X_test = X_test.reshape(X_test.shape[0],X_test.shape[1],1)"
      ],
      "execution_count": 20,
      "outputs": []
    },
    {
      "cell_type": "markdown",
      "metadata": {
        "colab_type": "text",
        "id": "cwxQiRU3e_WS"
      },
      "source": [
        "# Create LSTM Model"
      ]
    },
    {
      "cell_type": "code",
      "metadata": {
        "colab_type": "code",
        "id": "gSjQ7LDoe_WT",
        "colab": {}
      },
      "source": [
        "from tensorflow.keras.models import Sequential\n",
        "from tensorflow.keras.layers import Dense,LSTM,Bidirectional,Dropout\n",
        "model = Sequential()\n",
        "model.add(Bidirectional(LSTM(50,return_sequences = True), input_shape = (time_step,1)))\n",
        "model.add(LSTM(50,return_sequences = True))\n",
        "model.add(LSTM(50))\n",
        "model.add(Dense(512,activation='relu'))\n",
        "model.add(Dropout(0.5))\n",
        "model.add(Dense(256,activation='relu'))\n",
        "model.add(Dropout(0.5))\n",
        "model.add(Dense(1,activation='sigmoid'))\n",
        "\n",
        "model.compile(loss='mean_squared_error',optimizer='adam')"
      ],
      "execution_count": 21,
      "outputs": []
    },
    {
      "cell_type": "code",
      "metadata": {
        "colab_type": "code",
        "id": "Q7TYN3Nje_WW",
        "colab": {
          "base_uri": "https://localhost:8080/",
          "height": 425
        },
        "outputId": "b91ee4c5-59d9-4b7f-82ba-7c49ce99f54b"
      },
      "source": [
        "model.summary()"
      ],
      "execution_count": 22,
      "outputs": [
        {
          "output_type": "stream",
          "text": [
            "Model: \"sequential\"\n",
            "_________________________________________________________________\n",
            "Layer (type)                 Output Shape              Param #   \n",
            "=================================================================\n",
            "bidirectional (Bidirectional (None, 100, 100)          20800     \n",
            "_________________________________________________________________\n",
            "lstm_1 (LSTM)                (None, 100, 50)           30200     \n",
            "_________________________________________________________________\n",
            "lstm_2 (LSTM)                (None, 50)                20200     \n",
            "_________________________________________________________________\n",
            "dense (Dense)                (None, 512)               26112     \n",
            "_________________________________________________________________\n",
            "dropout (Dropout)            (None, 512)               0         \n",
            "_________________________________________________________________\n",
            "dense_1 (Dense)              (None, 256)               131328    \n",
            "_________________________________________________________________\n",
            "dropout_1 (Dropout)          (None, 256)               0         \n",
            "_________________________________________________________________\n",
            "dense_2 (Dense)              (None, 1)                 257       \n",
            "=================================================================\n",
            "Total params: 228,897\n",
            "Trainable params: 228,897\n",
            "Non-trainable params: 0\n",
            "_________________________________________________________________\n"
          ],
          "name": "stdout"
        }
      ]
    },
    {
      "cell_type": "code",
      "metadata": {
        "colab_type": "code",
        "id": "_EJQgPDJe_WY",
        "colab": {
          "base_uri": "https://localhost:8080/",
          "height": 1000
        },
        "outputId": "7c4969f9-f73d-4881-e98b-1a07c99419d6"
      },
      "source": [
        "model.fit(X_train,y_train,validation_data=(X_test,y_test),epochs=100,batch_size=64,verbose=2)"
      ],
      "execution_count": 23,
      "outputs": [
        {
          "output_type": "stream",
          "text": [
            "Epoch 1/100\n",
            "15/15 - 3s - loss: 0.0263 - val_loss: 0.0555\n",
            "Epoch 2/100\n",
            "15/15 - 1s - loss: 0.0147 - val_loss: 0.0450\n",
            "Epoch 3/100\n",
            "15/15 - 1s - loss: 0.0068 - val_loss: 0.0308\n",
            "Epoch 4/100\n",
            "15/15 - 1s - loss: 0.0042 - val_loss: 0.0380\n",
            "Epoch 5/100\n",
            "15/15 - 1s - loss: 0.0031 - val_loss: 0.0260\n",
            "Epoch 6/100\n",
            "15/15 - 1s - loss: 0.0027 - val_loss: 0.0247\n",
            "Epoch 7/100\n",
            "15/15 - 1s - loss: 0.0024 - val_loss: 0.0218\n",
            "Epoch 8/100\n",
            "15/15 - 1s - loss: 0.0021 - val_loss: 0.0204\n",
            "Epoch 9/100\n",
            "15/15 - 1s - loss: 0.0020 - val_loss: 0.0191\n",
            "Epoch 10/100\n",
            "15/15 - 1s - loss: 0.0024 - val_loss: 0.0182\n",
            "Epoch 11/100\n",
            "15/15 - 1s - loss: 0.0019 - val_loss: 0.0189\n",
            "Epoch 12/100\n",
            "15/15 - 1s - loss: 0.0020 - val_loss: 0.0154\n",
            "Epoch 13/100\n",
            "15/15 - 1s - loss: 0.0018 - val_loss: 0.0158\n",
            "Epoch 14/100\n",
            "15/15 - 1s - loss: 0.0015 - val_loss: 0.0150\n",
            "Epoch 15/100\n",
            "15/15 - 1s - loss: 0.0015 - val_loss: 0.0146\n",
            "Epoch 16/100\n",
            "15/15 - 1s - loss: 0.0014 - val_loss: 0.0139\n",
            "Epoch 17/100\n",
            "15/15 - 1s - loss: 0.0014 - val_loss: 0.0129\n",
            "Epoch 18/100\n",
            "15/15 - 1s - loss: 0.0013 - val_loss: 0.0121\n",
            "Epoch 19/100\n",
            "15/15 - 1s - loss: 0.0013 - val_loss: 0.0105\n",
            "Epoch 20/100\n",
            "15/15 - 1s - loss: 0.0014 - val_loss: 0.0103\n",
            "Epoch 21/100\n",
            "15/15 - 1s - loss: 0.0013 - val_loss: 0.0105\n",
            "Epoch 22/100\n",
            "15/15 - 1s - loss: 0.0013 - val_loss: 0.0108\n",
            "Epoch 23/100\n",
            "15/15 - 1s - loss: 0.0012 - val_loss: 0.0101\n",
            "Epoch 24/100\n",
            "15/15 - 1s - loss: 0.0012 - val_loss: 0.0101\n",
            "Epoch 25/100\n",
            "15/15 - 1s - loss: 0.0013 - val_loss: 0.0096\n",
            "Epoch 26/100\n",
            "15/15 - 1s - loss: 0.0012 - val_loss: 0.0092\n",
            "Epoch 27/100\n",
            "15/15 - 1s - loss: 0.0012 - val_loss: 0.0090\n",
            "Epoch 28/100\n",
            "15/15 - 1s - loss: 0.0011 - val_loss: 0.0087\n",
            "Epoch 29/100\n",
            "15/15 - 1s - loss: 0.0013 - val_loss: 0.0084\n",
            "Epoch 30/100\n",
            "15/15 - 1s - loss: 0.0011 - val_loss: 0.0082\n",
            "Epoch 31/100\n",
            "15/15 - 1s - loss: 0.0013 - val_loss: 0.0082\n",
            "Epoch 32/100\n",
            "15/15 - 1s - loss: 0.0011 - val_loss: 0.0078\n",
            "Epoch 33/100\n",
            "15/15 - 1s - loss: 0.0011 - val_loss: 0.0076\n",
            "Epoch 34/100\n",
            "15/15 - 1s - loss: 0.0013 - val_loss: 0.0077\n",
            "Epoch 35/100\n",
            "15/15 - 1s - loss: 0.0011 - val_loss: 0.0073\n",
            "Epoch 36/100\n",
            "15/15 - 1s - loss: 0.0012 - val_loss: 0.0071\n",
            "Epoch 37/100\n",
            "15/15 - 1s - loss: 0.0010 - val_loss: 0.0074\n",
            "Epoch 38/100\n",
            "15/15 - 1s - loss: 0.0011 - val_loss: 0.0073\n",
            "Epoch 39/100\n",
            "15/15 - 1s - loss: 0.0011 - val_loss: 0.0084\n",
            "Epoch 40/100\n",
            "15/15 - 1s - loss: 0.0013 - val_loss: 0.0071\n",
            "Epoch 41/100\n",
            "15/15 - 1s - loss: 0.0011 - val_loss: 0.0073\n",
            "Epoch 42/100\n",
            "15/15 - 1s - loss: 0.0010 - val_loss: 0.0068\n",
            "Epoch 43/100\n",
            "15/15 - 1s - loss: 0.0010 - val_loss: 0.0068\n",
            "Epoch 44/100\n",
            "15/15 - 1s - loss: 0.0012 - val_loss: 0.0075\n",
            "Epoch 45/100\n",
            "15/15 - 1s - loss: 0.0011 - val_loss: 0.0067\n",
            "Epoch 46/100\n",
            "15/15 - 1s - loss: 0.0012 - val_loss: 0.0073\n",
            "Epoch 47/100\n",
            "15/15 - 1s - loss: 0.0011 - val_loss: 0.0072\n",
            "Epoch 48/100\n",
            "15/15 - 1s - loss: 0.0011 - val_loss: 0.0070\n",
            "Epoch 49/100\n",
            "15/15 - 1s - loss: 9.5317e-04 - val_loss: 0.0077\n",
            "Epoch 50/100\n",
            "15/15 - 1s - loss: 9.3055e-04 - val_loss: 0.0064\n",
            "Epoch 51/100\n",
            "15/15 - 1s - loss: 9.6476e-04 - val_loss: 0.0062\n",
            "Epoch 52/100\n",
            "15/15 - 1s - loss: 0.0011 - val_loss: 0.0073\n",
            "Epoch 53/100\n",
            "15/15 - 1s - loss: 0.0011 - val_loss: 0.0061\n",
            "Epoch 54/100\n",
            "15/15 - 1s - loss: 9.5400e-04 - val_loss: 0.0063\n",
            "Epoch 55/100\n",
            "15/15 - 1s - loss: 0.0011 - val_loss: 0.0065\n",
            "Epoch 56/100\n",
            "15/15 - 1s - loss: 0.0013 - val_loss: 0.0069\n",
            "Epoch 57/100\n",
            "15/15 - 1s - loss: 0.0010 - val_loss: 0.0066\n",
            "Epoch 58/100\n",
            "15/15 - 1s - loss: 9.1115e-04 - val_loss: 0.0065\n",
            "Epoch 59/100\n",
            "15/15 - 1s - loss: 8.7829e-04 - val_loss: 0.0066\n",
            "Epoch 60/100\n",
            "15/15 - 1s - loss: 9.6661e-04 - val_loss: 0.0062\n",
            "Epoch 61/100\n",
            "15/15 - 1s - loss: 8.6035e-04 - val_loss: 0.0063\n",
            "Epoch 62/100\n",
            "15/15 - 1s - loss: 8.1064e-04 - val_loss: 0.0066\n",
            "Epoch 63/100\n",
            "15/15 - 1s - loss: 9.6352e-04 - val_loss: 0.0066\n",
            "Epoch 64/100\n",
            "15/15 - 1s - loss: 8.8573e-04 - val_loss: 0.0064\n",
            "Epoch 65/100\n",
            "15/15 - 1s - loss: 9.7044e-04 - val_loss: 0.0063\n",
            "Epoch 66/100\n",
            "15/15 - 1s - loss: 9.0724e-04 - val_loss: 0.0065\n",
            "Epoch 67/100\n",
            "15/15 - 1s - loss: 0.0010 - val_loss: 0.0061\n",
            "Epoch 68/100\n",
            "15/15 - 1s - loss: 8.7052e-04 - val_loss: 0.0061\n",
            "Epoch 69/100\n",
            "15/15 - 1s - loss: 9.2533e-04 - val_loss: 0.0060\n",
            "Epoch 70/100\n",
            "15/15 - 1s - loss: 9.3941e-04 - val_loss: 0.0064\n",
            "Epoch 71/100\n",
            "15/15 - 1s - loss: 8.0880e-04 - val_loss: 0.0056\n",
            "Epoch 72/100\n",
            "15/15 - 1s - loss: 9.1648e-04 - val_loss: 0.0056\n",
            "Epoch 73/100\n",
            "15/15 - 1s - loss: 9.1173e-04 - val_loss: 0.0061\n",
            "Epoch 74/100\n",
            "15/15 - 1s - loss: 9.2011e-04 - val_loss: 0.0057\n",
            "Epoch 75/100\n",
            "15/15 - 1s - loss: 8.9926e-04 - val_loss: 0.0058\n",
            "Epoch 76/100\n",
            "15/15 - 1s - loss: 8.2230e-04 - val_loss: 0.0056\n",
            "Epoch 77/100\n",
            "15/15 - 1s - loss: 8.5424e-04 - val_loss: 0.0059\n",
            "Epoch 78/100\n",
            "15/15 - 1s - loss: 9.4694e-04 - val_loss: 0.0060\n",
            "Epoch 79/100\n",
            "15/15 - 1s - loss: 8.5985e-04 - val_loss: 0.0065\n",
            "Epoch 80/100\n",
            "15/15 - 1s - loss: 8.6077e-04 - val_loss: 0.0063\n",
            "Epoch 81/100\n",
            "15/15 - 1s - loss: 9.7639e-04 - val_loss: 0.0059\n",
            "Epoch 82/100\n",
            "15/15 - 1s - loss: 8.8829e-04 - val_loss: 0.0059\n",
            "Epoch 83/100\n",
            "15/15 - 1s - loss: 9.1258e-04 - val_loss: 0.0060\n",
            "Epoch 84/100\n",
            "15/15 - 1s - loss: 8.1499e-04 - val_loss: 0.0055\n",
            "Epoch 85/100\n",
            "15/15 - 1s - loss: 8.4450e-04 - val_loss: 0.0056\n",
            "Epoch 86/100\n",
            "15/15 - 1s - loss: 8.7291e-04 - val_loss: 0.0054\n",
            "Epoch 87/100\n",
            "15/15 - 1s - loss: 7.8824e-04 - val_loss: 0.0055\n",
            "Epoch 88/100\n",
            "15/15 - 1s - loss: 9.0031e-04 - val_loss: 0.0065\n",
            "Epoch 89/100\n",
            "15/15 - 1s - loss: 8.9093e-04 - val_loss: 0.0057\n",
            "Epoch 90/100\n",
            "15/15 - 1s - loss: 8.1502e-04 - val_loss: 0.0055\n",
            "Epoch 91/100\n",
            "15/15 - 1s - loss: 7.7324e-04 - val_loss: 0.0057\n",
            "Epoch 92/100\n",
            "15/15 - 1s - loss: 8.2530e-04 - val_loss: 0.0055\n",
            "Epoch 93/100\n",
            "15/15 - 1s - loss: 8.7866e-04 - val_loss: 0.0053\n",
            "Epoch 94/100\n",
            "15/15 - 1s - loss: 8.3888e-04 - val_loss: 0.0057\n",
            "Epoch 95/100\n",
            "15/15 - 1s - loss: 8.1338e-04 - val_loss: 0.0054\n",
            "Epoch 96/100\n",
            "15/15 - 1s - loss: 8.4348e-04 - val_loss: 0.0051\n",
            "Epoch 97/100\n",
            "15/15 - 1s - loss: 8.0730e-04 - val_loss: 0.0055\n",
            "Epoch 98/100\n",
            "15/15 - 1s - loss: 7.4870e-04 - val_loss: 0.0057\n",
            "Epoch 99/100\n",
            "15/15 - 1s - loss: 8.1557e-04 - val_loss: 0.0055\n",
            "Epoch 100/100\n",
            "15/15 - 1s - loss: 8.4498e-04 - val_loss: 0.0055\n"
          ],
          "name": "stdout"
        },
        {
          "output_type": "execute_result",
          "data": {
            "text/plain": [
              "<tensorflow.python.keras.callbacks.History at 0x7fa1900dff60>"
            ]
          },
          "metadata": {
            "tags": []
          },
          "execution_count": 23
        }
      ]
    },
    {
      "cell_type": "code",
      "metadata": {
        "colab_type": "code",
        "id": "Tc0bACRmngVt",
        "colab": {}
      },
      "source": [
        "final_train,final_test = create_dataset(df1,100)"
      ],
      "execution_count": 24,
      "outputs": []
    },
    {
      "cell_type": "code",
      "metadata": {
        "colab_type": "code",
        "id": "LoCbM0Iqnz_x",
        "colab": {}
      },
      "source": [
        "#reshape\n",
        "final_train = final_train.reshape(final_train.shape[0],final_train.shape[1],1)"
      ],
      "execution_count": 25,
      "outputs": []
    },
    {
      "cell_type": "code",
      "metadata": {
        "colab_type": "code",
        "id": "UK-7ypKanoap",
        "colab": {
          "base_uri": "https://localhost:8080/",
          "height": 1000
        },
        "outputId": "dcfd353a-a23f-4df4-cb4c-918ae33dbd27"
      },
      "source": [
        "model.fit(final_train,final_test,epochs=100,batch_size=64,verbose=2)"
      ],
      "execution_count": 26,
      "outputs": [
        {
          "output_type": "stream",
          "text": [
            "Epoch 1/100\n",
            "19/19 - 2s - loss: 0.0015\n",
            "Epoch 2/100\n",
            "19/19 - 2s - loss: 0.0014\n",
            "Epoch 3/100\n",
            "19/19 - 2s - loss: 0.0018\n",
            "Epoch 4/100\n",
            "19/19 - 2s - loss: 0.0020\n",
            "Epoch 5/100\n",
            "19/19 - 2s - loss: 0.0017\n",
            "Epoch 6/100\n",
            "19/19 - 2s - loss: 0.0015\n",
            "Epoch 7/100\n",
            "19/19 - 2s - loss: 0.0015\n",
            "Epoch 8/100\n",
            "19/19 - 2s - loss: 0.0014\n",
            "Epoch 9/100\n",
            "19/19 - 2s - loss: 0.0016\n",
            "Epoch 10/100\n",
            "19/19 - 2s - loss: 0.0015\n",
            "Epoch 11/100\n",
            "19/19 - 2s - loss: 0.0015\n",
            "Epoch 12/100\n",
            "19/19 - 2s - loss: 0.0015\n",
            "Epoch 13/100\n",
            "19/19 - 2s - loss: 0.0014\n",
            "Epoch 14/100\n",
            "19/19 - 2s - loss: 0.0014\n",
            "Epoch 15/100\n",
            "19/19 - 2s - loss: 0.0013\n",
            "Epoch 16/100\n",
            "19/19 - 2s - loss: 0.0018\n",
            "Epoch 17/100\n",
            "19/19 - 2s - loss: 0.0014\n",
            "Epoch 18/100\n",
            "19/19 - 2s - loss: 0.0014\n",
            "Epoch 19/100\n",
            "19/19 - 2s - loss: 0.0013\n",
            "Epoch 20/100\n",
            "19/19 - 2s - loss: 0.0013\n",
            "Epoch 21/100\n",
            "19/19 - 2s - loss: 0.0014\n",
            "Epoch 22/100\n",
            "19/19 - 2s - loss: 0.0013\n",
            "Epoch 23/100\n",
            "19/19 - 2s - loss: 0.0014\n",
            "Epoch 24/100\n",
            "19/19 - 2s - loss: 0.0014\n",
            "Epoch 25/100\n",
            "19/19 - 2s - loss: 0.0013\n",
            "Epoch 26/100\n",
            "19/19 - 2s - loss: 0.0015\n",
            "Epoch 27/100\n",
            "19/19 - 2s - loss: 0.0013\n",
            "Epoch 28/100\n",
            "19/19 - 2s - loss: 0.0014\n",
            "Epoch 29/100\n",
            "19/19 - 2s - loss: 0.0013\n",
            "Epoch 30/100\n",
            "19/19 - 2s - loss: 0.0013\n",
            "Epoch 31/100\n",
            "19/19 - 2s - loss: 0.0016\n",
            "Epoch 32/100\n",
            "19/19 - 2s - loss: 0.0014\n",
            "Epoch 33/100\n",
            "19/19 - 2s - loss: 0.0014\n",
            "Epoch 34/100\n",
            "19/19 - 2s - loss: 0.0015\n",
            "Epoch 35/100\n",
            "19/19 - 2s - loss: 0.0013\n",
            "Epoch 36/100\n",
            "19/19 - 2s - loss: 0.0014\n",
            "Epoch 37/100\n",
            "19/19 - 2s - loss: 0.0015\n",
            "Epoch 38/100\n",
            "19/19 - 2s - loss: 0.0014\n",
            "Epoch 39/100\n",
            "19/19 - 2s - loss: 0.0014\n",
            "Epoch 40/100\n",
            "19/19 - 2s - loss: 0.0012\n",
            "Epoch 41/100\n",
            "19/19 - 2s - loss: 0.0013\n",
            "Epoch 42/100\n",
            "19/19 - 2s - loss: 0.0015\n",
            "Epoch 43/100\n",
            "19/19 - 2s - loss: 0.0014\n",
            "Epoch 44/100\n",
            "19/19 - 2s - loss: 0.0014\n",
            "Epoch 45/100\n",
            "19/19 - 2s - loss: 0.0013\n",
            "Epoch 46/100\n",
            "19/19 - 2s - loss: 0.0012\n",
            "Epoch 47/100\n",
            "19/19 - 2s - loss: 0.0013\n",
            "Epoch 48/100\n",
            "19/19 - 2s - loss: 0.0013\n",
            "Epoch 49/100\n",
            "19/19 - 2s - loss: 0.0013\n",
            "Epoch 50/100\n",
            "19/19 - 2s - loss: 0.0014\n",
            "Epoch 51/100\n",
            "19/19 - 2s - loss: 0.0013\n",
            "Epoch 52/100\n",
            "19/19 - 2s - loss: 0.0012\n",
            "Epoch 53/100\n",
            "19/19 - 2s - loss: 0.0012\n",
            "Epoch 54/100\n",
            "19/19 - 2s - loss: 0.0012\n",
            "Epoch 55/100\n",
            "19/19 - 2s - loss: 0.0014\n",
            "Epoch 56/100\n",
            "19/19 - 2s - loss: 0.0012\n",
            "Epoch 57/100\n",
            "19/19 - 2s - loss: 0.0013\n",
            "Epoch 58/100\n",
            "19/19 - 2s - loss: 0.0013\n",
            "Epoch 59/100\n",
            "19/19 - 2s - loss: 0.0013\n",
            "Epoch 60/100\n",
            "19/19 - 2s - loss: 0.0027\n",
            "Epoch 61/100\n",
            "19/19 - 2s - loss: 0.0015\n",
            "Epoch 62/100\n",
            "19/19 - 2s - loss: 0.0014\n",
            "Epoch 63/100\n",
            "19/19 - 2s - loss: 0.0013\n",
            "Epoch 64/100\n",
            "19/19 - 2s - loss: 0.0013\n",
            "Epoch 65/100\n",
            "19/19 - 2s - loss: 0.0012\n",
            "Epoch 66/100\n",
            "19/19 - 2s - loss: 0.0015\n",
            "Epoch 67/100\n",
            "19/19 - 2s - loss: 0.0012\n",
            "Epoch 68/100\n",
            "19/19 - 2s - loss: 0.0013\n",
            "Epoch 69/100\n",
            "19/19 - 2s - loss: 0.0012\n",
            "Epoch 70/100\n",
            "19/19 - 2s - loss: 0.0012\n",
            "Epoch 71/100\n",
            "19/19 - 2s - loss: 0.0014\n",
            "Epoch 72/100\n",
            "19/19 - 2s - loss: 0.0012\n",
            "Epoch 73/100\n",
            "19/19 - 2s - loss: 0.0012\n",
            "Epoch 74/100\n",
            "19/19 - 2s - loss: 0.0012\n",
            "Epoch 75/100\n",
            "19/19 - 2s - loss: 0.0012\n",
            "Epoch 76/100\n",
            "19/19 - 2s - loss: 0.0020\n",
            "Epoch 77/100\n",
            "19/19 - 2s - loss: 0.0016\n",
            "Epoch 78/100\n",
            "19/19 - 2s - loss: 0.0013\n",
            "Epoch 79/100\n",
            "19/19 - 2s - loss: 0.0012\n",
            "Epoch 80/100\n",
            "19/19 - 2s - loss: 0.0013\n",
            "Epoch 81/100\n",
            "19/19 - 2s - loss: 0.0011\n",
            "Epoch 82/100\n",
            "19/19 - 2s - loss: 0.0013\n",
            "Epoch 83/100\n",
            "19/19 - 2s - loss: 0.0013\n",
            "Epoch 84/100\n",
            "19/19 - 2s - loss: 0.0012\n",
            "Epoch 85/100\n",
            "19/19 - 2s - loss: 0.0012\n",
            "Epoch 86/100\n",
            "19/19 - 2s - loss: 0.0013\n",
            "Epoch 87/100\n",
            "19/19 - 2s - loss: 0.0013\n",
            "Epoch 88/100\n",
            "19/19 - 2s - loss: 0.0012\n",
            "Epoch 89/100\n",
            "19/19 - 2s - loss: 0.0011\n",
            "Epoch 90/100\n",
            "19/19 - 2s - loss: 0.0012\n",
            "Epoch 91/100\n",
            "19/19 - 2s - loss: 0.0010\n",
            "Epoch 92/100\n",
            "19/19 - 2s - loss: 0.0012\n",
            "Epoch 93/100\n",
            "19/19 - 2s - loss: 0.0012\n",
            "Epoch 94/100\n",
            "19/19 - 2s - loss: 0.0011\n",
            "Epoch 95/100\n",
            "19/19 - 2s - loss: 0.0011\n",
            "Epoch 96/100\n",
            "19/19 - 2s - loss: 0.0011\n",
            "Epoch 97/100\n",
            "19/19 - 2s - loss: 0.0011\n",
            "Epoch 98/100\n",
            "19/19 - 2s - loss: 0.0011\n",
            "Epoch 99/100\n",
            "19/19 - 2s - loss: 0.0013\n",
            "Epoch 100/100\n",
            "19/19 - 2s - loss: 0.0012\n"
          ],
          "name": "stdout"
        },
        {
          "output_type": "execute_result",
          "data": {
            "text/plain": [
              "<tensorflow.python.keras.callbacks.History at 0x7fa141123438>"
            ]
          },
          "metadata": {
            "tags": []
          },
          "execution_count": 26
        }
      ]
    },
    {
      "cell_type": "markdown",
      "metadata": {
        "colab_type": "text",
        "id": "FVMGQo1de_Wb"
      },
      "source": [
        "# Predict the plot outcome"
      ]
    },
    {
      "cell_type": "code",
      "metadata": {
        "colab_type": "code",
        "id": "Hyvjfjuue_Wb",
        "colab": {}
      },
      "source": [
        "train_predict = model.predict(X_train)\n",
        "test_predict = model.predict(X_test)"
      ],
      "execution_count": 27,
      "outputs": []
    },
    {
      "cell_type": "code",
      "metadata": {
        "colab_type": "code",
        "id": "zH2k0qv4e_We",
        "colab": {
          "base_uri": "https://localhost:8080/",
          "height": 34
        },
        "outputId": "3e59f1ae-f84f-43fc-ff6e-7744852ef789"
      },
      "source": [
        "from sklearn.metrics import mean_squared_error\n",
        "np.sqrt(mean_squared_error(y_train,train_predict))"
      ],
      "execution_count": 28,
      "outputs": [
        {
          "output_type": "execute_result",
          "data": {
            "text/plain": [
              "0.020005004603423537"
            ]
          },
          "metadata": {
            "tags": []
          },
          "execution_count": 28
        }
      ]
    },
    {
      "cell_type": "code",
      "metadata": {
        "colab_type": "code",
        "id": "PUGqHP9xe_Wh",
        "colab": {
          "base_uri": "https://localhost:8080/",
          "height": 34
        },
        "outputId": "6343419b-58fe-46be-a345-9d33b381508e"
      },
      "source": [
        "np.sqrt(mean_squared_error(y_test,test_predict))"
      ],
      "execution_count": 29,
      "outputs": [
        {
          "output_type": "execute_result",
          "data": {
            "text/plain": [
              "0.05170510731433499"
            ]
          },
          "metadata": {
            "tags": []
          },
          "execution_count": 29
        }
      ]
    },
    {
      "cell_type": "code",
      "metadata": {
        "colab_type": "code",
        "id": "Eq8OmP_oe_Wk",
        "colab": {
          "base_uri": "https://localhost:8080/",
          "height": 34
        },
        "outputId": "6b7f95b6-8a09-4217-949c-76d5785d3c89"
      },
      "source": [
        "len(test_data)"
      ],
      "execution_count": 30,
      "outputs": [
        {
          "output_type": "execute_result",
          "data": {
            "text/plain": [
              "252"
            ]
          },
          "metadata": {
            "tags": []
          },
          "execution_count": 30
        }
      ]
    },
    {
      "cell_type": "code",
      "metadata": {
        "colab_type": "code",
        "id": "JgVy7yOVe_Wn",
        "colab": {
          "base_uri": "https://localhost:8080/",
          "height": 265
        },
        "outputId": "9e846769-06de-42dd-c370-1b766f99a4d0"
      },
      "source": [
        "\n",
        "### Plotting \n",
        "# shift train predictions for plotting\n",
        "look_back=100\n",
        "trainPredictPlot = np.empty_like(df1)\n",
        "trainPredictPlot[:, :] = np.nan\n",
        "trainPredictPlot[look_back:len(train_predict)+look_back, :] = train_predict\n",
        "# shift test predictions for plotting\n",
        "testPredictPlot = np.empty_like(df1)\n",
        "testPredictPlot[:, :] = np.nan\n",
        "testPredictPlot[len(train_predict)+(look_back*2)+1:len(df1)-1, :] = test_predict\n",
        "# plot baseline and predictions\n",
        "plt.plot(scaler.inverse_transform(df1))\n",
        "plt.plot(scaler.inverse_transform(trainPredictPlot))\n",
        "plt.plot(scaler.inverse_transform(testPredictPlot))\n",
        "plt.show()"
      ],
      "execution_count": 31,
      "outputs": [
        {
          "output_type": "display_data",
          "data": {
            "image/png": "[encoded data removed]",
            "text/plain": [
              "<Figure size 432x288 with 1 Axes>"
            ]
          },
          "metadata": {
            "tags": [],
            "needs_background": "light"
          }
        }
      ]
    },
    {
      "cell_type": "markdown",
      "metadata": {
        "colab_type": "text",
        "id": "OOL9ooGAe_Wq"
      },
      "source": [
        "# Predict the next 30 days"
      ]
    },
    {
      "cell_type": "code",
      "metadata": {
        "colab_type": "code",
        "id": "HOTXCvVue_Wr",
        "colab": {
          "base_uri": "https://localhost:8080/",
          "height": 34
        },
        "outputId": "aa942c34-aa0d-419a-cf44-19d2688219d1"
      },
      "source": [
        "len(test_data)"
      ],
      "execution_count": 32,
      "outputs": [
        {
          "output_type": "execute_result",
          "data": {
            "text/plain": [
              "252"
            ]
          },
          "metadata": {
            "tags": []
          },
          "execution_count": 32
        }
      ]
    },
    {
      "cell_type": "code",
      "metadata": {
        "colab_type": "code",
        "id": "mH7yBkgSe_Wt",
        "colab": {
          "base_uri": "https://localhost:8080/",
          "height": 34
        },
        "outputId": "6d215b8e-5d47-4931-c0ca-e7ae9bc28c83"
      },
      "source": [
        "x_input=test_data[len(test_data)-100:].reshape(1,-1)\n",
        "x_input.shape"
      ],
      "execution_count": 33,
      "outputs": [
        {
          "output_type": "execute_result",
          "data": {
            "text/plain": [
              "(1, 100)"
            ]
          },
          "metadata": {
            "tags": []
          },
          "execution_count": 33
        }
      ]
    },
    {
      "cell_type": "code",
      "metadata": {
        "colab_type": "code",
        "id": "Cy581fOce_Wv",
        "colab": {}
      },
      "source": [
        "temp_input=list(x_input)\n",
        "temp_input=temp_input[0].tolist()"
      ],
      "execution_count": 34,
      "outputs": []
    },
    {
      "cell_type": "code",
      "metadata": {
        "colab_type": "code",
        "id": "u3r_zOTVe_Wx",
        "colab": {}
      },
      "source": [
        "# demonstrate prediction for next 10 days\n",
        "from numpy import array\n",
        "\n",
        "lst_output=[]\n",
        "n_steps=100\n",
        "i=0\n",
        "days = 30\n",
        "while(i<days):\n",
        "    \n",
        "    if(len(temp_input)>100):\n",
        "        x_input=np.array(temp_input[1:])\n",
        "        x_input=x_input.reshape(1,-1)\n",
        "        x_input = x_input.reshape((1, n_steps, 1))\n",
        "        yhat = model.predict(x_input, verbose=0)\n",
        "        temp_input.extend(yhat[0].tolist())\n",
        "        temp_input=temp_input[1:]\n",
        "        lst_output.extend(yhat.tolist())\n",
        "        i=i+1\n",
        "    else:\n",
        "        x_input = x_input.reshape((1, n_steps,1))\n",
        "        yhat = model.predict(x_input, verbose=0)\n",
        "        temp_input.extend(yhat[0].tolist())\n",
        "        lst_output.extend(yhat.tolist())\n",
        "        i=i+1\n",
        "    "
      ],
      "execution_count": 35,
      "outputs": []
    },
    {
      "cell_type": "code",
      "metadata": {
        "colab_type": "code",
        "id": "h2Aennyse_W0",
        "colab": {}
      },
      "source": [
        "day_new=np.arange(1,101)\n",
        "day_pred=np.arange(101,101+days)"
      ],
      "execution_count": 36,
      "outputs": []
    },
    {
      "cell_type": "code",
      "metadata": {
        "colab_type": "code",
        "id": "LUDSXnPZe_W3",
        "colab": {
          "base_uri": "https://localhost:8080/",
          "height": 34
        },
        "outputId": "05dd4bcb-86b9-4133-b05c-b36836d9d5ed"
      },
      "source": [
        "len(df1)"
      ],
      "execution_count": 37,
      "outputs": [
        {
          "output_type": "execute_result",
          "data": {
            "text/plain": [
              "1257"
            ]
          },
          "metadata": {
            "tags": []
          },
          "execution_count": 37
        }
      ]
    },
    {
      "cell_type": "code",
      "metadata": {
        "colab_type": "code",
        "id": "GsV8TMBRe_W5",
        "colab": {
          "base_uri": "https://localhost:8080/",
          "height": 282
        },
        "outputId": "dd0228c2-7b30-468b-e628-18856ebe6e88"
      },
      "source": [
        "plt.plot(day_new,scaler.inverse_transform(df1[len(df1)-100:]))\n",
        "plt.plot(day_pred,scaler.inverse_transform(lst_output))"
      ],
      "execution_count": 38,
      "outputs": [
        {
          "output_type": "execute_result",
          "data": {
            "text/plain": [
              "[<matplotlib.lines.Line2D at 0x7fa1d86e2128>]"
            ]
          },
          "metadata": {
            "tags": []
          },
          "execution_count": 38
        },
        {
          "output_type": "display_data",
          "data": {
            "image/png": "[encoded data removed]",
            "text/plain": [
              "<Figure size 432x288 with 1 Axes>"
            ]
          },
          "metadata": {
            "tags": [],
            "needs_background": "light"
          }
        }
      ]
    },
    {
      "cell_type": "markdown",
      "metadata": {
        "id": "o-B5EgjBOn9V",
        "colab_type": "text"
      },
      "source": [
        "These are the results"
      ]
    },
    {
      "cell_type": "code",
      "metadata": {
        "colab_type": "code",
        "id": "A4TwNAkUe_W8",
        "colab": {
          "base_uri": "https://localhost:8080/",
          "height": 282
        },
        "outputId": "c5ea7a02-98ea-449d-dadd-e12480fde91e"
      },
      "source": [
        "df3=df1.tolist()\n",
        "df3.extend(lst_output)\n",
        "plt.plot(scaler.inverse_transform(df3[1200:]))"
      ],
      "execution_count": 39,
      "outputs": [
        {
          "output_type": "execute_result",
          "data": {
            "text/plain": [
              "[<matplotlib.lines.Line2D at 0x7fa1418369e8>]"
            ]
          },
          "metadata": {
            "tags": []
          },
          "execution_count": 39
        },
        {
          "output_type": "display_data",
          "data": {
            "image/png": "[encoded data removed]",
            "text/plain": [
              "<Figure size 432x288 with 1 Axes>"
            ]
          },
          "metadata": {
            "tags": [],
            "needs_background": "light"
          }
        }
      ]
    },
    {
      "cell_type": "markdown",
      "metadata": {
        "id": "M_ghAozhOr19",
        "colab_type": "text"
      },
      "source": [
        "These are the results rounded to the last 100 days"
      ]
    },
    {
      "cell_type": "code",
      "metadata": {
        "colab_type": "code",
        "id": "Khy3EbrZe_W-",
        "colab": {
          "base_uri": "https://localhost:8080/",
          "height": 282
        },
        "outputId": "b98b711e-7dfe-4220-8e74-c2751551020f"
      },
      "source": [
        "df3=scaler.inverse_transform(df3).tolist()\n",
        "plt.plot(df3)"
      ],
      "execution_count": 40,
      "outputs": [
        {
          "output_type": "execute_result",
          "data": {
            "text/plain": [
              "[<matplotlib.lines.Line2D at 0x7fa1418bb518>]"
            ]
          },
          "metadata": {
            "tags": []
          },
          "execution_count": 40
        },
        {
          "output_type": "display_data",
          "data": {
            "image/png": "[encoded data removed]",
            "text/plain": [
              "<Figure size 432x288 with 1 Axes>"
            ]
          },
          "metadata": {
            "tags": [],
            "needs_background": "light"
          }
        }
      ]
    },
    {
      "cell_type": "markdown",
      "metadata": {
        "id": "oXF6_h92Ozu-",
        "colab_type": "text"
      },
      "source": [
        "this is the entire dataset included our predicted results"
      ]
    },
    {
      "cell_type": "code",
      "metadata": {
        "colab_type": "code",
        "id": "Hd0Cqew0fh88",
        "colab": {
          "base_uri": "https://localhost:8080/",
          "height": 527
        },
        "outputId": "b0fbd054-13c3-4996-918a-e7622b5b912c"
      },
      "source": [
        "output = np.array(temp_input[-30:])\n",
        "output = scaler.inverse_transform(output.reshape(-1,1))\n",
        "output"
      ],
      "execution_count": 41,
      "outputs": [
        {
          "output_type": "execute_result",
          "data": {
            "text/plain": [
              "array([[50.10725442],\n",
              "       [49.91555785],\n",
              "       [49.82999286],\n",
              "       [49.79137938],\n",
              "       [49.74726775],\n",
              "       [49.67218785],\n",
              "       [49.56593385],\n",
              "       [49.44039666],\n",
              "       [49.32037644],\n",
              "       [49.22556402],\n",
              "       [49.16350236],\n",
              "       [49.12971842],\n",
              "       [49.11322264],\n",
              "       [49.1024389 ],\n",
              "       [49.08879645],\n",
              "       [49.069898  ],\n",
              "       [49.04869106],\n",
              "       [49.02909037],\n",
              "       [49.01414569],\n",
              "       [49.00510409],\n",
              "       [49.00063508],\n",
              "       [48.99804945],\n",
              "       [48.99468088],\n",
              "       [48.98889888],\n",
              "       [48.98044651],\n",
              "       [48.97008115],\n",
              "       [48.95915347],\n",
              "       [48.94882174],\n",
              "       [48.93953798],\n",
              "       [48.93115825]])"
            ]
          },
          "metadata": {
            "tags": []
          },
          "execution_count": 41
        }
      ]
    },
    {
      "cell_type": "markdown",
      "metadata": {
        "id": "7y_VN5tkO7Nl",
        "colab_type": "text"
      },
      "source": [
        "these are the predicted values"
      ]
    },
    {
      "cell_type": "markdown",
      "metadata": {
        "id": "Q8AFZhHwPGBI",
        "colab_type": "text"
      },
      "source": [
        "These results are purely arbitrary and i dont think its reliable enough for someone to invest their money. Iam not responsible for anyone using this model for any financial uses."
      ]
    },
    {
      "cell_type": "code",
      "metadata": {
        "id": "tf-dDncyPepY",
        "colab_type": "code",
        "colab": {}
      },
      "source": [
        ""
      ],
      "execution_count": 41,
      "outputs": []
    }
  ]
}
