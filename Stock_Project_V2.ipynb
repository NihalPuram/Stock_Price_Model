{
  "nbformat": 4,
  "nbformat_minor": 0,
  "metadata": {
    "accelerator": "GPU",
    "colab": {
      "name": "Stock_Project V2.ipynb",
      "provenance": [],
      "include_colab_link": true
    },
    "kernelspec": {
      "display_name": "Python 3",
      "language": "python",
      "name": "python3"
    },
    "language_info": {
      "codemirror_mode": {
        "name": "ipython",
        "version": 3
      },
      "file_extension": ".py",
      "mimetype": "text/x-python",
      "name": "python",
      "nbconvert_exporter": "python",
      "pygments_lexer": "ipython3",
      "version": "3.7.9"
    }
  },
  "cells": [
    {
      "cell_type": "markdown",
      "metadata": {
        "id": "view-in-github",
        "colab_type": "text"
      },
      "source": [
        "<a href=\"https://colab.research.google.com/github/NihalPuram/Stock_Price_Model/blob/master/Stock_Project_V2.ipynb\" target=\"_parent\"><img src=\"https://colab.research.google.com/assets/colab-badge.svg\" alt=\"Open In Colab\"/></a>"
      ]
    },
    {
      "cell_type": "markdown",
      "metadata": {
        "colab_type": "text",
        "id": "hiDyLOrue_VX"
      },
      "source": [
        "# Gathering Data"
      ]
    },
    {
      "cell_type": "code",
      "metadata": {
        "colab_type": "code",
        "id": "zeDLxHEke_VZ",
        "colab": {}
      },
      "source": [
        "import pandas_datareader as pdr"
      ],
      "execution_count": 47,
      "outputs": []
    },
    {
      "cell_type": "code",
      "metadata": {
        "colab_type": "code",
        "id": "UtBpJAgje_Vc",
        "colab": {}
      },
      "source": [
        "df = pdr.get_data_tiingo('AAPL',api_key='01242f1841e2df26cc68cb4785d24b58cc1e60c8')"
      ],
      "execution_count": 48,
      "outputs": []
    },
    {
      "cell_type": "code",
      "metadata": {
        "colab_type": "code",
        "id": "a9UsD7bVe_Vf",
        "colab": {}
      },
      "source": [
        "df.to_csv('DATA.csv')"
      ],
      "execution_count": 49,
      "outputs": []
    },
    {
      "cell_type": "code",
      "metadata": {
        "colab_type": "code",
        "id": "0I_CwFURe_Vm",
        "colab": {}
      },
      "source": [
        "import pandas as pd\n",
        "\n",
        "df = pd.read_csv(\"DATA.csv\")"
      ],
      "execution_count": 50,
      "outputs": []
    },
    {
      "cell_type": "code",
      "metadata": {
        "colab_type": "code",
        "id": "iZHUhxsxbeTp",
        "colab": {
          "base_uri": "https://localhost:8080/",
          "height": 204
        },
        "outputId": "02fc76ab-bfcb-47fd-bcd5-964ddcb3ae6b"
      },
      "source": [
        "df.head()"
      ],
      "execution_count": 51,
      "outputs": [
        {
          "output_type": "execute_result",
          "data": {
            "text/html": [
              "<div>\n",
              "<style scoped>\n",
              "    .dataframe tbody tr th:only-of-type {\n",
              "        vertical-align: middle;\n",
              "    }\n",
              "\n",
              "    .dataframe tbody tr th {\n",
              "        vertical-align: top;\n",
              "    }\n",
              "\n",
              "    .dataframe thead th {\n",
              "        text-align: right;\n",
              "    }\n",
              "</style>\n",
              "<table border=\"1\" class=\"dataframe\">\n",
              "  <thead>\n",
              "    <tr style=\"text-align: right;\">\n",
              "      <th></th>\n",
              "      <th>symbol</th>\n",
              "      <th>date</th>\n",
              "      <th>close</th>\n",
              "      <th>high</th>\n",
              "      <th>low</th>\n",
              "      <th>open</th>\n",
              "      <th>volume</th>\n",
              "      <th>adjClose</th>\n",
              "      <th>adjHigh</th>\n",
              "      <th>adjLow</th>\n",
              "      <th>adjOpen</th>\n",
              "      <th>adjVolume</th>\n",
              "      <th>divCash</th>\n",
              "      <th>splitFactor</th>\n",
              "    </tr>\n",
              "  </thead>\n",
              "  <tbody>\n",
              "    <tr>\n",
              "      <th>0</th>\n",
              "      <td>AAPL</td>\n",
              "      <td>2015-09-11 00:00:00+00:00</td>\n",
              "      <td>114.21</td>\n",
              "      <td>114.21</td>\n",
              "      <td>111.760</td>\n",
              "      <td>111.79</td>\n",
              "      <td>49915473</td>\n",
              "      <td>26.381964</td>\n",
              "      <td>26.381964</td>\n",
              "      <td>25.816025</td>\n",
              "      <td>25.822955</td>\n",
              "      <td>199661892</td>\n",
              "      <td>0.0</td>\n",
              "      <td>1.0</td>\n",
              "    </tr>\n",
              "    <tr>\n",
              "      <th>1</th>\n",
              "      <td>AAPL</td>\n",
              "      <td>2015-09-14 00:00:00+00:00</td>\n",
              "      <td>115.31</td>\n",
              "      <td>116.89</td>\n",
              "      <td>114.860</td>\n",
              "      <td>116.58</td>\n",
              "      <td>58363431</td>\n",
              "      <td>26.636058</td>\n",
              "      <td>27.001031</td>\n",
              "      <td>26.532110</td>\n",
              "      <td>26.929422</td>\n",
              "      <td>233453724</td>\n",
              "      <td>0.0</td>\n",
              "      <td>1.0</td>\n",
              "    </tr>\n",
              "    <tr>\n",
              "      <th>2</th>\n",
              "      <td>AAPL</td>\n",
              "      <td>2015-09-15 00:00:00+00:00</td>\n",
              "      <td>116.28</td>\n",
              "      <td>116.53</td>\n",
              "      <td>114.420</td>\n",
              "      <td>115.93</td>\n",
              "      <td>43341155</td>\n",
              "      <td>26.860124</td>\n",
              "      <td>26.917872</td>\n",
              "      <td>26.430473</td>\n",
              "      <td>26.779275</td>\n",
              "      <td>173364620</td>\n",
              "      <td>0.0</td>\n",
              "      <td>1.0</td>\n",
              "    </tr>\n",
              "    <tr>\n",
              "      <th>3</th>\n",
              "      <td>AAPL</td>\n",
              "      <td>2015-09-16 00:00:00+00:00</td>\n",
              "      <td>116.41</td>\n",
              "      <td>116.54</td>\n",
              "      <td>115.440</td>\n",
              "      <td>116.25</td>\n",
              "      <td>37173489</td>\n",
              "      <td>26.890153</td>\n",
              "      <td>26.920182</td>\n",
              "      <td>26.666088</td>\n",
              "      <td>26.853194</td>\n",
              "      <td>148693956</td>\n",
              "      <td>0.0</td>\n",
              "      <td>1.0</td>\n",
              "    </tr>\n",
              "    <tr>\n",
              "      <th>4</th>\n",
              "      <td>AAPL</td>\n",
              "      <td>2015-09-17 00:00:00+00:00</td>\n",
              "      <td>113.92</td>\n",
              "      <td>116.49</td>\n",
              "      <td>113.715</td>\n",
              "      <td>115.66</td>\n",
              "      <td>64112641</td>\n",
              "      <td>26.314975</td>\n",
              "      <td>26.908633</td>\n",
              "      <td>26.267621</td>\n",
              "      <td>26.716907</td>\n",
              "      <td>256450564</td>\n",
              "      <td>0.0</td>\n",
              "      <td>1.0</td>\n",
              "    </tr>\n",
              "  </tbody>\n",
              "</table>\n",
              "</div>"
            ],
            "text/plain": [
              "  symbol                       date   close  ...  adjVolume  divCash  splitFactor\n",
              "0   AAPL  2015-09-11 00:00:00+00:00  114.21  ...  199661892      0.0          1.0\n",
              "1   AAPL  2015-09-14 00:00:00+00:00  115.31  ...  233453724      0.0          1.0\n",
              "2   AAPL  2015-09-15 00:00:00+00:00  116.28  ...  173364620      0.0          1.0\n",
              "3   AAPL  2015-09-16 00:00:00+00:00  116.41  ...  148693956      0.0          1.0\n",
              "4   AAPL  2015-09-17 00:00:00+00:00  113.92  ...  256450564      0.0          1.0\n",
              "\n",
              "[5 rows x 14 columns]"
            ]
          },
          "metadata": {
            "tags": []
          },
          "execution_count": 51
        }
      ]
    },
    {
      "cell_type": "code",
      "metadata": {
        "colab_type": "code",
        "id": "K7tONomke_Vt",
        "colab": {}
      },
      "source": [
        "df1=df.reset_index()['close']"
      ],
      "execution_count": 52,
      "outputs": []
    },
    {
      "cell_type": "code",
      "metadata": {
        "colab_type": "code",
        "id": "c3Qt5U1DbkN-",
        "colab": {
          "base_uri": "https://localhost:8080/",
          "height": 119
        },
        "outputId": "0c0bb9d1-54e2-4e88-dda6-681d449a87fa"
      },
      "source": [
        "df1.head()"
      ],
      "execution_count": 53,
      "outputs": [
        {
          "output_type": "execute_result",
          "data": {
            "text/plain": [
              "0    114.21\n",
              "1    115.31\n",
              "2    116.28\n",
              "3    116.41\n",
              "4    113.92\n",
              "Name: close, dtype: float64"
            ]
          },
          "metadata": {
            "tags": []
          },
          "execution_count": 53
        }
      ]
    },
    {
      "cell_type": "code",
      "metadata": {
        "colab_type": "code",
        "id": "RHbbxTMwe_Vv",
        "colab": {
          "base_uri": "https://localhost:8080/",
          "height": 282
        },
        "outputId": "f4410973-ba67-4de8-80b7-31e01038904d"
      },
      "source": [
        "import matplotlib.pyplot as plt\n",
        "plt.plot(df1)"
      ],
      "execution_count": 54,
      "outputs": [
        {
          "output_type": "execute_result",
          "data": {
            "text/plain": [
              "[<matplotlib.lines.Line2D at 0x7fd86a559dd8>]"
            ]
          },
          "metadata": {
            "tags": []
          },
          "execution_count": 54
        },
        {
          "output_type": "display_data",
          "data": {
            "image/png": "[encoded data removed]",
            "text/plain": [
              "<Figure size 432x288 with 1 Axes>"
            ]
          },
          "metadata": {
            "tags": [],
            "needs_background": "light"
          }
        }
      ]
    },
    {
      "cell_type": "code",
      "metadata": {
        "colab_type": "code",
        "id": "VUCVhUy4e_Vz",
        "colab": {}
      },
      "source": [
        "from sklearn.preprocessing import MinMaxScaler\n",
        "import numpy as np\n",
        "scaler = MinMaxScaler(feature_range=(0,1))\n",
        "df1=scaler.fit_transform(np.array(df1).reshape(-1,1))"
      ],
      "execution_count": 55,
      "outputs": []
    },
    {
      "cell_type": "code",
      "metadata": {
        "colab_type": "code",
        "id": "yniG723We_V2",
        "colab": {
          "base_uri": "https://localhost:8080/",
          "height": 34
        },
        "outputId": "848c14f3-e3a3-4a7b-c53f-74d3c87ec37e"
      },
      "source": [
        "df1.shape"
      ],
      "execution_count": 56,
      "outputs": [
        {
          "output_type": "execute_result",
          "data": {
            "text/plain": [
              "(1257, 1)"
            ]
          },
          "metadata": {
            "tags": []
          },
          "execution_count": 56
        }
      ]
    },
    {
      "cell_type": "code",
      "metadata": {
        "colab_type": "code",
        "id": "73Z9-vOKe_V6",
        "scrolled": true,
        "colab": {
          "base_uri": "https://localhost:8080/",
          "height": 136
        },
        "outputId": "d0737abd-1612-4208-8dec-f7850d300ec8"
      },
      "source": [
        "df1"
      ],
      "execution_count": 57,
      "outputs": [
        {
          "output_type": "execute_result",
          "data": {
            "text/plain": [
              "array([[0.05741431],\n",
              "       [0.06006013],\n",
              "       [0.06239327],\n",
              "       ...,\n",
              "       [0.07345761],\n",
              "       [0.07365003],\n",
              "       [0.05407096]])"
            ]
          },
          "metadata": {
            "tags": []
          },
          "execution_count": 57
        }
      ]
    },
    {
      "cell_type": "markdown",
      "metadata": {
        "colab_type": "text",
        "id": "PhzRYawwe_V8"
      },
      "source": [
        "# Train-Test split"
      ]
    },
    {
      "cell_type": "code",
      "metadata": {
        "colab_type": "code",
        "id": "9vbe_QRwe_V9",
        "colab": {}
      },
      "source": [
        "split_size = 0.80\n",
        "train_size = int(len(df1)*split_size)\n",
        "train_data,test_data = df1[0:train_size,:],df1[train_size:,:1]"
      ],
      "execution_count": 58,
      "outputs": []
    },
    {
      "cell_type": "code",
      "metadata": {
        "colab_type": "code",
        "id": "nLFbSnF_e_WA",
        "colab": {
          "base_uri": "https://localhost:8080/",
          "height": 34
        },
        "outputId": "7bc54931-5325-4135-a0cb-646629484d5a"
      },
      "source": [
        "len(test_data)"
      ],
      "execution_count": 59,
      "outputs": [
        {
          "output_type": "execute_result",
          "data": {
            "text/plain": [
              "252"
            ]
          },
          "metadata": {
            "tags": []
          },
          "execution_count": 59
        }
      ]
    },
    {
      "cell_type": "code",
      "metadata": {
        "colab_type": "code",
        "id": "g4k1MX4qe_WC",
        "colab": {
          "base_uri": "https://localhost:8080/",
          "height": 34
        },
        "outputId": "f20c30f6-3c0d-4b7a-bca3-eed9a4a4fefa"
      },
      "source": [
        "len(train_data)"
      ],
      "execution_count": 60,
      "outputs": [
        {
          "output_type": "execute_result",
          "data": {
            "text/plain": [
              "1005"
            ]
          },
          "metadata": {
            "tags": []
          },
          "execution_count": 60
        }
      ]
    },
    {
      "cell_type": "code",
      "metadata": {
        "colab_type": "code",
        "id": "Ihr0-B-ee_WF",
        "colab": {}
      },
      "source": [
        "def create_dataset(dataset,time_step=1):\n",
        "    dataX,dataY = [],[]\n",
        "    for i in range(len(dataset)-time_step-1):\n",
        "        a = dataset[i:(i+time_step),0]\n",
        "        dataX.append(a)\n",
        "        dataY.append(dataset[i+time_step,0])\n",
        "    return np.array(dataX),np.array(dataY)"
      ],
      "execution_count": 61,
      "outputs": []
    },
    {
      "cell_type": "code",
      "metadata": {
        "colab_type": "code",
        "id": "qV3kFFKme_WH",
        "colab": {}
      },
      "source": [
        "time_step = 100\n",
        "X_train,y_train = create_dataset(train_data,time_step)\n",
        "X_test,y_test = create_dataset(test_data,time_step)"
      ],
      "execution_count": 62,
      "outputs": []
    },
    {
      "cell_type": "code",
      "metadata": {
        "colab_type": "code",
        "id": "GYa0jnUxe_WL",
        "colab": {
          "base_uri": "https://localhost:8080/",
          "height": 238
        },
        "outputId": "b1e79e3c-164c-49ac-fbbb-3d9fb0a35e21"
      },
      "source": [
        "X_train"
      ],
      "execution_count": 63,
      "outputs": [
        {
          "output_type": "execute_result",
          "data": {
            "text/plain": [
              "array([[0.05741431, 0.06006013, 0.06239327, ..., 0.01464823, 0.00995791,\n",
              "        0.0144558 ],\n",
              "       [0.06006013, 0.06239327, 0.06270595, ..., 0.00995791, 0.0144558 ,\n",
              "        0.01505713],\n",
              "       [0.06239327, 0.06270595, 0.05671678, ..., 0.0144558 , 0.01505713,\n",
              "        0.00885147],\n",
              "       ...,\n",
              "       [0.26123873, 0.2610463 , 0.26191221, ..., 0.28543596, 0.28478653,\n",
              "        0.27747444],\n",
              "       [0.2610463 , 0.26191221, 0.26196031, ..., 0.28478653, 0.27747444,\n",
              "        0.28586891],\n",
              "       [0.26191221, 0.26196031, 0.27129284, ..., 0.27747444, 0.28586891,\n",
              "        0.29570655]])"
            ]
          },
          "metadata": {
            "tags": []
          },
          "execution_count": 63
        }
      ]
    },
    {
      "cell_type": "code",
      "metadata": {
        "colab_type": "code",
        "id": "1fvkpckRe_WN",
        "colab": {
          "base_uri": "https://localhost:8080/",
          "height": 51
        },
        "outputId": "508d2d80-218b-4ce0-fdd8-18d7c4c9e08e"
      },
      "source": [
        "print(y_train.shape)\n",
        "print(X_train.shape)"
      ],
      "execution_count": 64,
      "outputs": [
        {
          "output_type": "stream",
          "text": [
            "(904,)\n",
            "(904, 100)\n"
          ],
          "name": "stdout"
        }
      ]
    },
    {
      "cell_type": "code",
      "metadata": {
        "colab_type": "code",
        "id": "4vY8y04ge_WQ",
        "colab": {}
      },
      "source": [
        "#reshape data to be [sample,time_ steps,features] ie 3 dimensions\n",
        "X_train = X_train.reshape(X_train.shape[0],X_train.shape[1],1)\n",
        "X_test = X_test.reshape(X_test.shape[0],X_test.shape[1],1)"
      ],
      "execution_count": 65,
      "outputs": []
    },
    {
      "cell_type": "markdown",
      "metadata": {
        "colab_type": "text",
        "id": "cwxQiRU3e_WS"
      },
      "source": [
        "# Create LSTM Model"
      ]
    },
    {
      "cell_type": "code",
      "metadata": {
        "colab_type": "code",
        "id": "gSjQ7LDoe_WT",
        "colab": {}
      },
      "source": [
        "from tensorflow.keras.models import Sequential\n",
        "from tensorflow.keras.layers import Dense,LSTM,Bidirectional,Dropout\n",
        "model = Sequential()\n",
        "model.add(Bidirectional(LSTM(50,return_sequences = True), input_shape = (time_step,1)))\n",
        "model.add(LSTM(50,return_sequences = True))\n",
        "model.add(LSTM(50))\n",
        "model.add(Dense(512,activation='relu'))\n",
        "model.add(Dropout(0.5))\n",
        "model.add(Dense(256,activation='relu'))\n",
        "model.add(Dropout(0.5))\n",
        "model.add(Dense(1,activation='sigmoid'))\n",
        "\n",
        "model.compile(loss='mean_squared_error',optimizer='adam')"
      ],
      "execution_count": 66,
      "outputs": []
    },
    {
      "cell_type": "code",
      "metadata": {
        "colab_type": "code",
        "id": "Q7TYN3Nje_WW",
        "colab": {
          "base_uri": "https://localhost:8080/",
          "height": 425
        },
        "outputId": "38f478cf-448c-48db-cca7-cf693983fd98"
      },
      "source": [
        "model.summary()"
      ],
      "execution_count": 67,
      "outputs": [
        {
          "output_type": "stream",
          "text": [
            "Model: \"sequential_1\"\n",
            "_________________________________________________________________\n",
            "Layer (type)                 Output Shape              Param #   \n",
            "=================================================================\n",
            "bidirectional_1 (Bidirection (None, 100, 100)          20800     \n",
            "_________________________________________________________________\n",
            "lstm_4 (LSTM)                (None, 100, 50)           30200     \n",
            "_________________________________________________________________\n",
            "lstm_5 (LSTM)                (None, 50)                20200     \n",
            "_________________________________________________________________\n",
            "dense_3 (Dense)              (None, 512)               26112     \n",
            "_________________________________________________________________\n",
            "dropout_2 (Dropout)          (None, 512)               0         \n",
            "_________________________________________________________________\n",
            "dense_4 (Dense)              (None, 256)               131328    \n",
            "_________________________________________________________________\n",
            "dropout_3 (Dropout)          (None, 256)               0         \n",
            "_________________________________________________________________\n",
            "dense_5 (Dense)              (None, 1)                 257       \n",
            "=================================================================\n",
            "Total params: 228,897\n",
            "Trainable params: 228,897\n",
            "Non-trainable params: 0\n",
            "_________________________________________________________________\n"
          ],
          "name": "stdout"
        }
      ]
    },
    {
      "cell_type": "code",
      "metadata": {
        "colab_type": "code",
        "id": "_EJQgPDJe_WY",
        "colab": {
          "base_uri": "https://localhost:8080/",
          "height": 1000
        },
        "outputId": "b4e58eee-5f46-423f-c9ba-107b5a3bc37a"
      },
      "source": [
        "model.fit(X_train,y_train,validation_data=(X_test,y_test),epochs=100,batch_size=64,verbose=2)"
      ],
      "execution_count": 68,
      "outputs": [
        {
          "output_type": "stream",
          "text": [
            "Epoch 1/100\n",
            "15/15 - 3s - loss: 0.0634 - val_loss: 0.3540\n",
            "Epoch 2/100\n",
            "15/15 - 1s - loss: 0.0199 - val_loss: 0.2198\n",
            "Epoch 3/100\n",
            "15/15 - 1s - loss: 0.0098 - val_loss: 0.1637\n",
            "Epoch 4/100\n",
            "15/15 - 1s - loss: 0.0082 - val_loss: 0.1355\n",
            "Epoch 5/100\n",
            "15/15 - 1s - loss: 0.0029 - val_loss: 0.0978\n",
            "Epoch 6/100\n",
            "15/15 - 1s - loss: 0.0016 - val_loss: 0.1113\n",
            "Epoch 7/100\n",
            "15/15 - 1s - loss: 0.0014 - val_loss: 0.0775\n",
            "Epoch 8/100\n",
            "15/15 - 1s - loss: 0.0014 - val_loss: 0.0832\n",
            "Epoch 9/100\n",
            "15/15 - 1s - loss: 0.0011 - val_loss: 0.0830\n",
            "Epoch 10/100\n",
            "15/15 - 1s - loss: 0.0010 - val_loss: 0.0796\n",
            "Epoch 11/100\n",
            "15/15 - 1s - loss: 9.8739e-04 - val_loss: 0.0790\n",
            "Epoch 12/100\n",
            "15/15 - 1s - loss: 0.0010 - val_loss: 0.0800\n",
            "Epoch 13/100\n",
            "15/15 - 1s - loss: 9.1953e-04 - val_loss: 0.0798\n",
            "Epoch 14/100\n",
            "15/15 - 1s - loss: 8.6191e-04 - val_loss: 0.0768\n",
            "Epoch 15/100\n",
            "15/15 - 1s - loss: 9.0460e-04 - val_loss: 0.0797\n",
            "Epoch 16/100\n",
            "15/15 - 1s - loss: 8.9930e-04 - val_loss: 0.0838\n",
            "Epoch 17/100\n",
            "15/15 - 1s - loss: 7.8549e-04 - val_loss: 0.0826\n",
            "Epoch 18/100\n",
            "15/15 - 1s - loss: 8.0357e-04 - val_loss: 0.0827\n",
            "Epoch 19/100\n",
            "15/15 - 1s - loss: 0.0010 - val_loss: 0.0879\n",
            "Epoch 20/100\n",
            "15/15 - 1s - loss: 7.8105e-04 - val_loss: 0.0801\n",
            "Epoch 21/100\n",
            "15/15 - 1s - loss: 7.1993e-04 - val_loss: 0.0755\n",
            "Epoch 22/100\n",
            "15/15 - 1s - loss: 8.0603e-04 - val_loss: 0.0779\n",
            "Epoch 23/100\n",
            "15/15 - 1s - loss: 8.2074e-04 - val_loss: 0.0774\n",
            "Epoch 24/100\n",
            "15/15 - 1s - loss: 8.3732e-04 - val_loss: 0.0747\n",
            "Epoch 25/100\n",
            "15/15 - 1s - loss: 9.8352e-04 - val_loss: 0.0730\n",
            "Epoch 26/100\n",
            "15/15 - 1s - loss: 8.0499e-04 - val_loss: 0.0751\n",
            "Epoch 27/100\n",
            "15/15 - 1s - loss: 7.1056e-04 - val_loss: 0.0760\n",
            "Epoch 28/100\n",
            "15/15 - 1s - loss: 6.5231e-04 - val_loss: 0.0766\n",
            "Epoch 29/100\n",
            "15/15 - 1s - loss: 6.3231e-04 - val_loss: 0.0742\n",
            "Epoch 30/100\n",
            "15/15 - 1s - loss: 6.6935e-04 - val_loss: 0.0753\n",
            "Epoch 31/100\n",
            "15/15 - 1s - loss: 6.2061e-04 - val_loss: 0.0760\n",
            "Epoch 32/100\n",
            "15/15 - 1s - loss: 6.9492e-04 - val_loss: 0.0769\n",
            "Epoch 33/100\n",
            "15/15 - 1s - loss: 8.5535e-04 - val_loss: 0.0789\n",
            "Epoch 34/100\n",
            "15/15 - 1s - loss: 7.2549e-04 - val_loss: 0.0780\n",
            "Epoch 35/100\n",
            "15/15 - 1s - loss: 6.0397e-04 - val_loss: 0.0789\n",
            "Epoch 36/100\n",
            "15/15 - 1s - loss: 6.8619e-04 - val_loss: 0.0797\n",
            "Epoch 37/100\n",
            "15/15 - 1s - loss: 7.6738e-04 - val_loss: 0.0823\n",
            "Epoch 38/100\n",
            "15/15 - 1s - loss: 7.3054e-04 - val_loss: 0.0789\n",
            "Epoch 39/100\n",
            "15/15 - 1s - loss: 7.2336e-04 - val_loss: 0.0780\n",
            "Epoch 40/100\n",
            "15/15 - 1s - loss: 6.4604e-04 - val_loss: 0.0754\n",
            "Epoch 41/100\n",
            "15/15 - 1s - loss: 6.0676e-04 - val_loss: 0.0763\n",
            "Epoch 42/100\n",
            "15/15 - 1s - loss: 7.1439e-04 - val_loss: 0.0750\n",
            "Epoch 43/100\n",
            "15/15 - 1s - loss: 6.0699e-04 - val_loss: 0.0742\n",
            "Epoch 44/100\n",
            "15/15 - 1s - loss: 6.5271e-04 - val_loss: 0.0744\n",
            "Epoch 45/100\n",
            "15/15 - 1s - loss: 5.5528e-04 - val_loss: 0.0751\n",
            "Epoch 46/100\n",
            "15/15 - 1s - loss: 5.9924e-04 - val_loss: 0.0753\n",
            "Epoch 47/100\n",
            "15/15 - 1s - loss: 5.5567e-04 - val_loss: 0.0740\n",
            "Epoch 48/100\n",
            "15/15 - 1s - loss: 5.9071e-04 - val_loss: 0.0734\n",
            "Epoch 49/100\n",
            "15/15 - 1s - loss: 6.3506e-04 - val_loss: 0.0755\n",
            "Epoch 50/100\n",
            "15/15 - 1s - loss: 5.9885e-04 - val_loss: 0.0745\n",
            "Epoch 51/100\n",
            "15/15 - 1s - loss: 6.3111e-04 - val_loss: 0.0766\n",
            "Epoch 52/100\n",
            "15/15 - 1s - loss: 5.8371e-04 - val_loss: 0.0737\n",
            "Epoch 53/100\n",
            "15/15 - 1s - loss: 5.6145e-04 - val_loss: 0.0769\n",
            "Epoch 54/100\n",
            "15/15 - 1s - loss: 5.4442e-04 - val_loss: 0.0785\n",
            "Epoch 55/100\n",
            "15/15 - 1s - loss: 5.0070e-04 - val_loss: 0.0769\n",
            "Epoch 56/100\n",
            "15/15 - 1s - loss: 5.6698e-04 - val_loss: 0.0753\n",
            "Epoch 57/100\n",
            "15/15 - 1s - loss: 5.9575e-04 - val_loss: 0.0773\n",
            "Epoch 58/100\n",
            "15/15 - 1s - loss: 5.3606e-04 - val_loss: 0.0763\n",
            "Epoch 59/100\n",
            "15/15 - 1s - loss: 5.9672e-04 - val_loss: 0.0788\n",
            "Epoch 60/100\n",
            "15/15 - 1s - loss: 4.9960e-04 - val_loss: 0.0763\n",
            "Epoch 61/100\n",
            "15/15 - 1s - loss: 5.4559e-04 - val_loss: 0.0775\n",
            "Epoch 62/100\n",
            "15/15 - 1s - loss: 6.4612e-04 - val_loss: 0.0773\n",
            "Epoch 63/100\n",
            "15/15 - 1s - loss: 5.8790e-04 - val_loss: 0.0793\n",
            "Epoch 64/100\n",
            "15/15 - 1s - loss: 7.6489e-04 - val_loss: 0.0780\n",
            "Epoch 65/100\n",
            "15/15 - 1s - loss: 5.6228e-04 - val_loss: 0.0766\n",
            "Epoch 66/100\n",
            "15/15 - 1s - loss: 5.0060e-04 - val_loss: 0.0758\n",
            "Epoch 67/100\n",
            "15/15 - 1s - loss: 5.5351e-04 - val_loss: 0.0771\n",
            "Epoch 68/100\n",
            "15/15 - 1s - loss: 5.0727e-04 - val_loss: 0.0783\n",
            "Epoch 69/100\n",
            "15/15 - 1s - loss: 4.9217e-04 - val_loss: 0.0764\n",
            "Epoch 70/100\n",
            "15/15 - 1s - loss: 5.8927e-04 - val_loss: 0.0782\n",
            "Epoch 71/100\n",
            "15/15 - 1s - loss: 5.5778e-04 - val_loss: 0.0791\n",
            "Epoch 72/100\n",
            "15/15 - 1s - loss: 5.3664e-04 - val_loss: 0.0780\n",
            "Epoch 73/100\n",
            "15/15 - 1s - loss: 5.1477e-04 - val_loss: 0.0787\n",
            "Epoch 74/100\n",
            "15/15 - 1s - loss: 4.9534e-04 - val_loss: 0.0794\n",
            "Epoch 75/100\n",
            "15/15 - 1s - loss: 4.7720e-04 - val_loss: 0.0789\n",
            "Epoch 76/100\n",
            "15/15 - 1s - loss: 6.4117e-04 - val_loss: 0.0820\n",
            "Epoch 77/100\n",
            "15/15 - 1s - loss: 5.6982e-04 - val_loss: 0.0810\n",
            "Epoch 78/100\n",
            "15/15 - 1s - loss: 5.3040e-04 - val_loss: 0.0800\n",
            "Epoch 79/100\n",
            "15/15 - 1s - loss: 4.6937e-04 - val_loss: 0.0817\n",
            "Epoch 80/100\n",
            "15/15 - 1s - loss: 5.1206e-04 - val_loss: 0.0820\n",
            "Epoch 81/100\n",
            "15/15 - 1s - loss: 4.6822e-04 - val_loss: 0.0815\n",
            "Epoch 82/100\n",
            "15/15 - 1s - loss: 5.0486e-04 - val_loss: 0.0828\n",
            "Epoch 83/100\n",
            "15/15 - 1s - loss: 4.7395e-04 - val_loss: 0.0811\n",
            "Epoch 84/100\n",
            "15/15 - 1s - loss: 4.9612e-04 - val_loss: 0.0845\n",
            "Epoch 85/100\n",
            "15/15 - 1s - loss: 4.7420e-04 - val_loss: 0.0829\n",
            "Epoch 86/100\n",
            "15/15 - 1s - loss: 5.0224e-04 - val_loss: 0.0839\n",
            "Epoch 87/100\n",
            "15/15 - 1s - loss: 4.6876e-04 - val_loss: 0.0842\n",
            "Epoch 88/100\n",
            "15/15 - 1s - loss: 4.7941e-04 - val_loss: 0.0846\n",
            "Epoch 89/100\n",
            "15/15 - 1s - loss: 4.1456e-04 - val_loss: 0.0819\n",
            "Epoch 90/100\n",
            "15/15 - 1s - loss: 4.5988e-04 - val_loss: 0.0830\n",
            "Epoch 91/100\n",
            "15/15 - 1s - loss: 4.8815e-04 - val_loss: 0.0828\n",
            "Epoch 92/100\n",
            "15/15 - 1s - loss: 5.2272e-04 - val_loss: 0.0837\n",
            "Epoch 93/100\n",
            "15/15 - 1s - loss: 6.4182e-04 - val_loss: 0.0872\n",
            "Epoch 94/100\n",
            "15/15 - 1s - loss: 5.2021e-04 - val_loss: 0.0867\n",
            "Epoch 95/100\n",
            "15/15 - 1s - loss: 4.3387e-04 - val_loss: 0.0839\n",
            "Epoch 96/100\n",
            "15/15 - 1s - loss: 4.3557e-04 - val_loss: 0.0823\n",
            "Epoch 97/100\n",
            "15/15 - 1s - loss: 4.6696e-04 - val_loss: 0.0817\n",
            "Epoch 98/100\n",
            "15/15 - 1s - loss: 4.4410e-04 - val_loss: 0.0839\n",
            "Epoch 99/100\n",
            "15/15 - 1s - loss: 4.6023e-04 - val_loss: 0.0841\n",
            "Epoch 100/100\n",
            "15/15 - 1s - loss: 3.8982e-04 - val_loss: 0.0827\n"
          ],
          "name": "stdout"
        },
        {
          "output_type": "execute_result",
          "data": {
            "text/plain": [
              "<tensorflow.python.keras.callbacks.History at 0x7fd86a292860>"
            ]
          },
          "metadata": {
            "tags": []
          },
          "execution_count": 68
        }
      ]
    },
    {
      "cell_type": "code",
      "metadata": {
        "colab_type": "code",
        "id": "Tc0bACRmngVt",
        "colab": {}
      },
      "source": [
        "final_train,final_test = create_dataset(df1,100)"
      ],
      "execution_count": 69,
      "outputs": []
    },
    {
      "cell_type": "code",
      "metadata": {
        "colab_type": "code",
        "id": "LoCbM0Iqnz_x",
        "colab": {}
      },
      "source": [
        "#reshape\n",
        "final_train = final_train.reshape(final_train.shape[0],final_train.shape[1],1)"
      ],
      "execution_count": 70,
      "outputs": []
    },
    {
      "cell_type": "code",
      "metadata": {
        "colab_type": "code",
        "id": "UK-7ypKanoap",
        "colab": {
          "base_uri": "https://localhost:8080/",
          "height": 1000
        },
        "outputId": "a95dbf26-afe6-4683-e4ed-6822fe15ecf9"
      },
      "source": [
        "model.fit(final_train,final_test,epochs=100,batch_size=64,verbose=2)"
      ],
      "execution_count": 71,
      "outputs": [
        {
          "output_type": "stream",
          "text": [
            "Epoch 1/100\n",
            "19/19 - 2s - loss: 0.0050\n",
            "Epoch 2/100\n",
            "19/19 - 2s - loss: 0.0029\n",
            "Epoch 3/100\n",
            "19/19 - 2s - loss: 0.0025\n",
            "Epoch 4/100\n",
            "19/19 - 2s - loss: 0.0023\n",
            "Epoch 5/100\n",
            "19/19 - 2s - loss: 0.0028\n",
            "Epoch 6/100\n",
            "19/19 - 2s - loss: 0.0021\n",
            "Epoch 7/100\n",
            "19/19 - 2s - loss: 0.0019\n",
            "Epoch 8/100\n",
            "19/19 - 2s - loss: 0.0019\n",
            "Epoch 9/100\n",
            "19/19 - 2s - loss: 0.0020\n",
            "Epoch 10/100\n",
            "19/19 - 2s - loss: 0.0022\n",
            "Epoch 11/100\n",
            "19/19 - 2s - loss: 0.0021\n",
            "Epoch 12/100\n",
            "19/19 - 2s - loss: 0.0017\n",
            "Epoch 13/100\n",
            "19/19 - 2s - loss: 0.0016\n",
            "Epoch 14/100\n",
            "19/19 - 2s - loss: 0.0018\n",
            "Epoch 15/100\n",
            "19/19 - 2s - loss: 0.0016\n",
            "Epoch 16/100\n",
            "19/19 - 2s - loss: 0.0015\n",
            "Epoch 17/100\n",
            "19/19 - 2s - loss: 0.0018\n",
            "Epoch 18/100\n",
            "19/19 - 2s - loss: 0.0016\n",
            "Epoch 19/100\n",
            "19/19 - 2s - loss: 0.0015\n",
            "Epoch 20/100\n",
            "19/19 - 2s - loss: 0.0016\n",
            "Epoch 21/100\n",
            "19/19 - 2s - loss: 0.0014\n",
            "Epoch 22/100\n",
            "19/19 - 2s - loss: 0.0015\n",
            "Epoch 23/100\n",
            "19/19 - 2s - loss: 0.0018\n",
            "Epoch 24/100\n",
            "19/19 - 2s - loss: 0.0013\n",
            "Epoch 25/100\n",
            "19/19 - 2s - loss: 0.0013\n",
            "Epoch 26/100\n",
            "19/19 - 2s - loss: 0.0018\n",
            "Epoch 27/100\n",
            "19/19 - 2s - loss: 0.0015\n",
            "Epoch 28/100\n",
            "19/19 - 2s - loss: 0.0016\n",
            "Epoch 29/100\n",
            "19/19 - 2s - loss: 0.0015\n",
            "Epoch 30/100\n",
            "19/19 - 2s - loss: 0.0015\n",
            "Epoch 31/100\n",
            "19/19 - 2s - loss: 0.0013\n",
            "Epoch 32/100\n",
            "19/19 - 2s - loss: 0.0013\n",
            "Epoch 33/100\n",
            "19/19 - 2s - loss: 0.0013\n",
            "Epoch 34/100\n",
            "19/19 - 2s - loss: 0.0014\n",
            "Epoch 35/100\n",
            "19/19 - 2s - loss: 0.0014\n",
            "Epoch 36/100\n",
            "19/19 - 2s - loss: 0.0014\n",
            "Epoch 37/100\n",
            "19/19 - 2s - loss: 0.0014\n",
            "Epoch 38/100\n",
            "19/19 - 2s - loss: 0.0013\n",
            "Epoch 39/100\n",
            "19/19 - 2s - loss: 0.0012\n",
            "Epoch 40/100\n",
            "19/19 - 2s - loss: 0.0014\n",
            "Epoch 41/100\n",
            "19/19 - 2s - loss: 0.0014\n",
            "Epoch 42/100\n",
            "19/19 - 2s - loss: 0.0012\n",
            "Epoch 43/100\n",
            "19/19 - 2s - loss: 0.0013\n",
            "Epoch 44/100\n",
            "19/19 - 2s - loss: 0.0012\n",
            "Epoch 45/100\n",
            "19/19 - 2s - loss: 0.0013\n",
            "Epoch 46/100\n",
            "19/19 - 2s - loss: 0.0013\n",
            "Epoch 47/100\n",
            "19/19 - 2s - loss: 0.0012\n",
            "Epoch 48/100\n",
            "19/19 - 2s - loss: 0.0012\n",
            "Epoch 49/100\n",
            "19/19 - 2s - loss: 0.0013\n",
            "Epoch 50/100\n",
            "19/19 - 2s - loss: 0.0012\n",
            "Epoch 51/100\n",
            "19/19 - 2s - loss: 0.0013\n",
            "Epoch 52/100\n",
            "19/19 - 2s - loss: 0.0014\n",
            "Epoch 53/100\n",
            "19/19 - 2s - loss: 0.0014\n",
            "Epoch 54/100\n",
            "19/19 - 2s - loss: 0.0012\n",
            "Epoch 55/100\n",
            "19/19 - 2s - loss: 0.0012\n",
            "Epoch 56/100\n",
            "19/19 - 2s - loss: 0.0013\n",
            "Epoch 57/100\n",
            "19/19 - 2s - loss: 0.0012\n",
            "Epoch 58/100\n",
            "19/19 - 2s - loss: 0.0012\n",
            "Epoch 59/100\n",
            "19/19 - 2s - loss: 0.0012\n",
            "Epoch 60/100\n",
            "19/19 - 2s - loss: 0.0012\n",
            "Epoch 61/100\n",
            "19/19 - 2s - loss: 0.0012\n",
            "Epoch 62/100\n",
            "19/19 - 2s - loss: 0.0013\n",
            "Epoch 63/100\n",
            "19/19 - 2s - loss: 0.0014\n",
            "Epoch 64/100\n",
            "19/19 - 2s - loss: 0.0012\n",
            "Epoch 65/100\n",
            "19/19 - 2s - loss: 0.0013\n",
            "Epoch 66/100\n",
            "19/19 - 2s - loss: 0.0012\n",
            "Epoch 67/100\n",
            "19/19 - 2s - loss: 0.0013\n",
            "Epoch 68/100\n",
            "19/19 - 2s - loss: 0.0012\n",
            "Epoch 69/100\n",
            "19/19 - 2s - loss: 0.0014\n",
            "Epoch 70/100\n",
            "19/19 - 2s - loss: 0.0014\n",
            "Epoch 71/100\n",
            "19/19 - 2s - loss: 0.0011\n",
            "Epoch 72/100\n",
            "19/19 - 2s - loss: 0.0012\n",
            "Epoch 73/100\n",
            "19/19 - 2s - loss: 0.0011\n",
            "Epoch 74/100\n",
            "19/19 - 2s - loss: 0.0012\n",
            "Epoch 75/100\n",
            "19/19 - 2s - loss: 0.0013\n",
            "Epoch 76/100\n",
            "19/19 - 2s - loss: 0.0012\n",
            "Epoch 77/100\n",
            "19/19 - 2s - loss: 0.0012\n",
            "Epoch 78/100\n",
            "19/19 - 2s - loss: 0.0011\n",
            "Epoch 79/100\n",
            "19/19 - 2s - loss: 0.0015\n",
            "Epoch 80/100\n",
            "19/19 - 2s - loss: 0.0019\n",
            "Epoch 81/100\n",
            "19/19 - 2s - loss: 0.0013\n",
            "Epoch 82/100\n",
            "19/19 - 2s - loss: 0.0012\n",
            "Epoch 83/100\n",
            "19/19 - 2s - loss: 0.0013\n",
            "Epoch 84/100\n",
            "19/19 - 2s - loss: 0.0012\n",
            "Epoch 85/100\n",
            "19/19 - 2s - loss: 0.0012\n",
            "Epoch 86/100\n",
            "19/19 - 2s - loss: 0.0010\n",
            "Epoch 87/100\n",
            "19/19 - 2s - loss: 0.0012\n",
            "Epoch 88/100\n",
            "19/19 - 2s - loss: 0.0012\n",
            "Epoch 89/100\n",
            "19/19 - 2s - loss: 0.0013\n",
            "Epoch 90/100\n",
            "19/19 - 2s - loss: 0.0012\n",
            "Epoch 91/100\n",
            "19/19 - 2s - loss: 0.0013\n",
            "Epoch 92/100\n",
            "19/19 - 2s - loss: 0.0011\n",
            "Epoch 93/100\n",
            "19/19 - 2s - loss: 0.0011\n",
            "Epoch 94/100\n",
            "19/19 - 2s - loss: 0.0012\n",
            "Epoch 95/100\n",
            "19/19 - 2s - loss: 0.0012\n",
            "Epoch 96/100\n",
            "19/19 - 2s - loss: 0.0010\n",
            "Epoch 97/100\n",
            "19/19 - 2s - loss: 0.0012\n",
            "Epoch 98/100\n",
            "19/19 - 2s - loss: 0.0012\n",
            "Epoch 99/100\n",
            "19/19 - 2s - loss: 0.0012\n",
            "Epoch 100/100\n",
            "19/19 - 2s - loss: 0.0013\n"
          ],
          "name": "stdout"
        },
        {
          "output_type": "execute_result",
          "data": {
            "text/plain": [
              "<tensorflow.python.keras.callbacks.History at 0x7fd867af2fd0>"
            ]
          },
          "metadata": {
            "tags": []
          },
          "execution_count": 71
        }
      ]
    },
    {
      "cell_type": "markdown",
      "metadata": {
        "colab_type": "text",
        "id": "FVMGQo1de_Wb"
      },
      "source": [
        "# Predict the plot outcome"
      ]
    },
    {
      "cell_type": "code",
      "metadata": {
        "colab_type": "code",
        "id": "Hyvjfjuue_Wb",
        "colab": {}
      },
      "source": [
        "train_predict = model.predict(X_train)\n",
        "test_predict = model.predict(X_test)"
      ],
      "execution_count": 72,
      "outputs": []
    },
    {
      "cell_type": "code",
      "metadata": {
        "colab_type": "code",
        "id": "zH2k0qv4e_We",
        "colab": {
          "base_uri": "https://localhost:8080/",
          "height": 34
        },
        "outputId": "245c5792-c12a-4c79-d03b-8f12c3d1fe7e"
      },
      "source": [
        "from sklearn.metrics import mean_squared_error\n",
        "np.sqrt(mean_squared_error(y_train,train_predict))"
      ],
      "execution_count": 73,
      "outputs": [
        {
          "output_type": "execute_result",
          "data": {
            "text/plain": [
              "0.01305516949678191"
            ]
          },
          "metadata": {
            "tags": []
          },
          "execution_count": 73
        }
      ]
    },
    {
      "cell_type": "code",
      "metadata": {
        "colab_type": "code",
        "id": "PUGqHP9xe_Wh",
        "colab": {
          "base_uri": "https://localhost:8080/",
          "height": 34
        },
        "outputId": "8b810c48-32e0-48a1-c243-9062992774f4"
      },
      "source": [
        "np.sqrt(mean_squared_error(y_test,test_predict))"
      ],
      "execution_count": 74,
      "outputs": [
        {
          "output_type": "execute_result",
          "data": {
            "text/plain": [
              "0.07259471452885786"
            ]
          },
          "metadata": {
            "tags": []
          },
          "execution_count": 74
        }
      ]
    },
    {
      "cell_type": "code",
      "metadata": {
        "colab_type": "code",
        "id": "Eq8OmP_oe_Wk",
        "colab": {
          "base_uri": "https://localhost:8080/",
          "height": 34
        },
        "outputId": "3b6ab4f2-55b2-4cd4-bfe5-b33679bab4bd"
      },
      "source": [
        "len(test_data)"
      ],
      "execution_count": 75,
      "outputs": [
        {
          "output_type": "execute_result",
          "data": {
            "text/plain": [
              "252"
            ]
          },
          "metadata": {
            "tags": []
          },
          "execution_count": 75
        }
      ]
    },
    {
      "cell_type": "code",
      "metadata": {
        "colab_type": "code",
        "id": "JgVy7yOVe_Wn",
        "colab": {
          "base_uri": "https://localhost:8080/",
          "height": 265
        },
        "outputId": "efcda9a6-03d4-4b19-ea88-51a1f58c1894"
      },
      "source": [
        "\n",
        "### Plotting \n",
        "# shift train predictions for plotting\n",
        "look_back=100\n",
        "trainPredictPlot = np.empty_like(df1)\n",
        "trainPredictPlot[:, :] = np.nan\n",
        "trainPredictPlot[look_back:len(train_predict)+look_back, :] = train_predict\n",
        "# shift test predictions for plotting\n",
        "testPredictPlot = np.empty_like(df1)\n",
        "testPredictPlot[:, :] = np.nan\n",
        "testPredictPlot[len(train_predict)+(look_back*2)+1:len(df1)-1, :] = test_predict\n",
        "# plot baseline and predictions\n",
        "plt.plot(scaler.inverse_transform(df1))\n",
        "plt.plot(scaler.inverse_transform(trainPredictPlot))\n",
        "plt.plot(scaler.inverse_transform(testPredictPlot))\n",
        "plt.show()"
      ],
      "execution_count": 76,
      "outputs": [
        {
          "output_type": "display_data",
          "data": {
            "image/png": "[encoded data removed]",
            "text/plain": [
              "<Figure size 432x288 with 1 Axes>"
            ]
          },
          "metadata": {
            "tags": [],
            "needs_background": "light"
          }
        }
      ]
    },
    {
      "cell_type": "markdown",
      "metadata": {
        "colab_type": "text",
        "id": "OOL9ooGAe_Wq"
      },
      "source": [
        "# Predict the next 30 days"
      ]
    },
    {
      "cell_type": "code",
      "metadata": {
        "colab_type": "code",
        "id": "HOTXCvVue_Wr",
        "colab": {
          "base_uri": "https://localhost:8080/",
          "height": 34
        },
        "outputId": "db13e4e3-1b8a-4f7a-f886-e9b3aeb2b7a5"
      },
      "source": [
        "len(test_data)"
      ],
      "execution_count": 77,
      "outputs": [
        {
          "output_type": "execute_result",
          "data": {
            "text/plain": [
              "252"
            ]
          },
          "metadata": {
            "tags": []
          },
          "execution_count": 77
        }
      ]
    },
    {
      "cell_type": "code",
      "metadata": {
        "colab_type": "code",
        "id": "mH7yBkgSe_Wt",
        "colab": {
          "base_uri": "https://localhost:8080/",
          "height": 34
        },
        "outputId": "2be147c7-2983-4759-c2c0-0b0d270348ca"
      },
      "source": [
        "x_input=test_data[len(test_data)-100:].reshape(1,-1)\n",
        "x_input.shape"
      ],
      "execution_count": 78,
      "outputs": [
        {
          "output_type": "execute_result",
          "data": {
            "text/plain": [
              "(1, 100)"
            ]
          },
          "metadata": {
            "tags": []
          },
          "execution_count": 78
        }
      ]
    },
    {
      "cell_type": "code",
      "metadata": {
        "colab_type": "code",
        "id": "Cy581fOce_Wv",
        "colab": {}
      },
      "source": [
        "temp_input=list(x_input)\n",
        "temp_input=temp_input[0].tolist()"
      ],
      "execution_count": 79,
      "outputs": []
    },
    {
      "cell_type": "code",
      "metadata": {
        "colab_type": "code",
        "id": "u3r_zOTVe_Wx",
        "colab": {}
      },
      "source": [
        "# demonstrate prediction for next 10 days\n",
        "from numpy import array\n",
        "\n",
        "lst_output=[]\n",
        "n_steps=100\n",
        "i=0\n",
        "days = 30\n",
        "while(i<days):\n",
        "    \n",
        "    if(len(temp_input)>100):\n",
        "        x_input=np.array(temp_input[1:])\n",
        "        x_input=x_input.reshape(1,-1)\n",
        "        x_input = x_input.reshape((1, n_steps, 1))\n",
        "        yhat = model.predict(x_input, verbose=0)\n",
        "        temp_input.extend(yhat[0].tolist())\n",
        "        temp_input=temp_input[1:]\n",
        "        lst_output.extend(yhat.tolist())\n",
        "        i=i+1\n",
        "    else:\n",
        "        x_input = x_input.reshape((1, n_steps,1))\n",
        "        yhat = model.predict(x_input, verbose=0)\n",
        "        temp_input.extend(yhat[0].tolist())\n",
        "        lst_output.extend(yhat.tolist())\n",
        "        i=i+1\n",
        "    "
      ],
      "execution_count": 80,
      "outputs": []
    },
    {
      "cell_type": "code",
      "metadata": {
        "colab_type": "code",
        "id": "h2Aennyse_W0",
        "colab": {}
      },
      "source": [
        "day_new=np.arange(1,101)\n",
        "day_pred=np.arange(101,101+days)"
      ],
      "execution_count": 81,
      "outputs": []
    },
    {
      "cell_type": "code",
      "metadata": {
        "colab_type": "code",
        "id": "LUDSXnPZe_W3",
        "colab": {
          "base_uri": "https://localhost:8080/",
          "height": 34
        },
        "outputId": "e5ca74a6-b9fa-4250-f1e5-0f87cb603a0e"
      },
      "source": [
        "len(df1)"
      ],
      "execution_count": 82,
      "outputs": [
        {
          "output_type": "execute_result",
          "data": {
            "text/plain": [
              "1257"
            ]
          },
          "metadata": {
            "tags": []
          },
          "execution_count": 82
        }
      ]
    },
    {
      "cell_type": "code",
      "metadata": {
        "colab_type": "code",
        "id": "GsV8TMBRe_W5",
        "colab": {
          "base_uri": "https://localhost:8080/",
          "height": 282
        },
        "outputId": "67fc220f-d126-40fb-cdd2-ebec672fc348"
      },
      "source": [
        "plt.plot(day_new,scaler.inverse_transform(df1[len(df1)-100:]))\n",
        "plt.plot(day_pred,scaler.inverse_transform(lst_output))"
      ],
      "execution_count": 83,
      "outputs": [
        {
          "output_type": "execute_result",
          "data": {
            "text/plain": [
              "[<matplotlib.lines.Line2D at 0x7fd86780f1d0>]"
            ]
          },
          "metadata": {
            "tags": []
          },
          "execution_count": 83
        },
        {
          "output_type": "display_data",
          "data": {
            "image/png": "[encoded data removed]",
            "text/plain": [
              "<Figure size 432x288 with 1 Axes>"
            ]
          },
          "metadata": {
            "tags": [],
            "needs_background": "light"
          }
        }
      ]
    },
    {
      "cell_type": "code",
      "metadata": {
        "colab_type": "code",
        "id": "A4TwNAkUe_W8",
        "colab": {
          "base_uri": "https://localhost:8080/",
          "height": 282
        },
        "outputId": "61816746-38db-44c7-9681-87a50a8049eb"
      },
      "source": [
        "df3=df1.tolist()\n",
        "df3.extend(lst_output)\n",
        "plt.plot(scaler.inverse_transform(df3[1200:]))"
      ],
      "execution_count": 84,
      "outputs": [
        {
          "output_type": "execute_result",
          "data": {
            "text/plain": [
              "[<matplotlib.lines.Line2D at 0x7fd867699198>]"
            ]
          },
          "metadata": {
            "tags": []
          },
          "execution_count": 84
        },
        {
          "output_type": "display_data",
          "data": {
            "image/png": "[encoded data removed]",
            "text/plain": [
              "<Figure size 432x288 with 1 Axes>"
            ]
          },
          "metadata": {
            "tags": [],
            "needs_background": "light"
          }
        }
      ]
    },
    {
      "cell_type": "code",
      "metadata": {
        "colab_type": "code",
        "id": "Khy3EbrZe_W-",
        "colab": {
          "base_uri": "https://localhost:8080/",
          "height": 282
        },
        "outputId": "e943e588-f131-4109-e85f-92a850f9184a"
      },
      "source": [
        "df3=scaler.inverse_transform(df3).tolist()\n",
        "plt.plot(df3)"
      ],
      "execution_count": 85,
      "outputs": [
        {
          "output_type": "execute_result",
          "data": {
            "text/plain": [
              "[<matplotlib.lines.Line2D at 0x7fd867676518>]"
            ]
          },
          "metadata": {
            "tags": []
          },
          "execution_count": 85
        },
        {
          "output_type": "display_data",
          "data": {
            "image/png": "[encoded data removed]",
            "text/plain": [
              "<Figure size 432x288 with 1 Axes>"
            ]
          },
          "metadata": {
            "tags": [],
            "needs_background": "light"
          }
        }
      ]
    },
    {
      "cell_type": "code",
      "metadata": {
        "colab_type": "code",
        "id": "Hd0Cqew0fh88",
        "colab": {
          "base_uri": "https://localhost:8080/",
          "height": 1000
        },
        "outputId": "c479cce3-5517-49c2-db9a-36bb6d62795d"
      },
      "source": [
        "temp_input"
      ],
      "execution_count": 86,
      "outputs": [
        {
          "output_type": "execute_result",
          "data": {
            "text/plain": [
              "[0.5474443776307878,\n",
              " 0.5568490679494889,\n",
              " 0.5604329524954901,\n",
              " 0.5647143716175587,\n",
              " 0.5579795550210462,\n",
              " 0.5800601322910404,\n",
              " 0.584774503908599,\n",
              " 0.6101022248947685,\n",
              " 0.6313890559230306,\n",
              " 0.5906434155141311,\n",
              " 0.5976187612748045,\n",
              " 0.607696933253157,\n",
              " 0.6295610342754059,\n",
              " 0.6283824413710162,\n",
              " 0.628719182200842,\n",
              " 0.6238845460012028,\n",
              " 0.6458929645219482,\n",
              " 0.6643174984966926,\n",
              " 0.6487552615754661,\n",
              " 0.6602525556223691,\n",
              " 0.6332892363199039,\n",
              " 0.6528923631990378,\n",
              " 0.6601563439567049,\n",
              " 0.6584966927239928,\n",
              " 0.6584966927239928,\n",
              " 0.6819242333132893,\n",
              " 0.6791340950090199,\n",
              " 0.7000120264582081,\n",
              " 0.7039567047504509,\n",
              " 0.7055682501503309,\n",
              " 0.7013108839446784,\n",
              " 0.7165123271196634,\n",
              " 0.7229344558027659,\n",
              " 0.7113650030066145,\n",
              " 0.7094888755261575,\n",
              " 0.7290198436560433,\n",
              " 0.7159591100420926,\n",
              " 0.7185808779314491,\n",
              " 0.6759831629585087,\n",
              " 0.673770294648226,\n",
              " 0.6948887552615755,\n",
              " 0.6799037883343355,\n",
              " 0.6971016235718581,\n",
              " 0.7081659651232712,\n",
              " 0.8050511124473845,\n",
              " 0.830811785929044,\n",
              " 0.8378111846061336,\n",
              " 0.841635598316296,\n",
              " 0.8785808779314492,\n",
              " 0.8517378232110644,\n",
              " 0.8672760072158752,\n",
              " 0.8350210463018641,\n",
              " 0.8699939867708961,\n",
              " 0.8892363199037885,\n",
              " 0.8882501503307276,\n",
              " 0.8853638003607938,\n",
              " 0.89455201443175,\n",
              " 0.8959470835838845,\n",
              " 0.9206494287432352,\n",
              " 0.9792904389657247,\n",
              " 0.9936019242333134,\n",
              " 0.9836680697534577,\n",
              " 1.0,\n",
              " 0.9854479855682503,\n",
              " 0.983499699338545,\n",
              " 0.09308478653036678,\n",
              " 0.10544798556825014,\n",
              " 0.09876127480457003,\n",
              " 0.07345760673481655,\n",
              " 0.07365003006614551,\n",
              " 0.05407095610342749,\n",
              " 0.05371105298399925,\n",
              " 0.05011256784200668,\n",
              " 0.04731883853673935,\n",
              " 0.04530925676226616,\n",
              " 0.044094108045101166,\n",
              " 0.04354485496878624,\n",
              " 0.043627191334962845,\n",
              " 0.044324178248643875,\n",
              " 0.04563654959201813,\n",
              " 0.047127872705459595,\n",
              " 0.048462897539138794,\n",
              " 0.04956568777561188,\n",
              " 0.050408877432346344,\n",
              " 0.05106807127594948,\n",
              " 0.05166427046060562,\n",
              " 0.052296269685029984,\n",
              " 0.053009673953056335,\n",
              " 0.05381377413868904,\n",
              " 0.054697874933481216,\n",
              " 0.055649224668741226,\n",
              " 0.05666077136993408,\n",
              " 0.05773281678557396,\n",
              " 0.05887182801961899,\n",
              " 0.060086749494075775,\n",
              " 0.061383187770843506,\n",
              " 0.06277039647102356,\n",
              " 0.06425514072179794,\n",
              " 0.06584326177835464,\n",
              " 0.06754111498594284,\n",
              " 0.06935647875070572]"
            ]
          },
          "metadata": {
            "tags": []
          },
          "execution_count": 86
        }
      ]
    },
    {
      "cell_type": "code",
      "metadata": {
        "colab_type": "code",
        "id": "51xmVtRER7t_",
        "colab": {}
      },
      "source": [
        ""
      ],
      "execution_count": 86,
      "outputs": []
    },
    {
      "cell_type": "code",
      "metadata": {
        "id": "_4UENuWht9De",
        "colab_type": "code",
        "colab": {}
      },
      "source": [
        ""
      ],
      "execution_count": 86,
      "outputs": []
    },
    {
      "cell_type": "code",
      "metadata": {
        "id": "2tTMwW4Ft9Dh",
        "colab_type": "code",
        "colab": {}
      },
      "source": [
        ""
      ],
      "execution_count": 86,
      "outputs": []
    }
  ]
}