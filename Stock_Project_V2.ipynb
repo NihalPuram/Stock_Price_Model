{
  "nbformat": 4,
  "nbformat_minor": 0,
  "metadata": {
    "accelerator": "GPU",
    "colab": {
      "name": "Copy of Stock_Project V2.ipynb",
      "provenance": [],
      "toc_visible": true,
      "include_colab_link": true
    },
    "kernelspec": {
      "display_name": "Python 3",
      "language": "python",
      "name": "python3"
    },
    "language_info": {
      "codemirror_mode": {
        "name": "ipython",
        "version": 3
      },
      "file_extension": ".py",
      "mimetype": "text/x-python",
      "name": "python",
      "nbconvert_exporter": "python",
      "pygments_lexer": "ipython3",
      "version": "3.7.9"
    }
  },
  "cells": [
    {
      "cell_type": "markdown",
      "metadata": {
        "id": "view-in-github",
        "colab_type": "text"
      },
      "source": [
        "<a href=\"https://colab.research.google.com/github/NihalPuram/Stock_Price_Model/blob/master/Stock_Project_V2.ipynb\" target=\"_parent\"><img src=\"https://colab.research.google.com/assets/colab-badge.svg\" alt=\"Open In Colab\"/></a>"
      ]
    },
    {
      "cell_type": "markdown",
      "metadata": {
        "id": "zK_PK58THDCs",
        "colab_type": "text"
      },
      "source": [
        "This is a program that uses a artificial reccurant neural network called long short term memory (LSTM) to predict the stock price (ie for example we have the stock price of Coca-cola)"
      ]
    },
    {
      "cell_type": "markdown",
      "metadata": {
        "colab_type": "text",
        "id": "hiDyLOrue_VX"
      },
      "source": [
        "# Gathering Data"
      ]
    },
    {
      "cell_type": "markdown",
      "metadata": {
        "id": "JP-jyhH6H9KJ",
        "colab_type": "text"
      },
      "source": [
        "This is our first step in gathering data. Iam using the tiingo api to download the data. For you to run this, simply login to tiingo's website and enter your api_key. Change the \"stock\" variable to change the stock you are viewing."
      ]
    },
    {
      "cell_type": "code",
      "metadata": {
        "colab_type": "code",
        "id": "zeDLxHEke_VZ",
        "colab": {}
      },
      "source": [
        "import pandas_datareader as pdr"
      ],
      "execution_count": 43,
      "outputs": []
    },
    {
      "cell_type": "code",
      "metadata": {
        "id": "UfUsPMEhIWX5",
        "colab_type": "code",
        "colab": {}
      },
      "source": [
        "stock = \"KO\""
      ],
      "execution_count": 44,
      "outputs": []
    },
    {
      "cell_type": "code",
      "metadata": {
        "colab_type": "code",
        "id": "UtBpJAgje_Vc",
        "colab": {}
      },
      "source": [
        "df = pdr.get_data_tiingo(stock,api_key='01242f1841e2df26cc68cb4785d24b58cc1e60c8')"
      ],
      "execution_count": 45,
      "outputs": []
    },
    {
      "cell_type": "code",
      "metadata": {
        "colab_type": "code",
        "id": "a9UsD7bVe_Vf",
        "colab": {}
      },
      "source": [
        "df.to_csv('DATA.csv')"
      ],
      "execution_count": 46,
      "outputs": []
    },
    {
      "cell_type": "code",
      "metadata": {
        "colab_type": "code",
        "id": "0I_CwFURe_Vm",
        "colab": {}
      },
      "source": [
        "import pandas as pd\n",
        "\n",
        "df = pd.read_csv(\"DATA.csv\")"
      ],
      "execution_count": 47,
      "outputs": []
    },
    {
      "cell_type": "code",
      "metadata": {
        "colab_type": "code",
        "id": "iZHUhxsxbeTp",
        "colab": {
          "base_uri": "https://localhost:8080/",
          "height": 309
        },
        "outputId": "2af0092b-bdb7-4152-a625-1b7270712f2c"
      },
      "source": [
        "df.head()"
      ],
      "execution_count": 48,
      "outputs": [
        {
          "output_type": "execute_result",
          "data": {
            "text/html": [
              "<div>\n",
              "<style scoped>\n",
              "    .dataframe tbody tr th:only-of-type {\n",
              "        vertical-align: middle;\n",
              "    }\n",
              "\n",
              "    .dataframe tbody tr th {\n",
              "        vertical-align: top;\n",
              "    }\n",
              "\n",
              "    .dataframe thead th {\n",
              "        text-align: right;\n",
              "    }\n",
              "</style>\n",
              "<table border=\"1\" class=\"dataframe\">\n",
              "  <thead>\n",
              "    <tr style=\"text-align: right;\">\n",
              "      <th></th>\n",
              "      <th>symbol</th>\n",
              "      <th>date</th>\n",
              "      <th>close</th>\n",
              "      <th>high</th>\n",
              "      <th>low</th>\n",
              "      <th>open</th>\n",
              "      <th>volume</th>\n",
              "      <th>adjClose</th>\n",
              "      <th>adjHigh</th>\n",
              "      <th>adjLow</th>\n",
              "      <th>adjOpen</th>\n",
              "      <th>adjVolume</th>\n",
              "      <th>divCash</th>\n",
              "      <th>splitFactor</th>\n",
              "    </tr>\n",
              "  </thead>\n",
              "  <tbody>\n",
              "    <tr>\n",
              "      <th>0</th>\n",
              "      <td>KO</td>\n",
              "      <td>2015-09-11 00:00:00+00:00</td>\n",
              "      <td>38.13</td>\n",
              "      <td>38.19</td>\n",
              "      <td>37.84</td>\n",
              "      <td>38.01</td>\n",
              "      <td>11800440</td>\n",
              "      <td>32.634337</td>\n",
              "      <td>32.685689</td>\n",
              "      <td>32.386134</td>\n",
              "      <td>32.531632</td>\n",
              "      <td>11800440</td>\n",
              "      <td>0.33</td>\n",
              "      <td>1.0</td>\n",
              "    </tr>\n",
              "    <tr>\n",
              "      <th>1</th>\n",
              "      <td>KO</td>\n",
              "      <td>2015-09-14 00:00:00+00:00</td>\n",
              "      <td>38.10</td>\n",
              "      <td>38.22</td>\n",
              "      <td>37.85</td>\n",
              "      <td>38.22</td>\n",
              "      <td>8950014</td>\n",
              "      <td>32.608661</td>\n",
              "      <td>32.711365</td>\n",
              "      <td>32.394693</td>\n",
              "      <td>32.711365</td>\n",
              "      <td>8950014</td>\n",
              "      <td>0.00</td>\n",
              "      <td>1.0</td>\n",
              "    </tr>\n",
              "    <tr>\n",
              "      <th>2</th>\n",
              "      <td>KO</td>\n",
              "      <td>2015-09-15 00:00:00+00:00</td>\n",
              "      <td>38.50</td>\n",
              "      <td>38.63</td>\n",
              "      <td>37.92</td>\n",
              "      <td>38.07</td>\n",
              "      <td>13019802</td>\n",
              "      <td>32.951009</td>\n",
              "      <td>33.062272</td>\n",
              "      <td>32.454604</td>\n",
              "      <td>32.582984</td>\n",
              "      <td>13019802</td>\n",
              "      <td>0.00</td>\n",
              "      <td>1.0</td>\n",
              "    </tr>\n",
              "    <tr>\n",
              "      <th>3</th>\n",
              "      <td>KO</td>\n",
              "      <td>2015-09-16 00:00:00+00:00</td>\n",
              "      <td>39.15</td>\n",
              "      <td>39.19</td>\n",
              "      <td>38.47</td>\n",
              "      <td>38.67</td>\n",
              "      <td>22233131</td>\n",
              "      <td>33.507324</td>\n",
              "      <td>33.541559</td>\n",
              "      <td>32.925333</td>\n",
              "      <td>33.096507</td>\n",
              "      <td>22233131</td>\n",
              "      <td>0.00</td>\n",
              "      <td>1.0</td>\n",
              "    </tr>\n",
              "    <tr>\n",
              "      <th>4</th>\n",
              "      <td>KO</td>\n",
              "      <td>2015-09-17 00:00:00+00:00</td>\n",
              "      <td>39.38</td>\n",
              "      <td>39.61</td>\n",
              "      <td>39.04</td>\n",
              "      <td>39.15</td>\n",
              "      <td>21232475</td>\n",
              "      <td>33.704175</td>\n",
              "      <td>33.901025</td>\n",
              "      <td>33.413179</td>\n",
              "      <td>33.507324</td>\n",
              "      <td>21232475</td>\n",
              "      <td>0.00</td>\n",
              "      <td>1.0</td>\n",
              "    </tr>\n",
              "  </tbody>\n",
              "</table>\n",
              "</div>"
            ],
            "text/plain": [
              "  symbol                       date  close  ...  adjVolume  divCash  splitFactor\n",
              "0     KO  2015-09-11 00:00:00+00:00  38.13  ...   11800440     0.33          1.0\n",
              "1     KO  2015-09-14 00:00:00+00:00  38.10  ...    8950014     0.00          1.0\n",
              "2     KO  2015-09-15 00:00:00+00:00  38.50  ...   13019802     0.00          1.0\n",
              "3     KO  2015-09-16 00:00:00+00:00  39.15  ...   22233131     0.00          1.0\n",
              "4     KO  2015-09-17 00:00:00+00:00  39.38  ...   21232475     0.00          1.0\n",
              "\n",
              "[5 rows x 14 columns]"
            ]
          },
          "metadata": {
            "tags": []
          },
          "execution_count": 48
        }
      ]
    },
    {
      "cell_type": "code",
      "metadata": {
        "colab_type": "code",
        "id": "K7tONomke_Vt",
        "colab": {}
      },
      "source": [
        "df1=df.reset_index()['close']"
      ],
      "execution_count": 49,
      "outputs": []
    },
    {
      "cell_type": "code",
      "metadata": {
        "colab_type": "code",
        "id": "c3Qt5U1DbkN-",
        "colab": {
          "base_uri": "https://localhost:8080/",
          "height": 119
        },
        "outputId": "5efd67b1-cef7-45b8-de28-f9dbc2ccb269"
      },
      "source": [
        "df1.head()"
      ],
      "execution_count": 50,
      "outputs": [
        {
          "output_type": "execute_result",
          "data": {
            "text/plain": [
              "0    38.13\n",
              "1    38.10\n",
              "2    38.50\n",
              "3    39.15\n",
              "4    39.38\n",
              "Name: close, dtype: float64"
            ]
          },
          "metadata": {
            "tags": []
          },
          "execution_count": 50
        }
      ]
    },
    {
      "cell_type": "code",
      "metadata": {
        "colab_type": "code",
        "id": "RHbbxTMwe_Vv",
        "colab": {
          "base_uri": "https://localhost:8080/",
          "height": 282
        },
        "outputId": "2ad57a54-688a-45c5-fc52-0579b624d4de"
      },
      "source": [
        "import matplotlib.pyplot as plt\n",
        "plt.plot(df1)"
      ],
      "execution_count": 51,
      "outputs": [
        {
          "output_type": "execute_result",
          "data": {
            "text/plain": [
              "[<matplotlib.lines.Line2D at 0x7ff72b045748>]"
            ]
          },
          "metadata": {
            "tags": []
          },
          "execution_count": 51
        },
        {
          "output_type": "display_data",
          "data": {
            "image/png": "[encoded data removed]",
            "text/plain": [
              "<Figure size 432x288 with 1 Axes>"
            ]
          },
          "metadata": {
            "tags": [],
            "needs_background": "light"
          }
        }
      ]
    },
    {
      "cell_type": "code",
      "metadata": {
        "colab_type": "code",
        "id": "VUCVhUy4e_Vz",
        "colab": {}
      },
      "source": [
        "from sklearn.preprocessing import MinMaxScaler\n",
        "import numpy as np\n",
        "scaler = MinMaxScaler(feature_range=(0,1))\n",
        "df1=scaler.fit_transform(np.array(df1).reshape(-1,1))"
      ],
      "execution_count": 52,
      "outputs": []
    },
    {
      "cell_type": "code",
      "metadata": {
        "colab_type": "code",
        "id": "yniG723We_V2",
        "colab": {
          "base_uri": "https://localhost:8080/",
          "height": 34
        },
        "outputId": "fa461a30-1627-4644-d18c-b3f53ea90bb8"
      },
      "source": [
        "df1.shape"
      ],
      "execution_count": 53,
      "outputs": [
        {
          "output_type": "execute_result",
          "data": {
            "text/plain": [
              "(1257, 1)"
            ]
          },
          "metadata": {
            "tags": []
          },
          "execution_count": 53
        }
      ]
    },
    {
      "cell_type": "code",
      "metadata": {
        "colab_type": "code",
        "id": "73Z9-vOKe_V6",
        "scrolled": true,
        "colab": {
          "base_uri": "https://localhost:8080/",
          "height": 136
        },
        "outputId": "2dd5d98d-2394-40ca-ded1-00744ccca5c6"
      },
      "source": [
        "df1"
      ],
      "execution_count": 54,
      "outputs": [
        {
          "output_type": "execute_result",
          "data": {
            "text/plain": [
              "array([[0.02525476],\n",
              "       [0.02392556],\n",
              "       [0.04164821],\n",
              "       ...,\n",
              "       [0.57244129],\n",
              "       [0.59725299],\n",
              "       [0.54275587]])"
            ]
          },
          "metadata": {
            "tags": []
          },
          "execution_count": 54
        }
      ]
    },
    {
      "cell_type": "markdown",
      "metadata": {
        "colab_type": "text",
        "id": "PhzRYawwe_V8"
      },
      "source": [
        "# Train-Test split"
      ]
    },
    {
      "cell_type": "markdown",
      "metadata": {
        "id": "CqkSpCMHJCC-",
        "colab_type": "text"
      },
      "source": [
        "Here we are spliting the data to a train and test set for initial training and validation. For the final model we will retrain using the complete dataset."
      ]
    },
    {
      "cell_type": "code",
      "metadata": {
        "colab_type": "code",
        "id": "9vbe_QRwe_V9",
        "colab": {}
      },
      "source": [
        "split_size = 0.80\n",
        "train_size = int(len(df1)*split_size)\n",
        "train_data,test_data = df1[0:train_size,:],df1[train_size:,:1]"
      ],
      "execution_count": 55,
      "outputs": []
    },
    {
      "cell_type": "code",
      "metadata": {
        "colab_type": "code",
        "id": "nLFbSnF_e_WA",
        "colab": {
          "base_uri": "https://localhost:8080/",
          "height": 34
        },
        "outputId": "b70f9251-be79-47f5-da9b-036470671f01"
      },
      "source": [
        "len(test_data)"
      ],
      "execution_count": 56,
      "outputs": [
        {
          "output_type": "execute_result",
          "data": {
            "text/plain": [
              "252"
            ]
          },
          "metadata": {
            "tags": []
          },
          "execution_count": 56
        }
      ]
    },
    {
      "cell_type": "code",
      "metadata": {
        "colab_type": "code",
        "id": "g4k1MX4qe_WC",
        "colab": {
          "base_uri": "https://localhost:8080/",
          "height": 34
        },
        "outputId": "4adbb120-4dc6-4cbb-ae96-85d6dc4fa14b"
      },
      "source": [
        "len(train_data)"
      ],
      "execution_count": 57,
      "outputs": [
        {
          "output_type": "execute_result",
          "data": {
            "text/plain": [
              "1005"
            ]
          },
          "metadata": {
            "tags": []
          },
          "execution_count": 57
        }
      ]
    },
    {
      "cell_type": "code",
      "metadata": {
        "colab_type": "code",
        "id": "Ihr0-B-ee_WF",
        "colab": {}
      },
      "source": [
        "def create_dataset(dataset,time_step=1):\n",
        "    dataX,dataY = [],[]\n",
        "    for i in range(len(dataset)-time_step-1):\n",
        "        a = dataset[i:(i+time_step),0]\n",
        "        dataX.append(a)\n",
        "        dataY.append(dataset[i+time_step,0])\n",
        "    return np.array(dataX),np.array(dataY)"
      ],
      "execution_count": 58,
      "outputs": []
    },
    {
      "cell_type": "markdown",
      "metadata": {
        "id": "A7ARRh3EJU-C",
        "colab_type": "text"
      },
      "source": [
        "this function creates the dataset that contains the set previous values of the stock for a brief period of time. This allows the model to have a 'memory' of that particular time frame"
      ]
    },
    {
      "cell_type": "code",
      "metadata": {
        "colab_type": "code",
        "id": "qV3kFFKme_WH",
        "colab": {}
      },
      "source": [
        "time_step = 100\n",
        "X_train,y_train = create_dataset(train_data,time_step)\n",
        "X_test,y_test = create_dataset(test_data,time_step)"
      ],
      "execution_count": 59,
      "outputs": []
    },
    {
      "cell_type": "code",
      "metadata": {
        "colab_type": "code",
        "id": "GYa0jnUxe_WL",
        "colab": {
          "base_uri": "https://localhost:8080/",
          "height": 238
        },
        "outputId": "a377fd87-e5ab-4cb7-c9f5-7d93a46e7d11"
      },
      "source": [
        "X_train"
      ],
      "execution_count": 60,
      "outputs": [
        {
          "output_type": "execute_result",
          "data": {
            "text/plain": [
              "array([[0.02525476, 0.02392556, 0.04164821, ..., 0.24102791, 0.21621622,\n",
              "        0.22862206],\n",
              "       [0.02392556, 0.04164821, 0.0704475 , ..., 0.21621622, 0.22862206,\n",
              "        0.22020381],\n",
              "       [0.04164821, 0.0704475 , 0.08063802, ..., 0.22862206, 0.22020381,\n",
              "        0.21621622],\n",
              "       ...,\n",
              "       [0.40540541, 0.4067346 , 0.41825432, ..., 0.77492246, 0.7744794 ,\n",
              "        0.78599911],\n",
              "       [0.4067346 , 0.41825432, 0.41603899, ..., 0.7744794 , 0.78599911,\n",
              "        0.80682322],\n",
              "       [0.41825432, 0.41603899, 0.43066017, ..., 0.78599911, 0.80682322,\n",
              "        0.77802393]])"
            ]
          },
          "metadata": {
            "tags": []
          },
          "execution_count": 60
        }
      ]
    },
    {
      "cell_type": "code",
      "metadata": {
        "colab_type": "code",
        "id": "1fvkpckRe_WN",
        "colab": {
          "base_uri": "https://localhost:8080/",
          "height": 51
        },
        "outputId": "5b60eb7f-a738-41aa-b5eb-73fffb8c0194"
      },
      "source": [
        "print(y_train.shape)\n",
        "print(X_train.shape)"
      ],
      "execution_count": 61,
      "outputs": [
        {
          "output_type": "stream",
          "text": [
            "(904,)\n",
            "(904, 100)\n"
          ],
          "name": "stdout"
        }
      ]
    },
    {
      "cell_type": "markdown",
      "metadata": {
        "id": "cJ5Mg3ScJqlT",
        "colab_type": "text"
      },
      "source": [
        "The next cell reshapes the data to a 3 dimensions, LSTM's require this."
      ]
    },
    {
      "cell_type": "code",
      "metadata": {
        "colab_type": "code",
        "id": "4vY8y04ge_WQ",
        "colab": {}
      },
      "source": [
        "#reshape data to be [sample,time_ steps,features] ie 3 dimensions\n",
        "X_train = X_train.reshape(X_train.shape[0],X_train.shape[1],1)\n",
        "X_test = X_test.reshape(X_test.shape[0],X_test.shape[1],1)"
      ],
      "execution_count": 62,
      "outputs": []
    },
    {
      "cell_type": "markdown",
      "metadata": {
        "colab_type": "text",
        "id": "cwxQiRU3e_WS"
      },
      "source": [
        "# Create LSTM Model"
      ]
    },
    {
      "cell_type": "code",
      "metadata": {
        "colab_type": "code",
        "id": "gSjQ7LDoe_WT",
        "colab": {}
      },
      "source": [
        "from tensorflow.keras.models import Sequential\n",
        "from tensorflow.keras.layers import Dense,LSTM,Bidirectional,Dropout\n",
        "model = Sequential()\n",
        "model.add(Bidirectional(LSTM(50,return_sequences = True), input_shape = (time_step,1)))\n",
        "model.add(LSTM(50,return_sequences = True))\n",
        "model.add(LSTM(50))\n",
        "model.add(Dense(512,activation='relu'))\n",
        "model.add(Dropout(0.5))\n",
        "model.add(Dense(256,activation='relu'))\n",
        "model.add(Dropout(0.5))\n",
        "model.add(Dense(1,activation='sigmoid'))\n",
        "\n",
        "model.compile(loss='mean_squared_error',optimizer='adam')"
      ],
      "execution_count": 63,
      "outputs": []
    },
    {
      "cell_type": "code",
      "metadata": {
        "colab_type": "code",
        "id": "Q7TYN3Nje_WW",
        "colab": {
          "base_uri": "https://localhost:8080/",
          "height": 425
        },
        "outputId": "b59ecb81-50f3-4d6d-cf5a-0a4308923a03"
      },
      "source": [
        "model.summary()"
      ],
      "execution_count": 64,
      "outputs": [
        {
          "output_type": "stream",
          "text": [
            "Model: \"sequential_1\"\n",
            "_________________________________________________________________\n",
            "Layer (type)                 Output Shape              Param #   \n",
            "=================================================================\n",
            "bidirectional_1 (Bidirection (None, 100, 100)          20800     \n",
            "_________________________________________________________________\n",
            "lstm_4 (LSTM)                (None, 100, 50)           30200     \n",
            "_________________________________________________________________\n",
            "lstm_5 (LSTM)                (None, 50)                20200     \n",
            "_________________________________________________________________\n",
            "dense_3 (Dense)              (None, 512)               26112     \n",
            "_________________________________________________________________\n",
            "dropout_2 (Dropout)          (None, 512)               0         \n",
            "_________________________________________________________________\n",
            "dense_4 (Dense)              (None, 256)               131328    \n",
            "_________________________________________________________________\n",
            "dropout_3 (Dropout)          (None, 256)               0         \n",
            "_________________________________________________________________\n",
            "dense_5 (Dense)              (None, 1)                 257       \n",
            "=================================================================\n",
            "Total params: 228,897\n",
            "Trainable params: 228,897\n",
            "Non-trainable params: 0\n",
            "_________________________________________________________________\n"
          ],
          "name": "stdout"
        }
      ]
    },
    {
      "cell_type": "code",
      "metadata": {
        "colab_type": "code",
        "id": "_EJQgPDJe_WY",
        "colab": {
          "base_uri": "https://localhost:8080/",
          "height": 1000
        },
        "outputId": "ffcea1fb-ca9f-4b10-c066-bb47990fb60e"
      },
      "source": [
        "model.fit(X_train,y_train,validation_data=(X_test,y_test),epochs=100,batch_size=64,verbose=2)"
      ],
      "execution_count": 65,
      "outputs": [
        {
          "output_type": "stream",
          "text": [
            "Epoch 1/100\n",
            "15/15 - 2s - loss: 0.0252 - val_loss: 0.0567\n",
            "Epoch 2/100\n",
            "15/15 - 0s - loss: 0.0154 - val_loss: 0.0354\n",
            "Epoch 3/100\n",
            "15/15 - 0s - loss: 0.0053 - val_loss: 0.0249\n",
            "Epoch 4/100\n",
            "15/15 - 0s - loss: 0.0027 - val_loss: 0.0219\n",
            "Epoch 5/100\n",
            "15/15 - 0s - loss: 0.0028 - val_loss: 0.0208\n",
            "Epoch 6/100\n",
            "15/15 - 0s - loss: 0.0028 - val_loss: 0.0202\n",
            "Epoch 7/100\n",
            "15/15 - 0s - loss: 0.0022 - val_loss: 0.0177\n",
            "Epoch 8/100\n",
            "15/15 - 0s - loss: 0.0020 - val_loss: 0.0160\n",
            "Epoch 9/100\n",
            "15/15 - 0s - loss: 0.0020 - val_loss: 0.0150\n",
            "Epoch 10/100\n",
            "15/15 - 0s - loss: 0.0018 - val_loss: 0.0143\n",
            "Epoch 11/100\n",
            "15/15 - 0s - loss: 0.0017 - val_loss: 0.0140\n",
            "Epoch 12/100\n",
            "15/15 - 0s - loss: 0.0015 - val_loss: 0.0135\n",
            "Epoch 13/100\n",
            "15/15 - 0s - loss: 0.0017 - val_loss: 0.0129\n",
            "Epoch 14/100\n",
            "15/15 - 0s - loss: 0.0017 - val_loss: 0.0124\n",
            "Epoch 15/100\n",
            "15/15 - 0s - loss: 0.0022 - val_loss: 0.0134\n",
            "Epoch 16/100\n",
            "15/15 - 0s - loss: 0.0016 - val_loss: 0.0124\n",
            "Epoch 17/100\n",
            "15/15 - 0s - loss: 0.0014 - val_loss: 0.0123\n",
            "Epoch 18/100\n",
            "15/15 - 0s - loss: 0.0014 - val_loss: 0.0115\n",
            "Epoch 19/100\n",
            "15/15 - 0s - loss: 0.0014 - val_loss: 0.0111\n",
            "Epoch 20/100\n",
            "15/15 - 0s - loss: 0.0013 - val_loss: 0.0101\n",
            "Epoch 21/100\n",
            "15/15 - 0s - loss: 0.0016 - val_loss: 0.0101\n",
            "Epoch 22/100\n",
            "15/15 - 0s - loss: 0.0013 - val_loss: 0.0103\n",
            "Epoch 23/100\n",
            "15/15 - 0s - loss: 0.0012 - val_loss: 0.0097\n",
            "Epoch 24/100\n",
            "15/15 - 0s - loss: 0.0013 - val_loss: 0.0097\n",
            "Epoch 25/100\n",
            "15/15 - 0s - loss: 0.0014 - val_loss: 0.0093\n",
            "Epoch 26/100\n",
            "15/15 - 0s - loss: 0.0012 - val_loss: 0.0092\n",
            "Epoch 27/100\n",
            "15/15 - 0s - loss: 0.0012 - val_loss: 0.0094\n",
            "Epoch 28/100\n",
            "15/15 - 0s - loss: 0.0011 - val_loss: 0.0088\n",
            "Epoch 29/100\n",
            "15/15 - 0s - loss: 0.0011 - val_loss: 0.0088\n",
            "Epoch 30/100\n",
            "15/15 - 0s - loss: 9.8840e-04 - val_loss: 0.0081\n",
            "Epoch 31/100\n",
            "15/15 - 0s - loss: 0.0011 - val_loss: 0.0082\n",
            "Epoch 32/100\n",
            "15/15 - 0s - loss: 0.0012 - val_loss: 0.0080\n",
            "Epoch 33/100\n",
            "15/15 - 0s - loss: 0.0010 - val_loss: 0.0090\n",
            "Epoch 34/100\n",
            "15/15 - 0s - loss: 0.0011 - val_loss: 0.0089\n",
            "Epoch 35/100\n",
            "15/15 - 0s - loss: 0.0010 - val_loss: 0.0084\n",
            "Epoch 36/100\n",
            "15/15 - 0s - loss: 0.0010 - val_loss: 0.0069\n",
            "Epoch 37/100\n",
            "15/15 - 0s - loss: 0.0012 - val_loss: 0.0067\n",
            "Epoch 38/100\n",
            "15/15 - 0s - loss: 0.0011 - val_loss: 0.0070\n",
            "Epoch 39/100\n",
            "15/15 - 0s - loss: 0.0010 - val_loss: 0.0068\n",
            "Epoch 40/100\n",
            "15/15 - 0s - loss: 0.0010 - val_loss: 0.0072\n",
            "Epoch 41/100\n",
            "15/15 - 0s - loss: 9.9693e-04 - val_loss: 0.0064\n",
            "Epoch 42/100\n",
            "15/15 - 0s - loss: 9.9527e-04 - val_loss: 0.0062\n",
            "Epoch 43/100\n",
            "15/15 - 0s - loss: 0.0010 - val_loss: 0.0063\n",
            "Epoch 44/100\n",
            "15/15 - 0s - loss: 9.2885e-04 - val_loss: 0.0060\n",
            "Epoch 45/100\n",
            "15/15 - 0s - loss: 9.1081e-04 - val_loss: 0.0059\n",
            "Epoch 46/100\n",
            "15/15 - 0s - loss: 0.0013 - val_loss: 0.0066\n",
            "Epoch 47/100\n",
            "15/15 - 0s - loss: 0.0010 - val_loss: 0.0070\n",
            "Epoch 48/100\n",
            "15/15 - 0s - loss: 9.7463e-04 - val_loss: 0.0076\n",
            "Epoch 49/100\n",
            "15/15 - 0s - loss: 0.0011 - val_loss: 0.0069\n",
            "Epoch 50/100\n",
            "15/15 - 0s - loss: 9.6555e-04 - val_loss: 0.0066\n",
            "Epoch 51/100\n",
            "15/15 - 0s - loss: 9.5833e-04 - val_loss: 0.0061\n",
            "Epoch 52/100\n",
            "15/15 - 0s - loss: 9.8645e-04 - val_loss: 0.0058\n",
            "Epoch 53/100\n",
            "15/15 - 0s - loss: 9.7788e-04 - val_loss: 0.0060\n",
            "Epoch 54/100\n",
            "15/15 - 0s - loss: 0.0011 - val_loss: 0.0058\n",
            "Epoch 55/100\n",
            "15/15 - 0s - loss: 9.5189e-04 - val_loss: 0.0062\n",
            "Epoch 56/100\n",
            "15/15 - 0s - loss: 8.7827e-04 - val_loss: 0.0061\n",
            "Epoch 57/100\n",
            "15/15 - 0s - loss: 9.9340e-04 - val_loss: 0.0066\n",
            "Epoch 58/100\n",
            "15/15 - 0s - loss: 0.0013 - val_loss: 0.0064\n",
            "Epoch 59/100\n",
            "15/15 - 0s - loss: 0.0010 - val_loss: 0.0071\n",
            "Epoch 60/100\n",
            "15/15 - 0s - loss: 9.1788e-04 - val_loss: 0.0061\n",
            "Epoch 61/100\n",
            "15/15 - 0s - loss: 8.4441e-04 - val_loss: 0.0058\n",
            "Epoch 62/100\n",
            "15/15 - 0s - loss: 9.2168e-04 - val_loss: 0.0060\n",
            "Epoch 63/100\n",
            "15/15 - 0s - loss: 9.4202e-04 - val_loss: 0.0060\n",
            "Epoch 64/100\n",
            "15/15 - 0s - loss: 8.5471e-04 - val_loss: 0.0058\n",
            "Epoch 65/100\n",
            "15/15 - 0s - loss: 9.2385e-04 - val_loss: 0.0057\n",
            "Epoch 66/100\n",
            "15/15 - 0s - loss: 8.0941e-04 - val_loss: 0.0056\n",
            "Epoch 67/100\n",
            "15/15 - 0s - loss: 8.9083e-04 - val_loss: 0.0055\n",
            "Epoch 68/100\n",
            "15/15 - 0s - loss: 9.3311e-04 - val_loss: 0.0056\n",
            "Epoch 69/100\n",
            "15/15 - 0s - loss: 8.1294e-04 - val_loss: 0.0055\n",
            "Epoch 70/100\n",
            "15/15 - 0s - loss: 8.6154e-04 - val_loss: 0.0054\n",
            "Epoch 71/100\n",
            "15/15 - 0s - loss: 8.1818e-04 - val_loss: 0.0055\n",
            "Epoch 72/100\n",
            "15/15 - 0s - loss: 8.1515e-04 - val_loss: 0.0054\n",
            "Epoch 73/100\n",
            "15/15 - 0s - loss: 8.5535e-04 - val_loss: 0.0056\n",
            "Epoch 74/100\n",
            "15/15 - 0s - loss: 8.3219e-04 - val_loss: 0.0054\n",
            "Epoch 75/100\n",
            "15/15 - 0s - loss: 8.6269e-04 - val_loss: 0.0053\n",
            "Epoch 76/100\n",
            "15/15 - 0s - loss: 8.3323e-04 - val_loss: 0.0056\n",
            "Epoch 77/100\n",
            "15/15 - 0s - loss: 0.0011 - val_loss: 0.0054\n",
            "Epoch 78/100\n",
            "15/15 - 0s - loss: 0.0011 - val_loss: 0.0055\n",
            "Epoch 79/100\n",
            "15/15 - 0s - loss: 8.8138e-04 - val_loss: 0.0056\n",
            "Epoch 80/100\n",
            "15/15 - 0s - loss: 9.6750e-04 - val_loss: 0.0054\n",
            "Epoch 81/100\n",
            "15/15 - 0s - loss: 8.1666e-04 - val_loss: 0.0055\n",
            "Epoch 82/100\n",
            "15/15 - 0s - loss: 8.8052e-04 - val_loss: 0.0054\n",
            "Epoch 83/100\n",
            "15/15 - 0s - loss: 9.0254e-04 - val_loss: 0.0053\n",
            "Epoch 84/100\n",
            "15/15 - 0s - loss: 8.9065e-04 - val_loss: 0.0050\n",
            "Epoch 85/100\n",
            "15/15 - 0s - loss: 8.4478e-04 - val_loss: 0.0050\n",
            "Epoch 86/100\n",
            "15/15 - 0s - loss: 9.1307e-04 - val_loss: 0.0050\n",
            "Epoch 87/100\n",
            "15/15 - 0s - loss: 8.9069e-04 - val_loss: 0.0053\n",
            "Epoch 88/100\n",
            "15/15 - 0s - loss: 9.7283e-04 - val_loss: 0.0058\n",
            "Epoch 89/100\n",
            "15/15 - 0s - loss: 0.0010 - val_loss: 0.0054\n",
            "Epoch 90/100\n",
            "15/15 - 0s - loss: 9.3291e-04 - val_loss: 0.0053\n",
            "Epoch 91/100\n",
            "15/15 - 0s - loss: 7.7908e-04 - val_loss: 0.0051\n",
            "Epoch 92/100\n",
            "15/15 - 0s - loss: 8.7577e-04 - val_loss: 0.0053\n",
            "Epoch 93/100\n",
            "15/15 - 0s - loss: 8.6671e-04 - val_loss: 0.0052\n",
            "Epoch 94/100\n",
            "15/15 - 0s - loss: 8.7228e-04 - val_loss: 0.0054\n",
            "Epoch 95/100\n",
            "15/15 - 0s - loss: 7.7499e-04 - val_loss: 0.0050\n",
            "Epoch 96/100\n",
            "15/15 - 0s - loss: 7.0208e-04 - val_loss: 0.0050\n",
            "Epoch 97/100\n",
            "15/15 - 0s - loss: 8.7405e-04 - val_loss: 0.0049\n",
            "Epoch 98/100\n",
            "15/15 - 0s - loss: 7.7378e-04 - val_loss: 0.0052\n",
            "Epoch 99/100\n",
            "15/15 - 0s - loss: 7.8629e-04 - val_loss: 0.0051\n",
            "Epoch 100/100\n",
            "15/15 - 0s - loss: 7.5643e-04 - val_loss: 0.0051\n"
          ],
          "name": "stdout"
        },
        {
          "output_type": "execute_result",
          "data": {
            "text/plain": [
              "<tensorflow.python.keras.callbacks.History at 0x7ff72acf4748>"
            ]
          },
          "metadata": {
            "tags": []
          },
          "execution_count": 65
        }
      ]
    },
    {
      "cell_type": "code",
      "metadata": {
        "colab_type": "code",
        "id": "Tc0bACRmngVt",
        "colab": {}
      },
      "source": [
        "final_train,final_test = create_dataset(df1,100)"
      ],
      "execution_count": 66,
      "outputs": []
    },
    {
      "cell_type": "code",
      "metadata": {
        "colab_type": "code",
        "id": "LoCbM0Iqnz_x",
        "colab": {}
      },
      "source": [
        "#reshape\n",
        "final_train = final_train.reshape(final_train.shape[0],final_train.shape[1],1)"
      ],
      "execution_count": 67,
      "outputs": []
    },
    {
      "cell_type": "code",
      "metadata": {
        "colab_type": "code",
        "id": "UK-7ypKanoap",
        "colab": {
          "base_uri": "https://localhost:8080/",
          "height": 1000
        },
        "outputId": "151b2db4-23f2-44b0-9427-1d11cac94a93"
      },
      "source": [
        "model.fit(final_train,final_test,epochs=100,batch_size=64,verbose=2)"
      ],
      "execution_count": 68,
      "outputs": [
        {
          "output_type": "stream",
          "text": [
            "Epoch 1/100\n",
            "19/19 - 0s - loss: 0.0015\n",
            "Epoch 2/100\n",
            "19/19 - 0s - loss: 0.0019\n",
            "Epoch 3/100\n",
            "19/19 - 0s - loss: 0.0015\n",
            "Epoch 4/100\n",
            "19/19 - 0s - loss: 0.0015\n",
            "Epoch 5/100\n",
            "19/19 - 0s - loss: 0.0013\n",
            "Epoch 6/100\n",
            "19/19 - 0s - loss: 0.0015\n",
            "Epoch 7/100\n",
            "19/19 - 0s - loss: 0.0015\n",
            "Epoch 8/100\n",
            "19/19 - 0s - loss: 0.0014\n",
            "Epoch 9/100\n",
            "19/19 - 0s - loss: 0.0016\n",
            "Epoch 10/100\n",
            "19/19 - 0s - loss: 0.0013\n",
            "Epoch 11/100\n",
            "19/19 - 0s - loss: 0.0016\n",
            "Epoch 12/100\n",
            "19/19 - 0s - loss: 0.0015\n",
            "Epoch 13/100\n",
            "19/19 - 0s - loss: 0.0016\n",
            "Epoch 14/100\n",
            "19/19 - 0s - loss: 0.0018\n",
            "Epoch 15/100\n",
            "19/19 - 0s - loss: 0.0017\n",
            "Epoch 16/100\n",
            "19/19 - 0s - loss: 0.0017\n",
            "Epoch 17/100\n",
            "19/19 - 0s - loss: 0.0015\n",
            "Epoch 18/100\n",
            "19/19 - 0s - loss: 0.0015\n",
            "Epoch 19/100\n",
            "19/19 - 0s - loss: 0.0014\n",
            "Epoch 20/100\n",
            "19/19 - 0s - loss: 0.0014\n",
            "Epoch 21/100\n",
            "19/19 - 0s - loss: 0.0016\n",
            "Epoch 22/100\n",
            "19/19 - 0s - loss: 0.0015\n",
            "Epoch 23/100\n",
            "19/19 - 0s - loss: 0.0014\n",
            "Epoch 24/100\n",
            "19/19 - 0s - loss: 0.0013\n",
            "Epoch 25/100\n",
            "19/19 - 0s - loss: 0.0013\n",
            "Epoch 26/100\n",
            "19/19 - 0s - loss: 0.0013\n",
            "Epoch 27/100\n",
            "19/19 - 0s - loss: 0.0013\n",
            "Epoch 28/100\n",
            "19/19 - 0s - loss: 0.0015\n",
            "Epoch 29/100\n",
            "19/19 - 0s - loss: 0.0014\n",
            "Epoch 30/100\n",
            "19/19 - 0s - loss: 0.0013\n",
            "Epoch 31/100\n",
            "19/19 - 0s - loss: 0.0012\n",
            "Epoch 32/100\n",
            "19/19 - 0s - loss: 0.0013\n",
            "Epoch 33/100\n",
            "19/19 - 0s - loss: 0.0013\n",
            "Epoch 34/100\n",
            "19/19 - 0s - loss: 0.0013\n",
            "Epoch 35/100\n",
            "19/19 - 0s - loss: 0.0015\n",
            "Epoch 36/100\n",
            "19/19 - 0s - loss: 0.0015\n",
            "Epoch 37/100\n",
            "19/19 - 0s - loss: 0.0016\n",
            "Epoch 38/100\n",
            "19/19 - 0s - loss: 0.0014\n",
            "Epoch 39/100\n",
            "19/19 - 0s - loss: 0.0013\n",
            "Epoch 40/100\n",
            "19/19 - 0s - loss: 0.0013\n",
            "Epoch 41/100\n",
            "19/19 - 0s - loss: 0.0013\n",
            "Epoch 42/100\n",
            "19/19 - 0s - loss: 0.0012\n",
            "Epoch 43/100\n",
            "19/19 - 0s - loss: 0.0012\n",
            "Epoch 44/100\n",
            "19/19 - 0s - loss: 0.0011\n",
            "Epoch 45/100\n",
            "19/19 - 0s - loss: 0.0012\n",
            "Epoch 46/100\n",
            "19/19 - 0s - loss: 0.0013\n",
            "Epoch 47/100\n",
            "19/19 - 0s - loss: 0.0014\n",
            "Epoch 48/100\n",
            "19/19 - 0s - loss: 0.0013\n",
            "Epoch 49/100\n",
            "19/19 - 0s - loss: 0.0012\n",
            "Epoch 50/100\n",
            "19/19 - 0s - loss: 0.0011\n",
            "Epoch 51/100\n",
            "19/19 - 0s - loss: 0.0013\n",
            "Epoch 52/100\n",
            "19/19 - 0s - loss: 0.0013\n",
            "Epoch 53/100\n",
            "19/19 - 0s - loss: 0.0012\n",
            "Epoch 54/100\n",
            "19/19 - 0s - loss: 0.0012\n",
            "Epoch 55/100\n",
            "19/19 - 0s - loss: 0.0012\n",
            "Epoch 56/100\n",
            "19/19 - 0s - loss: 0.0012\n",
            "Epoch 57/100\n",
            "19/19 - 0s - loss: 0.0014\n",
            "Epoch 58/100\n",
            "19/19 - 0s - loss: 0.0013\n",
            "Epoch 59/100\n",
            "19/19 - 0s - loss: 0.0011\n",
            "Epoch 60/100\n",
            "19/19 - 0s - loss: 0.0011\n",
            "Epoch 61/100\n",
            "19/19 - 0s - loss: 0.0013\n",
            "Epoch 62/100\n",
            "19/19 - 0s - loss: 0.0012\n",
            "Epoch 63/100\n",
            "19/19 - 0s - loss: 0.0012\n",
            "Epoch 64/100\n",
            "19/19 - 0s - loss: 0.0012\n",
            "Epoch 65/100\n",
            "19/19 - 0s - loss: 0.0012\n",
            "Epoch 66/100\n",
            "19/19 - 0s - loss: 0.0012\n",
            "Epoch 67/100\n",
            "19/19 - 0s - loss: 0.0013\n",
            "Epoch 68/100\n",
            "19/19 - 0s - loss: 0.0013\n",
            "Epoch 69/100\n",
            "19/19 - 0s - loss: 0.0013\n",
            "Epoch 70/100\n",
            "19/19 - 0s - loss: 0.0012\n",
            "Epoch 71/100\n",
            "19/19 - 0s - loss: 0.0012\n",
            "Epoch 72/100\n",
            "19/19 - 0s - loss: 0.0013\n",
            "Epoch 73/100\n",
            "19/19 - 0s - loss: 0.0013\n",
            "Epoch 74/100\n",
            "19/19 - 0s - loss: 0.0011\n",
            "Epoch 75/100\n",
            "19/19 - 0s - loss: 0.0013\n",
            "Epoch 76/100\n",
            "19/19 - 0s - loss: 0.0012\n",
            "Epoch 77/100\n",
            "19/19 - 0s - loss: 0.0012\n",
            "Epoch 78/100\n",
            "19/19 - 0s - loss: 0.0012\n",
            "Epoch 79/100\n",
            "19/19 - 0s - loss: 0.0012\n",
            "Epoch 80/100\n",
            "19/19 - 0s - loss: 0.0012\n",
            "Epoch 81/100\n",
            "19/19 - 0s - loss: 0.0012\n",
            "Epoch 82/100\n",
            "19/19 - 0s - loss: 0.0012\n",
            "Epoch 83/100\n",
            "19/19 - 0s - loss: 0.0011\n",
            "Epoch 84/100\n",
            "19/19 - 0s - loss: 0.0012\n",
            "Epoch 85/100\n",
            "19/19 - 0s - loss: 0.0013\n",
            "Epoch 86/100\n",
            "19/19 - 0s - loss: 0.0012\n",
            "Epoch 87/100\n",
            "19/19 - 0s - loss: 0.0011\n",
            "Epoch 88/100\n",
            "19/19 - 0s - loss: 0.0011\n",
            "Epoch 89/100\n",
            "19/19 - 0s - loss: 0.0011\n",
            "Epoch 90/100\n",
            "19/19 - 0s - loss: 0.0011\n",
            "Epoch 91/100\n",
            "19/19 - 0s - loss: 0.0014\n",
            "Epoch 92/100\n",
            "19/19 - 0s - loss: 0.0013\n",
            "Epoch 93/100\n",
            "19/19 - 0s - loss: 0.0012\n",
            "Epoch 94/100\n",
            "19/19 - 0s - loss: 0.0011\n",
            "Epoch 95/100\n",
            "19/19 - 0s - loss: 0.0014\n",
            "Epoch 96/100\n",
            "19/19 - 0s - loss: 0.0012\n",
            "Epoch 97/100\n",
            "19/19 - 0s - loss: 0.0012\n",
            "Epoch 98/100\n",
            "19/19 - 0s - loss: 0.0012\n",
            "Epoch 99/100\n",
            "19/19 - 0s - loss: 0.0013\n",
            "Epoch 100/100\n",
            "19/19 - 0s - loss: 0.0012\n"
          ],
          "name": "stdout"
        },
        {
          "output_type": "execute_result",
          "data": {
            "text/plain": [
              "<tensorflow.python.keras.callbacks.History at 0x7ff7286365f8>"
            ]
          },
          "metadata": {
            "tags": []
          },
          "execution_count": 68
        }
      ]
    },
    {
      "cell_type": "markdown",
      "metadata": {
        "colab_type": "text",
        "id": "FVMGQo1de_Wb"
      },
      "source": [
        "# Predict the plot outcome"
      ]
    },
    {
      "cell_type": "code",
      "metadata": {
        "colab_type": "code",
        "id": "Hyvjfjuue_Wb",
        "colab": {}
      },
      "source": [
        "train_predict = model.predict(X_train)\n",
        "test_predict = model.predict(X_test)"
      ],
      "execution_count": 69,
      "outputs": []
    },
    {
      "cell_type": "code",
      "metadata": {
        "colab_type": "code",
        "id": "zH2k0qv4e_We",
        "colab": {
          "base_uri": "https://localhost:8080/",
          "height": 34
        },
        "outputId": "975957ea-824f-451f-9b16-56d1d32c0633"
      },
      "source": [
        "from sklearn.metrics import mean_squared_error\n",
        "np.sqrt(mean_squared_error(y_train,train_predict))"
      ],
      "execution_count": 70,
      "outputs": [
        {
          "output_type": "execute_result",
          "data": {
            "text/plain": [
              "0.02394977212793675"
            ]
          },
          "metadata": {
            "tags": []
          },
          "execution_count": 70
        }
      ]
    },
    {
      "cell_type": "code",
      "metadata": {
        "colab_type": "code",
        "id": "PUGqHP9xe_Wh",
        "colab": {
          "base_uri": "https://localhost:8080/",
          "height": 34
        },
        "outputId": "d19dd7fe-325b-4d73-9ba2-36de64053db1"
      },
      "source": [
        "np.sqrt(mean_squared_error(y_test,test_predict))"
      ],
      "execution_count": 71,
      "outputs": [
        {
          "output_type": "execute_result",
          "data": {
            "text/plain": [
              "0.05554260031756981"
            ]
          },
          "metadata": {
            "tags": []
          },
          "execution_count": 71
        }
      ]
    },
    {
      "cell_type": "code",
      "metadata": {
        "colab_type": "code",
        "id": "Eq8OmP_oe_Wk",
        "colab": {
          "base_uri": "https://localhost:8080/",
          "height": 34
        },
        "outputId": "f6c2d5c0-985f-4226-a1e3-949f96748da9"
      },
      "source": [
        "len(test_data)"
      ],
      "execution_count": 72,
      "outputs": [
        {
          "output_type": "execute_result",
          "data": {
            "text/plain": [
              "252"
            ]
          },
          "metadata": {
            "tags": []
          },
          "execution_count": 72
        }
      ]
    },
    {
      "cell_type": "code",
      "metadata": {
        "colab_type": "code",
        "id": "JgVy7yOVe_Wn",
        "colab": {
          "base_uri": "https://localhost:8080/",
          "height": 265
        },
        "outputId": "12e301cb-dd8a-4c4f-b5d7-68a781f6f2a2"
      },
      "source": [
        "\n",
        "### Plotting \n",
        "# shift train predictions for plotting\n",
        "look_back=100\n",
        "trainPredictPlot = np.empty_like(df1)\n",
        "trainPredictPlot[:, :] = np.nan\n",
        "trainPredictPlot[look_back:len(train_predict)+look_back, :] = train_predict\n",
        "# shift test predictions for plotting\n",
        "testPredictPlot = np.empty_like(df1)\n",
        "testPredictPlot[:, :] = np.nan\n",
        "testPredictPlot[len(train_predict)+(look_back*2)+1:len(df1)-1, :] = test_predict\n",
        "# plot baseline and predictions\n",
        "plt.plot(scaler.inverse_transform(df1))\n",
        "plt.plot(scaler.inverse_transform(trainPredictPlot))\n",
        "plt.plot(scaler.inverse_transform(testPredictPlot))\n",
        "plt.show()"
      ],
      "execution_count": 73,
      "outputs": [
        {
          "output_type": "display_data",
          "data": {
            "image/png": "[encoded data removed]",
            "text/plain": [
              "<Figure size 432x288 with 1 Axes>"
            ]
          },
          "metadata": {
            "tags": [],
            "needs_background": "light"
          }
        }
      ]
    },
    {
      "cell_type": "markdown",
      "metadata": {
        "colab_type": "text",
        "id": "OOL9ooGAe_Wq"
      },
      "source": [
        "# Predict the next 30 days"
      ]
    },
    {
      "cell_type": "code",
      "metadata": {
        "colab_type": "code",
        "id": "HOTXCvVue_Wr",
        "colab": {
          "base_uri": "https://localhost:8080/",
          "height": 34
        },
        "outputId": "f8165962-d2a5-457c-b1ca-45af99865f0b"
      },
      "source": [
        "len(test_data)"
      ],
      "execution_count": 74,
      "outputs": [
        {
          "output_type": "execute_result",
          "data": {
            "text/plain": [
              "252"
            ]
          },
          "metadata": {
            "tags": []
          },
          "execution_count": 74
        }
      ]
    },
    {
      "cell_type": "code",
      "metadata": {
        "colab_type": "code",
        "id": "mH7yBkgSe_Wt",
        "colab": {
          "base_uri": "https://localhost:8080/",
          "height": 34
        },
        "outputId": "2dd7f300-f18a-4760-96a5-e4c6f02a439f"
      },
      "source": [
        "x_input=test_data[len(test_data)-100:].reshape(1,-1)\n",
        "x_input.shape"
      ],
      "execution_count": 75,
      "outputs": [
        {
          "output_type": "execute_result",
          "data": {
            "text/plain": [
              "(1, 100)"
            ]
          },
          "metadata": {
            "tags": []
          },
          "execution_count": 75
        }
      ]
    },
    {
      "cell_type": "code",
      "metadata": {
        "colab_type": "code",
        "id": "Cy581fOce_Wv",
        "colab": {}
      },
      "source": [
        "temp_input=list(x_input)\n",
        "temp_input=temp_input[0].tolist()"
      ],
      "execution_count": 76,
      "outputs": []
    },
    {
      "cell_type": "code",
      "metadata": {
        "colab_type": "code",
        "id": "u3r_zOTVe_Wx",
        "colab": {}
      },
      "source": [
        "# demonstrate prediction for next 10 days\n",
        "from numpy import array\n",
        "\n",
        "lst_output=[]\n",
        "n_steps=100\n",
        "i=0\n",
        "days = 30\n",
        "while(i<days):\n",
        "    \n",
        "    if(len(temp_input)>100):\n",
        "        x_input=np.array(temp_input[1:])\n",
        "        x_input=x_input.reshape(1,-1)\n",
        "        x_input = x_input.reshape((1, n_steps, 1))\n",
        "        yhat = model.predict(x_input, verbose=0)\n",
        "        temp_input.extend(yhat[0].tolist())\n",
        "        temp_input=temp_input[1:]\n",
        "        lst_output.extend(yhat.tolist())\n",
        "        i=i+1\n",
        "    else:\n",
        "        x_input = x_input.reshape((1, n_steps,1))\n",
        "        yhat = model.predict(x_input, verbose=0)\n",
        "        temp_input.extend(yhat[0].tolist())\n",
        "        lst_output.extend(yhat.tolist())\n",
        "        i=i+1\n",
        "    "
      ],
      "execution_count": 77,
      "outputs": []
    },
    {
      "cell_type": "code",
      "metadata": {
        "colab_type": "code",
        "id": "h2Aennyse_W0",
        "colab": {}
      },
      "source": [
        "day_new=np.arange(1,101)\n",
        "day_pred=np.arange(101,101+days)"
      ],
      "execution_count": 78,
      "outputs": []
    },
    {
      "cell_type": "code",
      "metadata": {
        "colab_type": "code",
        "id": "LUDSXnPZe_W3",
        "colab": {
          "base_uri": "https://localhost:8080/",
          "height": 34
        },
        "outputId": "31c76cc0-8ab4-434a-b45d-46d01dad8e79"
      },
      "source": [
        "len(df1)"
      ],
      "execution_count": 79,
      "outputs": [
        {
          "output_type": "execute_result",
          "data": {
            "text/plain": [
              "1257"
            ]
          },
          "metadata": {
            "tags": []
          },
          "execution_count": 79
        }
      ]
    },
    {
      "cell_type": "code",
      "metadata": {
        "colab_type": "code",
        "id": "GsV8TMBRe_W5",
        "colab": {
          "base_uri": "https://localhost:8080/",
          "height": 282
        },
        "outputId": "ca532bac-499c-42a5-bb10-520f0e5e59d7"
      },
      "source": [
        "plt.plot(day_new,scaler.inverse_transform(df1[len(df1)-100:]))\n",
        "plt.plot(day_pred,scaler.inverse_transform(lst_output))"
      ],
      "execution_count": 80,
      "outputs": [
        {
          "output_type": "execute_result",
          "data": {
            "text/plain": [
              "[<matplotlib.lines.Line2D at 0x7ff728293898>]"
            ]
          },
          "metadata": {
            "tags": []
          },
          "execution_count": 80
        },
        {
          "output_type": "display_data",
          "data": {
            "image/png": "[encoded data removed]",
            "text/plain": [
              "<Figure size 432x288 with 1 Axes>"
            ]
          },
          "metadata": {
            "tags": [],
            "needs_background": "light"
          }
        }
      ]
    },
    {
      "cell_type": "markdown",
      "metadata": {
        "id": "o-B5EgjBOn9V",
        "colab_type": "text"
      },
      "source": [
        "These are the results"
      ]
    },
    {
      "cell_type": "code",
      "metadata": {
        "colab_type": "code",
        "id": "A4TwNAkUe_W8",
        "colab": {
          "base_uri": "https://localhost:8080/",
          "height": 282
        },
        "outputId": "d70492ac-a9c8-4e56-c702-746c78b6e973"
      },
      "source": [
        "df3=df1.tolist()\n",
        "df3.extend(lst_output)\n",
        "plt.plot(scaler.inverse_transform(df3[1200:]))"
      ],
      "execution_count": 81,
      "outputs": [
        {
          "output_type": "execute_result",
          "data": {
            "text/plain": [
              "[<matplotlib.lines.Line2D at 0x7ff728267780>]"
            ]
          },
          "metadata": {
            "tags": []
          },
          "execution_count": 81
        },
        {
          "output_type": "display_data",
          "data": {
            "image/png": "[encoded data removed]",
            "text/plain": [
              "<Figure size 432x288 with 1 Axes>"
            ]
          },
          "metadata": {
            "tags": [],
            "needs_background": "light"
          }
        }
      ]
    },
    {
      "cell_type": "markdown",
      "metadata": {
        "id": "M_ghAozhOr19",
        "colab_type": "text"
      },
      "source": [
        "These are the results rounded to the last 100 days"
      ]
    },
    {
      "cell_type": "code",
      "metadata": {
        "colab_type": "code",
        "id": "Khy3EbrZe_W-",
        "colab": {
          "base_uri": "https://localhost:8080/",
          "height": 282
        },
        "outputId": "a5d4f7a2-b3f8-4f2c-cfdd-46bb91c42fca"
      },
      "source": [
        "df3=scaler.inverse_transform(df3).tolist()\n",
        "plt.plot(df3)"
      ],
      "execution_count": 82,
      "outputs": [
        {
          "output_type": "execute_result",
          "data": {
            "text/plain": [
              "[<matplotlib.lines.Line2D at 0x7ff72820bd30>]"
            ]
          },
          "metadata": {
            "tags": []
          },
          "execution_count": 82
        },
        {
          "output_type": "display_data",
          "data": {
            "image/png": "[encoded data removed]",
            "text/plain": [
              "<Figure size 432x288 with 1 Axes>"
            ]
          },
          "metadata": {
            "tags": [],
            "needs_background": "light"
          }
        }
      ]
    },
    {
      "cell_type": "markdown",
      "metadata": {
        "id": "oXF6_h92Ozu-",
        "colab_type": "text"
      },
      "source": [
        "this is the entire dataset included our predicted results"
      ]
    },
    {
      "cell_type": "code",
      "metadata": {
        "colab_type": "code",
        "id": "Hd0Cqew0fh88",
        "colab": {
          "base_uri": "https://localhost:8080/",
          "height": 527
        },
        "outputId": "faa2ff58-2903-4c52-b9e7-4dd0f7af6d15"
      },
      "source": [
        "output = np.array(temp_input[-30:])\n",
        "output = scaler.inverse_transform(output.reshape(-1,1))\n",
        "output"
      ],
      "execution_count": 95,
      "outputs": [
        {
          "output_type": "execute_result",
          "data": {
            "text/plain": [
              "array([[49.61326069],\n",
              "       [49.19997147],\n",
              "       [48.83226628],\n",
              "       [48.50104702],\n",
              "       [48.16635156],\n",
              "       [47.81402423],\n",
              "       [47.46563923],\n",
              "       [47.13451952],\n",
              "       [46.81698239],\n",
              "       [46.52730999],\n",
              "       [46.23203518],\n",
              "       [45.95179989],\n",
              "       [45.6858474 ],\n",
              "       [45.46183527],\n",
              "       [45.28953759],\n",
              "       [45.15942443],\n",
              "       [45.0723978 ],\n",
              "       [45.02189947],\n",
              "       [45.0044546 ],\n",
              "       [45.01557734],\n",
              "       [45.04972518],\n",
              "       [45.10194681],\n",
              "       [45.1668692 ],\n",
              "       [45.24085875],\n",
              "       [45.31901731],\n",
              "       [45.39817946],\n",
              "       [45.47820325],\n",
              "       [45.55589568],\n",
              "       [45.62635388],\n",
              "       [45.68575256]])"
            ]
          },
          "metadata": {
            "tags": []
          },
          "execution_count": 95
        }
      ]
    },
    {
      "cell_type": "markdown",
      "metadata": {
        "id": "7y_VN5tkO7Nl",
        "colab_type": "text"
      },
      "source": [
        "these are the predicted values"
      ]
    },
    {
      "cell_type": "markdown",
      "metadata": {
        "id": "Q8AFZhHwPGBI",
        "colab_type": "text"
      },
      "source": [
        "These results are purely arbitrary and i dont think its reliable enough for someone to invest their money. Iam not responsible for anyone using this model for any financial uses."
      ]
    },
    {
      "cell_type": "code",
      "metadata": {
        "id": "tf-dDncyPepY",
        "colab_type": "code",
        "colab": {}
      },
      "source": [
        ""
      ],
      "execution_count": null,
      "outputs": []
    }
  ]
}